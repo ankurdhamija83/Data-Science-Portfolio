{
 "cells": [
  {
   "cell_type": "markdown",
   "metadata": {},
   "source": [
    "# Multiple Linear Regression\n",
    "---\n",
    "\n",
    "## Housing Case Study\n",
    "\n",
    "#### Problem Statement:\n",
    "\n",
    "Consider a real estate company that has a dataset containing the prices of properties in the Delhi region. It wishes to use the data to optimise the sale prices of the properties based on important factors such as area, bedrooms, parking, etc.\n",
    "\n",
    "Essentially, the company wants —\n",
    "\n",
    "\n",
    "- To identify the variables affecting house prices, e.g. area, number of rooms, bathrooms, etc.\n",
    "\n",
    "- To create a linear model that quantitatively relates house prices with variables such as number of rooms, area, number of bathrooms, etc.\n",
    "\n",
    "- To know the accuracy of the model, i.e. how well these variables can predict house prices.\n",
    "\n",
    "#### Task\n",
    "\n",
    "- Predict the price of the house"
   ]
  },
  {
   "cell_type": "code",
   "execution_count": 1,
   "metadata": {},
   "outputs": [],
   "source": [
    "#Suppress warnings\n",
    "import warnings\n",
    "warnings.filterwarnings(\"ignore\")\n",
    "import sys\n",
    "import os"
   ]
  },
  {
   "cell_type": "code",
   "execution_count": 2,
   "metadata": {},
   "outputs": [],
   "source": [
    "# getting the name of the directory\n",
    "# where the this file is present.\n",
    "current = os.path.dirname(os.path.realpath(\"ml_utils.py\"))\n",
    "  \n",
    "# Getting the parent directory name\n",
    "# where the current directory is present.\n",
    "parent = os.path.dirname(current)\n",
    "  \n",
    "# adding the parent directory to \n",
    "# the sys.path.\n",
    "sys.path.append(parent)"
   ]
  },
  {
   "cell_type": "code",
   "execution_count": 3,
   "metadata": {},
   "outputs": [],
   "source": [
    "from ml_utils import *\n",
    "sns.set_style(\"darkgrid\")"
   ]
  },
  {
   "cell_type": "code",
   "execution_count": 4,
   "metadata": {},
   "outputs": [],
   "source": [
    "import matplotlib.pyplot as pyplot"
   ]
  },
  {
   "cell_type": "code",
   "execution_count": 5,
   "metadata": {},
   "outputs": [],
   "source": [
    "from sklearn.base import BaseEstimator, TransformerMixin\n",
    "from sklearn.preprocessing import OneHotEncoder, MinMaxScaler\n",
    "from sklearn.impute import SimpleImputer\n",
    "from sklearn.pipeline import FeatureUnion, Pipeline\n",
    "from sklearn.linear_model import LinearRegression\n",
    "from sklearn.compose import ColumnTransformer\n",
    "from sklearn.tree import DecisionTreeClassifier, DecisionTreeRegressor\n",
    "from sklearn.ensemble import RandomForestRegressor\n",
    "from sklearn.linear_model import LinearRegression, Ridge, RidgeCV, LassoCV, LassoLarsCV, MultiTaskLasso, LassoLars, ElasticNet, MultiTaskElasticNet, BayesianRidge\n",
    "from sklearn.kernel_ridge import KernelRidge\n",
    "from sklearn import svm\n",
    "from sklearn.model_selection import cross_val_score\n",
    "from sklearn.neighbors import KNeighborsRegressor\n",
    "from sklearn.preprocessing import PolynomialFeatures\n",
    "\n",
    "from sklearn.feature_selection import RFECV, RFE\n",
    "from sklearn.model_selection import KFold, GridSearchCV\n",
    "from scipy import stats"
   ]
  },
  {
   "cell_type": "code",
   "execution_count": 6,
   "metadata": {},
   "outputs": [
    {
     "data": {
      "text/html": [
       "<style>pre { white-space: pre !important; }</style>"
      ],
      "text/plain": [
       "<IPython.core.display.HTML object>"
      ]
     },
     "metadata": {},
     "output_type": "display_data"
    }
   ],
   "source": [
    "#Display settings\n",
    "from IPython.core.display import HTML\n",
    "display(HTML(\"<style>pre { white-space: pre !important; }</style>\"))"
   ]
  },
  {
   "cell_type": "code",
   "execution_count": 7,
   "metadata": {},
   "outputs": [],
   "source": [
    "from sklearn import set_config\n",
    "set_config(display=\"diagram\")"
   ]
  },
  {
   "cell_type": "code",
   "execution_count": 8,
   "metadata": {},
   "outputs": [],
   "source": [
    "#Load the dataset\n",
    "df = pd.read_csv(\"Housing.csv\")"
   ]
  },
  {
   "cell_type": "markdown",
   "metadata": {},
   "source": [
    "## 1. Data Overview"
   ]
  },
  {
   "cell_type": "code",
   "execution_count": 9,
   "metadata": {},
   "outputs": [
    {
     "data": {
      "text/html": [
       "<div>\n",
       "<style scoped>\n",
       "    .dataframe tbody tr th:only-of-type {\n",
       "        vertical-align: middle;\n",
       "    }\n",
       "\n",
       "    .dataframe tbody tr th {\n",
       "        vertical-align: top;\n",
       "    }\n",
       "\n",
       "    .dataframe thead th {\n",
       "        text-align: right;\n",
       "    }\n",
       "</style>\n",
       "<table border=\"1\" class=\"dataframe\">\n",
       "  <thead>\n",
       "    <tr style=\"text-align: right;\">\n",
       "      <th></th>\n",
       "      <th>price</th>\n",
       "      <th>area</th>\n",
       "      <th>bedrooms</th>\n",
       "      <th>bathrooms</th>\n",
       "      <th>stories</th>\n",
       "      <th>mainroad</th>\n",
       "      <th>guestroom</th>\n",
       "      <th>basement</th>\n",
       "      <th>hotwaterheating</th>\n",
       "      <th>airconditioning</th>\n",
       "      <th>parking</th>\n",
       "      <th>prefarea</th>\n",
       "      <th>furnishingstatus</th>\n",
       "    </tr>\n",
       "  </thead>\n",
       "  <tbody>\n",
       "    <tr>\n",
       "      <th>0</th>\n",
       "      <td>13300000</td>\n",
       "      <td>7420</td>\n",
       "      <td>4</td>\n",
       "      <td>2</td>\n",
       "      <td>3</td>\n",
       "      <td>yes</td>\n",
       "      <td>no</td>\n",
       "      <td>no</td>\n",
       "      <td>no</td>\n",
       "      <td>yes</td>\n",
       "      <td>2</td>\n",
       "      <td>yes</td>\n",
       "      <td>furnished</td>\n",
       "    </tr>\n",
       "    <tr>\n",
       "      <th>1</th>\n",
       "      <td>12250000</td>\n",
       "      <td>8960</td>\n",
       "      <td>4</td>\n",
       "      <td>4</td>\n",
       "      <td>4</td>\n",
       "      <td>yes</td>\n",
       "      <td>no</td>\n",
       "      <td>no</td>\n",
       "      <td>no</td>\n",
       "      <td>yes</td>\n",
       "      <td>3</td>\n",
       "      <td>no</td>\n",
       "      <td>furnished</td>\n",
       "    </tr>\n",
       "    <tr>\n",
       "      <th>2</th>\n",
       "      <td>12250000</td>\n",
       "      <td>9960</td>\n",
       "      <td>3</td>\n",
       "      <td>2</td>\n",
       "      <td>2</td>\n",
       "      <td>yes</td>\n",
       "      <td>no</td>\n",
       "      <td>yes</td>\n",
       "      <td>no</td>\n",
       "      <td>no</td>\n",
       "      <td>2</td>\n",
       "      <td>yes</td>\n",
       "      <td>semi-furnished</td>\n",
       "    </tr>\n",
       "    <tr>\n",
       "      <th>3</th>\n",
       "      <td>12215000</td>\n",
       "      <td>7500</td>\n",
       "      <td>4</td>\n",
       "      <td>2</td>\n",
       "      <td>2</td>\n",
       "      <td>yes</td>\n",
       "      <td>no</td>\n",
       "      <td>yes</td>\n",
       "      <td>no</td>\n",
       "      <td>yes</td>\n",
       "      <td>3</td>\n",
       "      <td>yes</td>\n",
       "      <td>furnished</td>\n",
       "    </tr>\n",
       "    <tr>\n",
       "      <th>4</th>\n",
       "      <td>11410000</td>\n",
       "      <td>7420</td>\n",
       "      <td>4</td>\n",
       "      <td>1</td>\n",
       "      <td>2</td>\n",
       "      <td>yes</td>\n",
       "      <td>yes</td>\n",
       "      <td>yes</td>\n",
       "      <td>no</td>\n",
       "      <td>yes</td>\n",
       "      <td>2</td>\n",
       "      <td>no</td>\n",
       "      <td>furnished</td>\n",
       "    </tr>\n",
       "  </tbody>\n",
       "</table>\n",
       "</div>"
      ],
      "text/plain": [
       "      price  area  bedrooms  bathrooms  stories mainroad guestroom basement  \\\n",
       "0  13300000  7420         4          2        3      yes        no       no   \n",
       "1  12250000  8960         4          4        4      yes        no       no   \n",
       "2  12250000  9960         3          2        2      yes        no      yes   \n",
       "3  12215000  7500         4          2        2      yes        no      yes   \n",
       "4  11410000  7420         4          1        2      yes       yes      yes   \n",
       "\n",
       "  hotwaterheating airconditioning  parking prefarea furnishingstatus  \n",
       "0              no             yes        2      yes        furnished  \n",
       "1              no             yes        3       no        furnished  \n",
       "2              no              no        2      yes   semi-furnished  \n",
       "3              no             yes        3      yes        furnished  \n",
       "4              no             yes        2       no        furnished  "
      ]
     },
     "execution_count": 9,
     "metadata": {},
     "output_type": "execute_result"
    }
   ],
   "source": [
    "#Visual overview of the dataset\n",
    "df.head()"
   ]
  },
  {
   "cell_type": "markdown",
   "metadata": {},
   "source": [
    "## 3. Data Pre-Processing"
   ]
  },
  {
   "cell_type": "markdown",
   "metadata": {},
   "source": [
    "### Get the list of categorical and numerical columns"
   ]
  },
  {
   "cell_type": "code",
   "execution_count": 10,
   "metadata": {},
   "outputs": [
    {
     "name": "stdout",
     "output_type": "stream",
     "text": [
      "['prefarea', 'airconditioning', 'mainroad', 'guestroom', 'hotwaterheating', 'basement', 'furnishingstatus']\n"
     ]
    }
   ],
   "source": [
    "#Check the list of categorical columns\n",
    "catCols = df.select_dtypes(\"object\").columns\n",
    "catCols = list(set(catCols))\n",
    "print(catCols)"
   ]
  },
  {
   "cell_type": "code",
   "execution_count": 11,
   "metadata": {},
   "outputs": [
    {
     "name": "stdout",
     "output_type": "stream",
     "text": [
      "Index(['price', 'area', 'bedrooms', 'bathrooms', 'stories', 'parking'], dtype='object')\n"
     ]
    }
   ],
   "source": [
    "#Check the list of numerical columns\n",
    "numerics = ['int16', 'int32', 'int64', 'float16', 'float32', 'float64']\n",
    "numCols = df.select_dtypes(include=numerics).columns\n",
    "#Remove the price column\n",
    "# numCols = np.delete(numCols, np.where(numCols == 'price'))\n",
    "print(numCols)"
   ]
  },
  {
   "cell_type": "code",
   "execution_count": 12,
   "metadata": {},
   "outputs": [],
   "source": [
    "#Add Binary mapping to categorical columns\n",
    "binaryColList = ['mainroad', 'guestroom', 'basement', 'hotwaterheating', 'airconditioning', 'prefarea']\n",
    "binaryValList = [\"no\", \"yes\"]"
   ]
  },
  {
   "cell_type": "markdown",
   "metadata": {},
   "source": [
    "---------"
   ]
  },
  {
   "cell_type": "code",
   "execution_count": 13,
   "metadata": {},
   "outputs": [
    {
     "data": {
      "text/plain": [
       "<AxesSubplot:xlabel='price', ylabel='Density'>"
      ]
     },
     "execution_count": 13,
     "metadata": {},
     "output_type": "execute_result"
    },
    {
     "data": {
      "image/png": "[encoded data removed]",
      "text/plain": [
       "<Figure size 432x288 with 1 Axes>"
      ]
     },
     "metadata": {},
     "output_type": "display_data"
    }
   ],
   "source": [
    "sns.distplot((df['price']))"
   ]
  },
  {
   "cell_type": "code",
   "execution_count": 14,
   "metadata": {},
   "outputs": [],
   "source": [
    "df['price'] = stats.boxcox(df['price'] , 0)"
   ]
  },
  {
   "cell_type": "code",
   "execution_count": 15,
   "metadata": {},
   "outputs": [
    {
     "data": {
      "text/plain": [
       "<AxesSubplot:xlabel='price', ylabel='Density'>"
      ]
     },
     "execution_count": 15,
     "metadata": {},
     "output_type": "execute_result"
    },
    {
     "data": {
      "image/png": "[encoded data removed]",
      "text/plain": [
       "<Figure size 432x288 with 1 Axes>"
      ]
     },
     "metadata": {},
     "output_type": "display_data"
    }
   ],
   "source": [
    "sns.distplot((df['price']))"
   ]
  },
  {
   "cell_type": "markdown",
   "metadata": {},
   "source": [
    "### Train-Test Split"
   ]
  },
  {
   "cell_type": "code",
   "execution_count": 16,
   "metadata": {},
   "outputs": [],
   "source": [
    "#Do the train-test split\n",
    "train, test = model_selection.train_test_split( df , test_size = 0.2 , random_state = 42 )"
   ]
  },
  {
   "cell_type": "markdown",
   "metadata": {},
   "source": [
    "## 4. Define Custom Transformers and Pipeline steps"
   ]
  },
  {
   "cell_type": "markdown",
   "metadata": {},
   "source": [
    "### Define Custom Transformers"
   ]
  },
  {
   "cell_type": "code",
   "execution_count": 17,
   "metadata": {},
   "outputs": [],
   "source": [
    "#Custom Transformer that transforms Categorical columns\n",
    "class BinaryEncoding( BaseEstimator, TransformerMixin):\n",
    "    \n",
    "    #Class Constructor\n",
    "    def __init__(self, binaryColList, binaryValList):\n",
    "        self.binaryColList = binaryColList\n",
    "        self.binaryValList = binaryValList\n",
    "        pass\n",
    "        \n",
    "    #Return self nothing else to do here\n",
    "    def fit( self, X, y = None  ):\n",
    "        return self\n",
    "    \n",
    "    #Transformer method we wrote for this transformer \n",
    "    def transform(self, X , y = None ):\n",
    "        \n",
    "        #Do Binary Mapping\n",
    "        X[self.binaryColList] = X[self.binaryColList].apply(lambda x: x.map({\"no\": 0, \"yes\": 1}))\n",
    "        return X"
   ]
  },
  {
   "cell_type": "code",
   "execution_count": 18,
   "metadata": {},
   "outputs": [],
   "source": [
    "#Custom Transformer that transforms Categorical columns\n",
    "class DummyEncoding( BaseEstimator, TransformerMixin):\n",
    "    \n",
    "    #Class Constructor\n",
    "    def __init__(self):\n",
    "        pass\n",
    "        \n",
    "    #Return self nothing else to do here\n",
    "    def fit( self, X, y = None  ):\n",
    "        return self\n",
    "    \n",
    "    #Transformer method we wrote for this transformer \n",
    "    def transform(self, X , y = None ):\n",
    "        \n",
    "        #One-Hot Encoding of categorical columns\n",
    "        #Get dummy variables\n",
    "        X[\"furnishingstatus\"] = pd.factorize(X[\"furnishingstatus\"])[0]\n",
    "        \n",
    "        return X"
   ]
  },
  {
   "cell_type": "code",
   "execution_count": 19,
   "metadata": {},
   "outputs": [],
   "source": [
    "#Custom Transformer that scales Numerical columns\n",
    "class CustomScaler( BaseEstimator, TransformerMixin):\n",
    "    \n",
    "    #Class Constructor\n",
    "    def __init__(self, numCols):\n",
    "        self.numCols = numCols\n",
    "        self.scaler = MinMaxScaler()\n",
    "        \n",
    "    #Return self nothing else to do here\n",
    "    def fit( self, X, y = None  ):\n",
    "        self.scaler.fit(X[numCols])\n",
    "        return self\n",
    "    \n",
    "    #Transformer method we wrote for this transformer \n",
    "    def transform(self, X , y = None ):\n",
    "        \n",
    "        X[numCols] = self.scaler.transform(X[numCols])\n",
    "        \n",
    "        return X"
   ]
  },
  {
   "cell_type": "markdown",
   "metadata": {},
   "source": [
    "### Setup Categorical and Numerical Pipeline"
   ]
  },
  {
   "cell_type": "code",
   "execution_count": 20,
   "metadata": {},
   "outputs": [],
   "source": [
    "#Defining the steps in the categorical pipeline \n",
    "categorical_pipeline = Pipeline( steps = [('binaryEncodingTransformer', BinaryEncoding(binaryColList, binaryValList)), ('dummyEncodingTransformer', DummyEncoding())] )"
   ]
  },
  {
   "cell_type": "code",
   "execution_count": 21,
   "metadata": {},
   "outputs": [],
   "source": [
    "#Defining the steps in the numerical pipeline     \n",
    "numerical_pipeline = Pipeline( steps = [ ( 'min_max_scaler', CustomScaler(numCols)) ] )"
   ]
  },
  {
   "cell_type": "markdown",
   "metadata": {},
   "source": [
    "### Setup pre-process pipeline"
   ]
  },
  {
   "cell_type": "code",
   "execution_count": 22,
   "metadata": {},
   "outputs": [],
   "source": [
    "preprocess_pipeline = Pipeline(steps = [('numerical', numerical_pipeline),('categorical', categorical_pipeline)])"
   ]
  },
  {
   "cell_type": "code",
   "execution_count": 23,
   "metadata": {},
   "outputs": [],
   "source": [
    "#Fit_transform the pipeline on training data\n",
    "train_transform = preprocess_pipeline.fit_transform(train)"
   ]
  },
  {
   "cell_type": "code",
   "execution_count": 24,
   "metadata": {},
   "outputs": [],
   "source": [
    "#Transform the pipeline on test data\n",
    "test_transform = preprocess_pipeline.transform(test)"
   ]
  },
  {
   "cell_type": "code",
   "execution_count": 25,
   "metadata": {},
   "outputs": [
    {
     "data": {
      "text/html": [
       "<div>\n",
       "<style scoped>\n",
       "    .dataframe tbody tr th:only-of-type {\n",
       "        vertical-align: middle;\n",
       "    }\n",
       "\n",
       "    .dataframe tbody tr th {\n",
       "        vertical-align: top;\n",
       "    }\n",
       "\n",
       "    .dataframe thead th {\n",
       "        text-align: right;\n",
       "    }\n",
       "</style>\n",
       "<table border=\"1\" class=\"dataframe\">\n",
       "  <thead>\n",
       "    <tr style=\"text-align: right;\">\n",
       "      <th></th>\n",
       "      <th>price</th>\n",
       "      <th>area</th>\n",
       "      <th>bedrooms</th>\n",
       "      <th>bathrooms</th>\n",
       "      <th>stories</th>\n",
       "      <th>mainroad</th>\n",
       "      <th>guestroom</th>\n",
       "      <th>basement</th>\n",
       "      <th>hotwaterheating</th>\n",
       "      <th>airconditioning</th>\n",
       "      <th>parking</th>\n",
       "      <th>prefarea</th>\n",
       "      <th>furnishingstatus</th>\n",
       "    </tr>\n",
       "  </thead>\n",
       "  <tbody>\n",
       "    <tr>\n",
       "      <th>46</th>\n",
       "      <td>0.749580</td>\n",
       "      <td>0.298969</td>\n",
       "      <td>0.4</td>\n",
       "      <td>0.333333</td>\n",
       "      <td>1.000000</td>\n",
       "      <td>1</td>\n",
       "      <td>0</td>\n",
       "      <td>0</td>\n",
       "      <td>0</td>\n",
       "      <td>1</td>\n",
       "      <td>0.333333</td>\n",
       "      <td>0</td>\n",
       "      <td>0</td>\n",
       "    </tr>\n",
       "    <tr>\n",
       "      <th>93</th>\n",
       "      <td>0.658270</td>\n",
       "      <td>0.381443</td>\n",
       "      <td>0.4</td>\n",
       "      <td>0.333333</td>\n",
       "      <td>0.000000</td>\n",
       "      <td>1</td>\n",
       "      <td>0</td>\n",
       "      <td>1</td>\n",
       "      <td>0</td>\n",
       "      <td>1</td>\n",
       "      <td>1.000000</td>\n",
       "      <td>0</td>\n",
       "      <td>1</td>\n",
       "    </tr>\n",
       "    <tr>\n",
       "      <th>335</th>\n",
       "      <td>0.414447</td>\n",
       "      <td>0.148866</td>\n",
       "      <td>0.2</td>\n",
       "      <td>0.000000</td>\n",
       "      <td>0.000000</td>\n",
       "      <td>1</td>\n",
       "      <td>0</td>\n",
       "      <td>1</td>\n",
       "      <td>0</td>\n",
       "      <td>1</td>\n",
       "      <td>0.666667</td>\n",
       "      <td>0</td>\n",
       "      <td>0</td>\n",
       "    </tr>\n",
       "    <tr>\n",
       "      <th>412</th>\n",
       "      <td>0.345825</td>\n",
       "      <td>0.065979</td>\n",
       "      <td>0.4</td>\n",
       "      <td>0.000000</td>\n",
       "      <td>0.333333</td>\n",
       "      <td>1</td>\n",
       "      <td>0</td>\n",
       "      <td>1</td>\n",
       "      <td>0</td>\n",
       "      <td>0</td>\n",
       "      <td>0.000000</td>\n",
       "      <td>1</td>\n",
       "      <td>2</td>\n",
       "    </tr>\n",
       "    <tr>\n",
       "      <th>471</th>\n",
       "      <td>0.278700</td>\n",
       "      <td>0.144330</td>\n",
       "      <td>0.4</td>\n",
       "      <td>0.000000</td>\n",
       "      <td>0.333333</td>\n",
       "      <td>1</td>\n",
       "      <td>0</td>\n",
       "      <td>0</td>\n",
       "      <td>0</td>\n",
       "      <td>0</td>\n",
       "      <td>0.000000</td>\n",
       "      <td>0</td>\n",
       "      <td>2</td>\n",
       "    </tr>\n",
       "  </tbody>\n",
       "</table>\n",
       "</div>"
      ],
      "text/plain": [
       "        price      area  bedrooms  bathrooms   stories  mainroad  guestroom  \\\n",
       "46   0.749580  0.298969       0.4   0.333333  1.000000         1          0   \n",
       "93   0.658270  0.381443       0.4   0.333333  0.000000         1          0   \n",
       "335  0.414447  0.148866       0.2   0.000000  0.000000         1          0   \n",
       "412  0.345825  0.065979       0.4   0.000000  0.333333         1          0   \n",
       "471  0.278700  0.144330       0.4   0.000000  0.333333         1          0   \n",
       "\n",
       "     basement  hotwaterheating  airconditioning   parking  prefarea  \\\n",
       "46          0                0                1  0.333333         0   \n",
       "93          1                0                1  1.000000         0   \n",
       "335         1                0                1  0.666667         0   \n",
       "412         1                0                0  0.000000         1   \n",
       "471         0                0                0  0.000000         0   \n",
       "\n",
       "     furnishingstatus  \n",
       "46                  0  \n",
       "93                  1  \n",
       "335                 0  \n",
       "412                 2  \n",
       "471                 2  "
      ]
     },
     "execution_count": 25,
     "metadata": {},
     "output_type": "execute_result"
    }
   ],
   "source": [
    "train_transform.head()"
   ]
  },
  {
   "cell_type": "markdown",
   "metadata": {},
   "source": [
    "### Extract X and y"
   ]
  },
  {
   "cell_type": "code",
   "execution_count": 26,
   "metadata": {},
   "outputs": [],
   "source": [
    "#Extract y - the dependent variable\n",
    "y_train = train_transform.pop('price')\n",
    "y_test = test_transform.pop('price')"
   ]
  },
  {
   "cell_type": "code",
   "execution_count": 27,
   "metadata": {},
   "outputs": [],
   "source": [
    "#Store the independent variables in X\n",
    "X_train = train_transform\n",
    "X_test = test_transform"
   ]
  },
  {
   "cell_type": "markdown",
   "metadata": {},
   "source": [
    "### Initialize the model"
   ]
  },
  {
   "cell_type": "code",
   "execution_count": 28,
   "metadata": {},
   "outputs": [],
   "source": [
    "#Initialize the model\n",
    "lr = LinearRegression()"
   ]
  },
  {
   "cell_type": "markdown",
   "metadata": {},
   "source": [
    "### RFE"
   ]
  },
  {
   "cell_type": "code",
   "execution_count": 29,
   "metadata": {},
   "outputs": [],
   "source": [
    "# get a list of models to evaluate\n",
    "def get_models():\n",
    "    models = dict()\n",
    "    for i in range(2, 13):\n",
    "        rfe = RFE(estimator=lr, n_features_to_select=i)\n",
    "        model = LinearRegression()\n",
    "        models[str(i)] = Pipeline(steps=[('selection',rfe),('model',lr)])\n",
    "    return models"
   ]
  },
  {
   "cell_type": "code",
   "execution_count": 30,
   "metadata": {},
   "outputs": [],
   "source": [
    "# evaluate a give model using cross-validation\n",
    "def evaluate_model(model, X, y):\n",
    "    folds = model_selection.KFold(n_splits = 10, shuffle = True, random_state = 100)\n",
    "    scores = model_selection.cross_val_score(model, X_train, y_train,\n",
    "                         scoring=\"r2\",\n",
    "                         cv=folds, n_jobs=-1)\n",
    "    \n",
    "    return scores"
   ]
  },
  {
   "cell_type": "code",
   "execution_count": 31,
   "metadata": {},
   "outputs": [],
   "source": [
    "# get the models to evaluate\n",
    "models = get_models()"
   ]
  },
  {
   "cell_type": "code",
   "execution_count": 32,
   "metadata": {},
   "outputs": [
    {
     "data": {
      "text/plain": [
       "{'2': Pipeline(steps=[('selection',\n",
       "                  RFE(estimator=LinearRegression(), n_features_to_select=2)),\n",
       "                 ('model', LinearRegression())]),\n",
       " '3': Pipeline(steps=[('selection',\n",
       "                  RFE(estimator=LinearRegression(), n_features_to_select=3)),\n",
       "                 ('model', LinearRegression())]),\n",
       " '4': Pipeline(steps=[('selection',\n",
       "                  RFE(estimator=LinearRegression(), n_features_to_select=4)),\n",
       "                 ('model', LinearRegression())]),\n",
       " '5': Pipeline(steps=[('selection',\n",
       "                  RFE(estimator=LinearRegression(), n_features_to_select=5)),\n",
       "                 ('model', LinearRegression())]),\n",
       " '6': Pipeline(steps=[('selection',\n",
       "                  RFE(estimator=LinearRegression(), n_features_to_select=6)),\n",
       "                 ('model', LinearRegression())]),\n",
       " '7': Pipeline(steps=[('selection',\n",
       "                  RFE(estimator=LinearRegression(), n_features_to_select=7)),\n",
       "                 ('model', LinearRegression())]),\n",
       " '8': Pipeline(steps=[('selection',\n",
       "                  RFE(estimator=LinearRegression(), n_features_to_select=8)),\n",
       "                 ('model', LinearRegression())]),\n",
       " '9': Pipeline(steps=[('selection',\n",
       "                  RFE(estimator=LinearRegression(), n_features_to_select=9)),\n",
       "                 ('model', LinearRegression())]),\n",
       " '10': Pipeline(steps=[('selection',\n",
       "                  RFE(estimator=LinearRegression(), n_features_to_select=10)),\n",
       "                 ('model', LinearRegression())]),\n",
       " '11': Pipeline(steps=[('selection',\n",
       "                  RFE(estimator=LinearRegression(), n_features_to_select=11)),\n",
       "                 ('model', LinearRegression())]),\n",
       " '12': Pipeline(steps=[('selection',\n",
       "                  RFE(estimator=LinearRegression(), n_features_to_select=12)),\n",
       "                 ('model', LinearRegression())])}"
      ]
     },
     "execution_count": 32,
     "metadata": {},
     "output_type": "execute_result"
    }
   ],
   "source": [
    "models"
   ]
  },
  {
   "cell_type": "code",
   "execution_count": 33,
   "metadata": {},
   "outputs": [
    {
     "name": "stdout",
     "output_type": "stream",
     "text": [
      ">2 0.406 (0.151)\n",
      ">3 0.466 (0.132)\n",
      ">4 0.460 (0.163)\n",
      ">5 0.507 (0.159)\n",
      ">6 0.545 (0.143)\n",
      ">7 0.584 (0.122)\n",
      ">8 0.596 (0.123)\n",
      ">9 0.614 (0.126)\n",
      ">10 0.632 (0.114)\n",
      ">11 0.636 (0.125)\n",
      ">12 0.649 (0.127)\n"
     ]
    }
   ],
   "source": [
    "# evaluate the models and store results\n",
    "results, names = list(), list()\n",
    "for name, model in models.items():\n",
    "\tscores = evaluate_model(model, X_train, y_train)\n",
    "\tresults.append(scores)\n",
    "\tnames.append(name)\n",
    "\tprint('>%s %.3f (%.3f)' % (name, np.mean(scores), np.std(scores)))"
   ]
  },
  {
   "cell_type": "code",
   "execution_count": 34,
   "metadata": {},
   "outputs": [
    {
     "data": {
      "text/plain": [
       "[array([0.24225262, 0.23616817, 0.54753473, 0.54288873, 0.09787661,\n",
       "        0.44560273, 0.47425644, 0.47806612, 0.42584761, 0.56901352]),\n",
       " array([0.25227087, 0.34570161, 0.47940624, 0.63336567, 0.26747471,\n",
       "        0.46858521, 0.51711113, 0.59215492, 0.47219939, 0.62941025]),\n",
       " array([0.12228618, 0.41029391, 0.46170995, 0.68719004, 0.23633008,\n",
       "        0.52067128, 0.51580267, 0.63389435, 0.44545342, 0.56409684]),\n",
       " array([0.19186479, 0.47396585, 0.52896397, 0.67637354, 0.24465723,\n",
       "        0.57867736, 0.56341574, 0.69257542, 0.5168458 , 0.60721686]),\n",
       " array([0.28069106, 0.52424781, 0.6110747 , 0.72973781, 0.3035933 ,\n",
       "        0.61847041, 0.55758609, 0.7163801 , 0.51218108, 0.59462963]),\n",
       " array([0.32505741, 0.60991355, 0.61111249, 0.73018297, 0.44903631,\n",
       "        0.64647002, 0.6178267 , 0.7417941 , 0.48695308, 0.62410832]),\n",
       " array([0.32197394, 0.60458121, 0.63267568, 0.7321502 , 0.47065911,\n",
       "        0.65932656, 0.61866914, 0.75848377, 0.51480685, 0.64428539]),\n",
       " array([0.33686552, 0.63033815, 0.67872603, 0.77100439, 0.49628907,\n",
       "        0.67774356, 0.61619413, 0.77380908, 0.52017025, 0.63566686]),\n",
       " array([0.43210709, 0.66617868, 0.69209143, 0.7775532 , 0.49426686,\n",
       "        0.68129867, 0.64712315, 0.78066085, 0.49130842, 0.65805917]),\n",
       " array([0.4034709 , 0.66556921, 0.70320938, 0.81013384, 0.49008126,\n",
       "        0.69645968, 0.64706114, 0.78036329, 0.49931117, 0.66296722]),\n",
       " array([0.41317056, 0.68679302, 0.71007258, 0.81550596, 0.50092716,\n",
       "        0.69875779, 0.67400343, 0.81159438, 0.50818577, 0.67306483])]"
      ]
     },
     "execution_count": 34,
     "metadata": {},
     "output_type": "execute_result"
    }
   ],
   "source": [
    "results"
   ]
  },
  {
   "cell_type": "code",
   "execution_count": 35,
   "metadata": {},
   "outputs": [
    {
     "data": {
      "image/png": "[encoded data removed]",
      "text/plain": [
       "<Figure size 432x288 with 1 Axes>"
      ]
     },
     "metadata": {},
     "output_type": "display_data"
    }
   ],
   "source": [
    "# plot model performance for comparison\n",
    "pyplot.boxplot(results, labels=names, showmeans=True)\n",
    "pyplot.show()"
   ]
  },
  {
   "cell_type": "markdown",
   "metadata": {},
   "source": [
    "### RFECV"
   ]
  },
  {
   "cell_type": "code",
   "execution_count": 36,
   "metadata": {},
   "outputs": [],
   "source": [
    "model = LinearRegression()\n",
    "rfecv = RFECV(estimator = model, step=1, cv=5)"
   ]
  },
  {
   "cell_type": "markdown",
   "metadata": {},
   "source": [
    "### Select the best performing model"
   ]
  },
  {
   "cell_type": "code",
   "execution_count": 37,
   "metadata": {},
   "outputs": [],
   "source": [
    "model = LinearRegression()\n",
    "rfe = RFE(estimator=model, n_features_to_select=8)\n",
    "pipe = Pipeline(steps=[('selection',rfe), ('model', model)])"
   ]
  },
  {
   "cell_type": "code",
   "execution_count": 38,
   "metadata": {},
   "outputs": [
    {
     "data": {
      "text/html": [
       "<style>#sk-338a6f10-44ee-4d3f-bcba-8cf681ca37f2 {color: black;background-color: white;}#sk-338a6f10-44ee-4d3f-bcba-8cf681ca37f2 pre{padding: 0;}#sk-338a6f10-44ee-4d3f-bcba-8cf681ca37f2 div.sk-toggleable {background-color: white;}#sk-338a6f10-44ee-4d3f-bcba-8cf681ca37f2 label.sk-toggleable__label {cursor: pointer;display: block;width: 100%;margin-bottom: 0;padding: 0.3em;box-sizing: border-box;text-align: center;}#sk-338a6f10-44ee-4d3f-bcba-8cf681ca37f2 div.sk-toggleable__content {max-height: 0;max-width: 0;overflow: hidden;text-align: left;background-color: #f0f8ff;}#sk-338a6f10-44ee-4d3f-bcba-8cf681ca37f2 div.sk-toggleable__content pre {margin: 0.2em;color: black;border-radius: 0.25em;background-color: #f0f8ff;}#sk-338a6f10-44ee-4d3f-bcba-8cf681ca37f2 input.sk-toggleable__control:checked~div.sk-toggleable__content {max-height: 200px;max-width: 100%;overflow: auto;}#sk-338a6f10-44ee-4d3f-bcba-8cf681ca37f2 div.sk-estimator input.sk-toggleable__control:checked~label.sk-toggleable__label {background-color: #d4ebff;}#sk-338a6f10-44ee-4d3f-bcba-8cf681ca37f2 div.sk-label input.sk-toggleable__control:checked~label.sk-toggleable__label {background-color: #d4ebff;}#sk-338a6f10-44ee-4d3f-bcba-8cf681ca37f2 input.sk-hidden--visually {border: 0;clip: rect(1px 1px 1px 1px);clip: rect(1px, 1px, 1px, 1px);height: 1px;margin: -1px;overflow: hidden;padding: 0;position: absolute;width: 1px;}#sk-338a6f10-44ee-4d3f-bcba-8cf681ca37f2 div.sk-estimator {font-family: monospace;background-color: #f0f8ff;border: 1px dotted black;border-radius: 0.25em;box-sizing: border-box;margin-bottom: 0.5em;}#sk-338a6f10-44ee-4d3f-bcba-8cf681ca37f2 div.sk-estimator:hover {background-color: #d4ebff;}#sk-338a6f10-44ee-4d3f-bcba-8cf681ca37f2 div.sk-parallel-item::after {content: \"\";width: 100%;border-bottom: 1px solid gray;flex-grow: 1;}#sk-338a6f10-44ee-4d3f-bcba-8cf681ca37f2 div.sk-label:hover label.sk-toggleable__label {background-color: #d4ebff;}#sk-338a6f10-44ee-4d3f-bcba-8cf681ca37f2 div.sk-serial::before {content: \"\";position: absolute;border-left: 1px solid gray;box-sizing: border-box;top: 2em;bottom: 0;left: 50%;}#sk-338a6f10-44ee-4d3f-bcba-8cf681ca37f2 div.sk-serial {display: flex;flex-direction: column;align-items: center;background-color: white;padding-right: 0.2em;padding-left: 0.2em;}#sk-338a6f10-44ee-4d3f-bcba-8cf681ca37f2 div.sk-item {z-index: 1;}#sk-338a6f10-44ee-4d3f-bcba-8cf681ca37f2 div.sk-parallel {display: flex;align-items: stretch;justify-content: center;background-color: white;}#sk-338a6f10-44ee-4d3f-bcba-8cf681ca37f2 div.sk-parallel::before {content: \"\";position: absolute;border-left: 1px solid gray;box-sizing: border-box;top: 2em;bottom: 0;left: 50%;}#sk-338a6f10-44ee-4d3f-bcba-8cf681ca37f2 div.sk-parallel-item {display: flex;flex-direction: column;position: relative;background-color: white;}#sk-338a6f10-44ee-4d3f-bcba-8cf681ca37f2 div.sk-parallel-item:first-child::after {align-self: flex-end;width: 50%;}#sk-338a6f10-44ee-4d3f-bcba-8cf681ca37f2 div.sk-parallel-item:last-child::after {align-self: flex-start;width: 50%;}#sk-338a6f10-44ee-4d3f-bcba-8cf681ca37f2 div.sk-parallel-item:only-child::after {width: 0;}#sk-338a6f10-44ee-4d3f-bcba-8cf681ca37f2 div.sk-dashed-wrapped {border: 1px dashed gray;margin: 0 0.4em 0.5em 0.4em;box-sizing: border-box;padding-bottom: 0.4em;background-color: white;position: relative;}#sk-338a6f10-44ee-4d3f-bcba-8cf681ca37f2 div.sk-label label {font-family: monospace;font-weight: bold;background-color: white;display: inline-block;line-height: 1.2em;}#sk-338a6f10-44ee-4d3f-bcba-8cf681ca37f2 div.sk-label-container {position: relative;z-index: 2;text-align: center;}#sk-338a6f10-44ee-4d3f-bcba-8cf681ca37f2 div.sk-container {display: inline-block;position: relative;}</style><div id=\"sk-338a6f10-44ee-4d3f-bcba-8cf681ca37f2\" class\"sk-top-container\"><div class=\"sk-container\"><div class=\"sk-item sk-dashed-wrapped\"><div class=\"sk-label-container\"><div class=\"sk-label sk-toggleable\"><input class=\"sk-toggleable__control sk-hidden--visually\" id=\"b90dd7c8-c5aa-4ef5-9f7c-fbc3e28fdb13\" type=\"checkbox\" ><label class=\"sk-toggleable__label\" for=\"b90dd7c8-c5aa-4ef5-9f7c-fbc3e28fdb13\">Pipeline</label><div class=\"sk-toggleable__content\"><pre>Pipeline(steps=[('selection',\n",
       "                 RFE(estimator=LinearRegression(), n_features_to_select=8)),\n",
       "                ('model', LinearRegression())])</pre></div></div></div><div class=\"sk-serial\"><div class=\"sk-item sk-dashed-wrapped\"><div class=\"sk-label-container\"><div class=\"sk-label sk-toggleable\"><input class=\"sk-toggleable__control sk-hidden--visually\" id=\"d398180d-01b5-4aff-b596-6978e78f8bd5\" type=\"checkbox\" ><label class=\"sk-toggleable__label\" for=\"d398180d-01b5-4aff-b596-6978e78f8bd5\">selection: RFE</label><div class=\"sk-toggleable__content\"><pre>RFE(estimator=LinearRegression(), n_features_to_select=8)</pre></div></div></div><div class=\"sk-parallel\"><div class=\"sk-parallel-item\"><div class=\"sk-item\"><div class=\"sk-serial\"><div class=\"sk-item\"><div class=\"sk-estimator sk-toggleable\"><input class=\"sk-toggleable__control sk-hidden--visually\" id=\"ac536f05-b5be-4e04-9426-c88c405d42c2\" type=\"checkbox\" ><label class=\"sk-toggleable__label\" for=\"ac536f05-b5be-4e04-9426-c88c405d42c2\">LinearRegression</label><div class=\"sk-toggleable__content\"><pre>LinearRegression()</pre></div></div></div></div></div></div></div></div><div class=\"sk-item\"><div class=\"sk-estimator sk-toggleable\"><input class=\"sk-toggleable__control sk-hidden--visually\" id=\"168374eb-f028-4a6f-afd6-4cbfd2e404cc\" type=\"checkbox\" ><label class=\"sk-toggleable__label\" for=\"168374eb-f028-4a6f-afd6-4cbfd2e404cc\">LinearRegression</label><div class=\"sk-toggleable__content\"><pre>LinearRegression()</pre></div></div></div></div></div></div></div>"
      ],
      "text/plain": [
       "Pipeline(steps=[('selection',\n",
       "                 RFE(estimator=LinearRegression(), n_features_to_select=8)),\n",
       "                ('model', LinearRegression())])"
      ]
     },
     "execution_count": 38,
     "metadata": {},
     "output_type": "execute_result"
    }
   ],
   "source": [
    "pipe.fit(X_train, y_train)"
   ]
  },
  {
   "cell_type": "code",
   "execution_count": 41,
   "metadata": {},
   "outputs": [
    {
     "name": "stdout",
     "output_type": "stream",
     "text": [
      "Column: 0, Selected True, Rank: 1.000\n",
      "Column: 1, Selected False, Rank: 3.000\n",
      "Column: 2, Selected True, Rank: 1.000\n",
      "Column: 3, Selected True, Rank: 1.000\n",
      "Column: 4, Selected False, Rank: 2.000\n",
      "Column: 5, Selected False, Rank: 5.000\n",
      "Column: 6, Selected True, Rank: 1.000\n",
      "Column: 7, Selected True, Rank: 1.000\n",
      "Column: 8, Selected True, Rank: 1.000\n",
      "Column: 9, Selected True, Rank: 1.000\n",
      "Column: 10, Selected True, Rank: 1.000\n",
      "Column: 11, Selected False, Rank: 4.000\n"
     ]
    }
   ],
   "source": [
    "# summarize all features\n",
    "for i in range(X_train.shape[1]):\n",
    "\tprint('Column: %d, Selected %s, Rank: %.3f' % (i, rfe.support_[i], rfe.ranking_[i]))"
   ]
  },
  {
   "cell_type": "code",
   "execution_count": 42,
   "metadata": {},
   "outputs": [
    {
     "data": {
      "text/plain": [
       "[('area', True, 1),\n",
       " ('bedrooms', False, 3),\n",
       " ('bathrooms', True, 1),\n",
       " ('stories', True, 1),\n",
       " ('mainroad', False, 2),\n",
       " ('guestroom', False, 5),\n",
       " ('basement', True, 1),\n",
       " ('hotwaterheating', True, 1),\n",
       " ('airconditioning', True, 1),\n",
       " ('parking', True, 1),\n",
       " ('prefarea', True, 1),\n",
       " ('furnishingstatus', False, 4)]"
      ]
     },
     "execution_count": 42,
     "metadata": {},
     "output_type": "execute_result"
    }
   ],
   "source": [
    "list(zip(X_train.columns,rfe.support_,rfe.ranking_))"
   ]
  },
  {
   "cell_type": "code",
   "execution_count": 43,
   "metadata": {},
   "outputs": [
    {
     "data": {
      "text/plain": [
       "Index(['area', 'bathrooms', 'stories', 'basement', 'hotwaterheating',\n",
       "       'airconditioning', 'parking', 'prefarea'],\n",
       "      dtype='object')"
      ]
     },
     "execution_count": 43,
     "metadata": {},
     "output_type": "execute_result"
    }
   ],
   "source": [
    "#Visualize the selected columns\n",
    "X_train.columns[rfe.support_]"
   ]
  },
  {
   "cell_type": "code",
   "execution_count": 44,
   "metadata": {},
   "outputs": [],
   "source": [
    "X_train_rfe = X_train[X_train.columns[rfe.support_]]"
   ]
  },
  {
   "cell_type": "code",
   "execution_count": 66,
   "metadata": {},
   "outputs": [],
   "source": [
    "X_test_rfe = X_test[X_test.columns[rfe.support_]]"
   ]
  },
  {
   "cell_type": "markdown",
   "metadata": {},
   "source": [
    "#### Model Predictions on the Train and Test set "
   ]
  },
  {
   "cell_type": "code",
   "execution_count": 45,
   "metadata": {},
   "outputs": [],
   "source": [
    "y_train_pred = pipe.predict(X_train)"
   ]
  },
  {
   "cell_type": "code",
   "execution_count": 46,
   "metadata": {},
   "outputs": [],
   "source": [
    "y_test_pred = pipe.predict(X_test)"
   ]
  },
  {
   "cell_type": "code",
   "execution_count": 47,
   "metadata": {},
   "outputs": [
    {
     "data": {
      "text/plain": [
       "array([0.58780147, 0.72217851, 0.28711028, 0.4511067 , 0.2848636 ,\n",
       "       0.36237387, 0.54716561, 0.61360849, 0.28952327, 0.24947848,\n",
       "       0.98305551, 0.28413343, 0.36260566, 0.38413839, 0.40857097,\n",
       "       0.52844979, 0.28237432, 0.50406987, 0.48624756, 0.3421538 ,\n",
       "       0.63301954, 0.59691969, 0.27612965, 0.50491921, 0.55085303,\n",
       "       0.80294262, 0.33130331, 0.48147978, 0.87826529, 0.31045775,\n",
       "       0.67028798, 0.3387075 , 0.63189411, 0.41197936, 0.36030584,\n",
       "       0.5649028 , 0.47731485, 0.47086715, 0.35586564, 0.40462572,\n",
       "       0.44751847, 0.36007816, 0.71993184, 0.36903761, 0.36321638,\n",
       "       0.44828603, 0.68444836, 0.38139432, 0.39972484, 0.37853527,\n",
       "       0.77563089, 0.28278325, 0.41674121, 0.50793727, 0.39930344,\n",
       "       0.255376  , 0.77854992, 0.29360769, 0.40734559, 0.28037025,\n",
       "       0.48374003, 0.38631532, 0.51363181, 0.46830141, 0.50273681,\n",
       "       0.45037498, 0.7639313 , 0.38133004, 0.64185598, 0.61508531,\n",
       "       0.55350995, 0.53361501, 0.43443377, 0.82515578, 0.35839097,\n",
       "       0.51480695, 0.37790979, 0.46959971, 0.45151563, 0.48322017,\n",
       "       0.76800631, 0.39054733, 0.62513627, 0.61319316, 0.27394929,\n",
       "       0.68963621, 0.25228682, 0.34797503, 0.79777475, 0.78445363,\n",
       "       0.35057869, 0.57995895, 0.32670791, 0.40645404, 0.71722225,\n",
       "       0.41459824, 0.49498618, 0.67883167, 0.534343  , 0.60626857,\n",
       "       0.36695725, 0.58978254, 0.36216949, 0.59005454, 0.51533981,\n",
       "       0.44570537, 0.70932809, 0.60421961, 0.64198633])"
      ]
     },
     "execution_count": 47,
     "metadata": {},
     "output_type": "execute_result"
    }
   ],
   "source": [
    "y_test_pred"
   ]
  },
  {
   "cell_type": "code",
   "execution_count": 48,
   "metadata": {},
   "outputs": [
    {
     "data": {
      "text/plain": [
       "array([0.40861392, 0.30044921, 0.15766273, 0.07087229, 0.06881434,\n",
       "       0.08448209, 0.07463921, 0.07624268])"
      ]
     },
     "execution_count": 48,
     "metadata": {},
     "output_type": "execute_result"
    }
   ],
   "source": [
    "model.coef_"
   ]
  },
  {
   "cell_type": "markdown",
   "metadata": {},
   "source": [
    "## 5. Model Evaluation"
   ]
  },
  {
   "cell_type": "code",
   "execution_count": 49,
   "metadata": {},
   "outputs": [],
   "source": [
    "class ModelEvaluation:\n",
    "    \n",
    "    def __init__(self, y_actual, y_pred):\n",
    "        self.y_actual = y_actual\n",
    "        self.y_pred = y_pred\n",
    "    \n",
    "    def calcMetrics(self):\n",
    "        \n",
    "        #Calculate Residuals\n",
    "        self.resid = self.y_pred - self.y_actual\n",
    "\n",
    "        #Calculate RMSE\n",
    "        self.rmse = np.sqrt(metrics.mean_squared_error(self.y_actual, self.y_pred))\n",
    "        \n",
    "        #Calculate R-Squared\n",
    "        self.r2_score = metrics.r2_score(self.y_actual,self.y_pred)\n",
    "        \n",
    "        #Calculate MAE\n",
    "        self.mae = metrics.mean_absolute_error(self.y_actual, self.y_pred)\n",
    "        \n",
    "        #Calculate MSE\n",
    "        self.mse = metrics.mean_squared_error(self.y_actual, self.y_pred)\n",
    "    \n",
    "    def plotResid(self, x_label, y_label):\n",
    "        \n",
    "        # Plotting y_test and y_pred to understand the spread\n",
    "        fig = plt.figure()\n",
    "        plt.scatter(self.y_pred, self.resid)\n",
    "        fig.suptitle('{} vs {}'.format(y_label, x_label), fontsize = 20)              # Plot heading \n",
    "        plt.xlabel(x_label, fontsize = 18)                          # X-label\n",
    "        plt.ylabel(y_label, fontsize = 16)  \n",
    "    \n",
    "    def plotResidDistribution(self):\n",
    "        \n",
    "        # Plot the histogram of the error terms\n",
    "        fig = plt.figure()\n",
    "        sns.distplot((self.resid), bins = 20)\n",
    "        fig.suptitle('Error Terms', fontsize = 20)                  # Plot heading \n",
    "        plt.xlabel('Errors', fontsize = 18)                         # X-label\n",
    "        \n",
    "    \n",
    "    def printMetrics(self):\n",
    "        \n",
    "        print(\"Here are the evaluation results: \")\n",
    "        print(\"----\")\n",
    "        print(\"MAE is {}\".format(self.mae))\n",
    "        print(\"MSE is {}\".format(self.mse))\n",
    "        print(\"RMSE is {}\".format(self.rmse))\n",
    "        print(\"R-Squared is {}\".format(self.r2_score)) "
   ]
  },
  {
   "cell_type": "code",
   "execution_count": 50,
   "metadata": {},
   "outputs": [],
   "source": [
    "#Create modelResults object\n",
    "mEvalTest = ModelEvaluation(y_test, y_test_pred)\n",
    "mEvalTrain = ModelEvaluation(y_train, y_train_pred)"
   ]
  },
  {
   "cell_type": "code",
   "execution_count": 51,
   "metadata": {},
   "outputs": [],
   "source": [
    "#Calculate the model metrics\n",
    "mEvalTest.calcMetrics()\n",
    "mEvalTrain.calcMetrics()"
   ]
  },
  {
   "cell_type": "code",
   "execution_count": 52,
   "metadata": {
    "scrolled": true
   },
   "outputs": [
    {
     "data": {
      "image/png": "[encoded data removed]",
      "text/plain": [
       "<Figure size 432x288 with 1 Axes>"
      ]
     },
     "metadata": {},
     "output_type": "display_data"
    },
    {
     "data": {
      "image/png": "[encoded data removed]",
      "text/plain": [
       "<Figure size 432x288 with 1 Axes>"
      ]
     },
     "metadata": {},
     "output_type": "display_data"
    }
   ],
   "source": [
    "#Create the residual Plot\n",
    "mEvalTest.plotResid(\"y_test_pred\", \"resid\")\n",
    "mEvalTrain.plotResid(\"y_train_pred\", \"resid\")"
   ]
  },
  {
   "cell_type": "code",
   "execution_count": 53,
   "metadata": {},
   "outputs": [
    {
     "data": {
      "image/png": "[encoded data removed]",
      "text/plain": [
       "<Figure size 432x288 with 1 Axes>"
      ]
     },
     "metadata": {},
     "output_type": "display_data"
    }
   ],
   "source": [
    "#Check normality of residuals\n",
    "mEvalTest.plotResidDistribution()"
   ]
  },
  {
   "cell_type": "code",
   "execution_count": 54,
   "metadata": {},
   "outputs": [
    {
     "name": "stdout",
     "output_type": "stream",
     "text": [
      "Mean of Residuals -5.652970446485888e-17\n"
     ]
    }
   ],
   "source": [
    "residuals = y_train - y_train_pred\n",
    "mean_residuals = np.mean(residuals)\n",
    "print(\"Mean of Residuals {}\".format(mean_residuals))"
   ]
  },
  {
   "cell_type": "code",
   "execution_count": 55,
   "metadata": {},
   "outputs": [
    {
     "data": {
      "text/plain": [
       "Text(0, 0.5, 'residuals')"
      ]
     },
     "execution_count": 55,
     "metadata": {},
     "output_type": "execute_result"
    },
    {
     "data": {
      "image/png": "[encoded data removed]",
      "text/plain": [
       "<Figure size 432x288 with 1 Axes>"
      ]
     },
     "metadata": {},
     "output_type": "display_data"
    }
   ],
   "source": [
    "fig = plt.figure()\n",
    "plt.scatter(y_train_pred, residuals)\n",
    "fig.suptitle('{} vs {}'.format(\"Residuals\", \"Y_Pred\"), fontsize = 20)              # Plot heading \n",
    "plt.xlabel(\"y_pred\", fontsize = 18)                          # X-label\n",
    "plt.ylabel(\"residuals\", fontsize = 16)"
   ]
  },
  {
   "cell_type": "code",
   "execution_count": 56,
   "metadata": {},
   "outputs": [
    {
     "name": "stdout",
     "output_type": "stream",
     "text": [
      "Here are the evaluation results: \n",
      "----\n",
      "MAE is 0.11070586371275018\n",
      "MSE is 0.01948826207396358\n",
      "RMSE is 0.1396003655939467\n",
      "R-Squared is 0.6178254655303448\n"
     ]
    }
   ],
   "source": [
    "#Test set metrics\n",
    "mEvalTest.printMetrics()"
   ]
  },
  {
   "cell_type": "code",
   "execution_count": 57,
   "metadata": {},
   "outputs": [
    {
     "name": "stdout",
     "output_type": "stream",
     "text": [
      "Here are the evaluation results: \n",
      "----\n",
      "MAE is 0.08074874839272538\n",
      "MSE is 0.01091384883567074\n",
      "RMSE is 0.10446936792989005\n",
      "R-Squared is 0.6677139678755191\n"
     ]
    }
   ],
   "source": [
    "#Train set metrics\n",
    "mEvalTrain.printMetrics()"
   ]
  },
  {
   "cell_type": "markdown",
   "metadata": {},
   "source": [
    "## 6. K-Fold Cross Validation"
   ]
  },
  {
   "cell_type": "code",
   "execution_count": 58,
   "metadata": {},
   "outputs": [
    {
     "data": {
      "text/html": [
       "<style>#sk-b347ed20-8573-4c73-8f6a-fded7ad5887a {color: black;background-color: white;}#sk-b347ed20-8573-4c73-8f6a-fded7ad5887a pre{padding: 0;}#sk-b347ed20-8573-4c73-8f6a-fded7ad5887a div.sk-toggleable {background-color: white;}#sk-b347ed20-8573-4c73-8f6a-fded7ad5887a label.sk-toggleable__label {cursor: pointer;display: block;width: 100%;margin-bottom: 0;padding: 0.3em;box-sizing: border-box;text-align: center;}#sk-b347ed20-8573-4c73-8f6a-fded7ad5887a div.sk-toggleable__content {max-height: 0;max-width: 0;overflow: hidden;text-align: left;background-color: #f0f8ff;}#sk-b347ed20-8573-4c73-8f6a-fded7ad5887a div.sk-toggleable__content pre {margin: 0.2em;color: black;border-radius: 0.25em;background-color: #f0f8ff;}#sk-b347ed20-8573-4c73-8f6a-fded7ad5887a input.sk-toggleable__control:checked~div.sk-toggleable__content {max-height: 200px;max-width: 100%;overflow: auto;}#sk-b347ed20-8573-4c73-8f6a-fded7ad5887a div.sk-estimator input.sk-toggleable__control:checked~label.sk-toggleable__label {background-color: #d4ebff;}#sk-b347ed20-8573-4c73-8f6a-fded7ad5887a div.sk-label input.sk-toggleable__control:checked~label.sk-toggleable__label {background-color: #d4ebff;}#sk-b347ed20-8573-4c73-8f6a-fded7ad5887a input.sk-hidden--visually {border: 0;clip: rect(1px 1px 1px 1px);clip: rect(1px, 1px, 1px, 1px);height: 1px;margin: -1px;overflow: hidden;padding: 0;position: absolute;width: 1px;}#sk-b347ed20-8573-4c73-8f6a-fded7ad5887a div.sk-estimator {font-family: monospace;background-color: #f0f8ff;border: 1px dotted black;border-radius: 0.25em;box-sizing: border-box;margin-bottom: 0.5em;}#sk-b347ed20-8573-4c73-8f6a-fded7ad5887a div.sk-estimator:hover {background-color: #d4ebff;}#sk-b347ed20-8573-4c73-8f6a-fded7ad5887a div.sk-parallel-item::after {content: \"\";width: 100%;border-bottom: 1px solid gray;flex-grow: 1;}#sk-b347ed20-8573-4c73-8f6a-fded7ad5887a div.sk-label:hover label.sk-toggleable__label {background-color: #d4ebff;}#sk-b347ed20-8573-4c73-8f6a-fded7ad5887a div.sk-serial::before {content: \"\";position: absolute;border-left: 1px solid gray;box-sizing: border-box;top: 2em;bottom: 0;left: 50%;}#sk-b347ed20-8573-4c73-8f6a-fded7ad5887a div.sk-serial {display: flex;flex-direction: column;align-items: center;background-color: white;padding-right: 0.2em;padding-left: 0.2em;}#sk-b347ed20-8573-4c73-8f6a-fded7ad5887a div.sk-item {z-index: 1;}#sk-b347ed20-8573-4c73-8f6a-fded7ad5887a div.sk-parallel {display: flex;align-items: stretch;justify-content: center;background-color: white;}#sk-b347ed20-8573-4c73-8f6a-fded7ad5887a div.sk-parallel::before {content: \"\";position: absolute;border-left: 1px solid gray;box-sizing: border-box;top: 2em;bottom: 0;left: 50%;}#sk-b347ed20-8573-4c73-8f6a-fded7ad5887a div.sk-parallel-item {display: flex;flex-direction: column;position: relative;background-color: white;}#sk-b347ed20-8573-4c73-8f6a-fded7ad5887a div.sk-parallel-item:first-child::after {align-self: flex-end;width: 50%;}#sk-b347ed20-8573-4c73-8f6a-fded7ad5887a div.sk-parallel-item:last-child::after {align-self: flex-start;width: 50%;}#sk-b347ed20-8573-4c73-8f6a-fded7ad5887a div.sk-parallel-item:only-child::after {width: 0;}#sk-b347ed20-8573-4c73-8f6a-fded7ad5887a div.sk-dashed-wrapped {border: 1px dashed gray;margin: 0 0.4em 0.5em 0.4em;box-sizing: border-box;padding-bottom: 0.4em;background-color: white;position: relative;}#sk-b347ed20-8573-4c73-8f6a-fded7ad5887a div.sk-label label {font-family: monospace;font-weight: bold;background-color: white;display: inline-block;line-height: 1.2em;}#sk-b347ed20-8573-4c73-8f6a-fded7ad5887a div.sk-label-container {position: relative;z-index: 2;text-align: center;}#sk-b347ed20-8573-4c73-8f6a-fded7ad5887a div.sk-container {display: inline-block;position: relative;}</style><div id=\"sk-b347ed20-8573-4c73-8f6a-fded7ad5887a\" class\"sk-top-container\"><div class=\"sk-container\"><div class=\"sk-item sk-dashed-wrapped\"><div class=\"sk-label-container\"><div class=\"sk-label sk-toggleable\"><input class=\"sk-toggleable__control sk-hidden--visually\" id=\"3ea1bbe8-8296-4c18-8cfc-ed82b275625b\" type=\"checkbox\" ><label class=\"sk-toggleable__label\" for=\"3ea1bbe8-8296-4c18-8cfc-ed82b275625b\">Pipeline</label><div class=\"sk-toggleable__content\"><pre>Pipeline(steps=[('selection',\n",
       "                 RFE(estimator=LinearRegression(), n_features_to_select=8)),\n",
       "                ('model', LinearRegression())])</pre></div></div></div><div class=\"sk-serial\"><div class=\"sk-item sk-dashed-wrapped\"><div class=\"sk-label-container\"><div class=\"sk-label sk-toggleable\"><input class=\"sk-toggleable__control sk-hidden--visually\" id=\"da6afaa3-22f7-4ab3-ac32-e5535a07809c\" type=\"checkbox\" ><label class=\"sk-toggleable__label\" for=\"da6afaa3-22f7-4ab3-ac32-e5535a07809c\">selection: RFE</label><div class=\"sk-toggleable__content\"><pre>RFE(estimator=LinearRegression(), n_features_to_select=8)</pre></div></div></div><div class=\"sk-parallel\"><div class=\"sk-parallel-item\"><div class=\"sk-item\"><div class=\"sk-serial\"><div class=\"sk-item\"><div class=\"sk-estimator sk-toggleable\"><input class=\"sk-toggleable__control sk-hidden--visually\" id=\"78956673-777a-4733-8ab5-b977144498ee\" type=\"checkbox\" ><label class=\"sk-toggleable__label\" for=\"78956673-777a-4733-8ab5-b977144498ee\">LinearRegression</label><div class=\"sk-toggleable__content\"><pre>LinearRegression()</pre></div></div></div></div></div></div></div></div><div class=\"sk-item\"><div class=\"sk-estimator sk-toggleable\"><input class=\"sk-toggleable__control sk-hidden--visually\" id=\"72be458a-569d-4810-ab35-43ad1d2c567a\" type=\"checkbox\" ><label class=\"sk-toggleable__label\" for=\"72be458a-569d-4810-ab35-43ad1d2c567a\">LinearRegression</label><div class=\"sk-toggleable__content\"><pre>LinearRegression()</pre></div></div></div></div></div></div></div>"
      ],
      "text/plain": [
       "Pipeline(steps=[('selection',\n",
       "                 RFE(estimator=LinearRegression(), n_features_to_select=8)),\n",
       "                ('model', LinearRegression())])"
      ]
     },
     "execution_count": 58,
     "metadata": {},
     "output_type": "execute_result"
    }
   ],
   "source": [
    "pipe"
   ]
  },
  {
   "cell_type": "code",
   "execution_count": 59,
   "metadata": {},
   "outputs": [
    {
     "name": "stdout",
     "output_type": "stream",
     "text": [
      "R2 scores:  [0.60079172 0.73345851 0.62478095 0.62144161 0.54377728 0.64154186\n",
      " 0.68759618 0.56802118 0.64486205 0.51646261]\n",
      "R2 values:  [0.6  0.73 0.62 0.62 0.54 0.64 0.69 0.57 0.64 0.52]\n",
      "R2 average:  0.6182733941482466\n"
     ]
    }
   ],
   "source": [
    "scores = model_selection.cross_val_score(pipe, X_train, y_train,\n",
    "                         scoring=\"r2\",\n",
    "                         cv=10, n_jobs=1)\n",
    "# rmse = np.sqrt(-scores)\n",
    "print(\"R2 scores: \", scores)\n",
    "print(\"R2 values: \", np.round(scores, 2))\n",
    "print(\"R2 average: \", np.mean(scores))\n"
   ]
  },
  {
   "cell_type": "markdown",
   "metadata": {},
   "source": [
    "## 7. Regularized Linear Models"
   ]
  },
  {
   "cell_type": "code",
   "execution_count": 60,
   "metadata": {},
   "outputs": [],
   "source": [
    "def rmse_cv(alpha):\n",
    "    rfe = RFE(estimator=lr, n_features_to_select=8)\n",
    "    model = Ridge(alpha = alpha)\n",
    "    pipe = Pipeline(steps=[('s',rfe), ('model', model)])\n",
    "    \n",
    "    rmse= model_selection.cross_val_score(pipe, X_train, y_train, scoring=\"r2\", cv = 5)\n",
    "    return(rmse)"
   ]
  },
  {
   "cell_type": "code",
   "execution_count": 61,
   "metadata": {},
   "outputs": [],
   "source": [
    "alphas = [0.05, 0.1, 0.3, 1, 3]\n",
    "cv_ridge = [rmse_cv(alpha).mean() \n",
    "            for alpha in alphas]"
   ]
  },
  {
   "cell_type": "code",
   "execution_count": 62,
   "metadata": {},
   "outputs": [
    {
     "data": {
      "text/plain": [
       "Text(0, 0.5, 'rmse')"
      ]
     },
     "execution_count": 62,
     "metadata": {},
     "output_type": "execute_result"
    },
    {
     "data": {
      "image/png": "[encoded data removed]",
      "text/plain": [
       "<Figure size 432x288 with 1 Axes>"
      ]
     },
     "metadata": {},
     "output_type": "display_data"
    }
   ],
   "source": [
    "cv_ridge = pd.Series(cv_ridge, index = alphas)\n",
    "cv_ridge.plot(title = \"Validation - Just Do It\")\n",
    "plt.xlabel(\"alpha\")\n",
    "plt.ylabel(\"rmse\")"
   ]
  },
  {
   "cell_type": "code",
   "execution_count": 63,
   "metadata": {},
   "outputs": [],
   "source": [
    "numCols = ['area', 'bedrooms', 'bathrooms', 'stories', 'parking']"
   ]
  },
  {
   "cell_type": "code",
   "execution_count": 64,
   "metadata": {},
   "outputs": [
    {
     "data": {
      "text/html": [
       "<div>\n",
       "<style scoped>\n",
       "    .dataframe tbody tr th:only-of-type {\n",
       "        vertical-align: middle;\n",
       "    }\n",
       "\n",
       "    .dataframe tbody tr th {\n",
       "        vertical-align: top;\n",
       "    }\n",
       "\n",
       "    .dataframe thead th {\n",
       "        text-align: right;\n",
       "    }\n",
       "</style>\n",
       "<table border=\"1\" class=\"dataframe\">\n",
       "  <thead>\n",
       "    <tr style=\"text-align: right;\">\n",
       "      <th></th>\n",
       "      <th>Features</th>\n",
       "      <th>VIF</th>\n",
       "    </tr>\n",
       "  </thead>\n",
       "  <tbody>\n",
       "    <tr>\n",
       "      <th>1</th>\n",
       "      <td>bedrooms</td>\n",
       "      <td>4.53</td>\n",
       "    </tr>\n",
       "    <tr>\n",
       "      <th>0</th>\n",
       "      <td>area</td>\n",
       "      <td>3.50</td>\n",
       "    </tr>\n",
       "    <tr>\n",
       "      <th>3</th>\n",
       "      <td>stories</td>\n",
       "      <td>2.27</td>\n",
       "    </tr>\n",
       "    <tr>\n",
       "      <th>4</th>\n",
       "      <td>parking</td>\n",
       "      <td>1.90</td>\n",
       "    </tr>\n",
       "    <tr>\n",
       "      <th>2</th>\n",
       "      <td>bathrooms</td>\n",
       "      <td>1.58</td>\n",
       "    </tr>\n",
       "  </tbody>\n",
       "</table>\n",
       "</div>"
      ],
      "text/plain": [
       "    Features   VIF\n",
       "1   bedrooms  4.53\n",
       "0       area  3.50\n",
       "3    stories  2.27\n",
       "4    parking  1.90\n",
       "2  bathrooms  1.58"
      ]
     },
     "execution_count": 64,
     "metadata": {},
     "output_type": "execute_result"
    }
   ],
   "source": [
    "# Check for the VIF values of the feature variables. \n",
    "from statsmodels.stats.outliers_influence import variance_inflation_factor\n",
    "\n",
    "# Create a dataframe that will contain the names of all the feature variables and their respective VIFs\n",
    "vif = pd.DataFrame()\n",
    "vif['Features'] = X_train[numCols].columns\n",
    "vif['VIF'] = [variance_inflation_factor(X_train[numCols].values, i) for i in range(X_train[numCols].shape[1])]\n",
    "vif['VIF'] = round(vif['VIF'], 2)\n",
    "vif = vif.sort_values(by = \"VIF\", ascending = False)\n",
    "vif"
   ]
  },
  {
   "cell_type": "markdown",
   "metadata": {},
   "source": [
    "# Pipeline of Linear Models"
   ]
  },
  {
   "cell_type": "code",
   "execution_count": 68,
   "metadata": {},
   "outputs": [
    {
     "name": "stdout",
     "output_type": "stream",
     "text": [
      "LR: 0.644561 (0.047705)\n",
      "RD: 0.644681 (0.047588)\n",
      "LSCV: 0.644570 (0.047743)\n",
      "LLS: 0.644561 (0.047705)\n",
      "BRD: 0.644745 (0.047377)\n",
      "PR: 0.644561 (0.047705)\n",
      "KR: 0.311399 (0.159498)\n",
      "SVR: 0.622977 (0.027497)\n",
      "LSVR: 0.645068 (0.047809)\n",
      "KNN: 0.450234 (0.048809)\n"
     ]
    },
    {
     "data": {
      "image/png": "[encoded data removed]",
      "text/plain": [
       "<Figure size 432x288 with 1 Axes>"
      ]
     },
     "metadata": {},
     "output_type": "display_data"
    }
   ],
   "source": [
    "pipelines = []\n",
    "pipelines.append(('LR', Pipeline([('LR', LinearRegression())])))\n",
    "pipelines.append(('RD', Pipeline([('RD', RidgeCV())])))\n",
    "pipelines.append(('LSCV', Pipeline([('LSCV', LassoCV())])))\n",
    "pipelines.append(('LLS', Pipeline([('LLS', LassoLarsCV())])))\n",
    "# pipelines.append(('MLS', Pipeline([('MLS', MultiTaskLasso())])))\n",
    "# pipelines.append(('EN', Pipeline([('EN', ElasticNet())])))\n",
    "# pipelines.append(('MTEN', Pipeline([('MTEN', MultiTaskElasticNet())])))\n",
    "pipelines.append(('BRD', Pipeline([('BRD', BayesianRidge())])))\n",
    "pipelines.append(('PR', Pipeline([('PR', PolynomialFeatures(degree=1)),('linear', LinearRegression(fit_intercept=False))])))\n",
    "pipelines.append(('KR', Pipeline([('KR', KernelRidge(alpha=1))])))\n",
    "pipelines.append(('SVR', Pipeline([('SVR', svm.SVR())])))\n",
    "pipelines.append(('LSVR', Pipeline([('LSVR', svm.LinearSVR(random_state=0, tol=1e-05))])))\n",
    "pipelines.append(('KNN', Pipeline([('KNN', KNeighborsRegressor(n_neighbors=50))])))\n",
    "\n",
    "\n",
    "results = []\n",
    "names=[]\n",
    "for name, model in pipelines:\n",
    "    kfold = KFold(n_splits=10, random_state=42, shuffle=True)\n",
    "    cv_results = cross_val_score(model, X_train_rfe, y_train, cv=kfold, scoring='r2')\n",
    "    results.append(cv_results)\n",
    "    names.append(name)\n",
    "    msg = \"%s: %f (%f)\" % (name, cv_results.mean(), cv_results.std())\n",
    "    print(msg)\n",
    "\n",
    "# Compare Algorithms\n",
    "fig = plt.figure()\n",
    "fig.suptitle('Algorithm Comparison')\n",
    "ax = fig.add_subplot(111)\n",
    "plt.boxplot(results)\n",
    "ax.set_xticklabels(names)\n",
    "plt.show()"
   ]
  },
  {
   "cell_type": "code",
   "execution_count": null,
   "metadata": {},
   "outputs": [],
   "source": []
  },
  {
   "cell_type": "code",
   "execution_count": null,
   "metadata": {},
   "outputs": [],
   "source": []
  },
  {
   "cell_type": "code",
   "execution_count": null,
   "metadata": {},
   "outputs": [],
   "source": []
  }
 ],
 "metadata": {
  "kernelspec": {
   "display_name": "Python 3",
   "language": "python",
   "name": "python3"
  },
  "language_info": {
   "codemirror_mode": {
    "name": "ipython",
    "version": 3
   },
   "file_extension": ".py",
   "mimetype": "text/x-python",
   "name": "python",
   "nbconvert_exporter": "python",
   "pygments_lexer": "ipython3",
   "version": "3.8.5"
  }
 },
 "nbformat": 4,
 "nbformat_minor": 4
}
