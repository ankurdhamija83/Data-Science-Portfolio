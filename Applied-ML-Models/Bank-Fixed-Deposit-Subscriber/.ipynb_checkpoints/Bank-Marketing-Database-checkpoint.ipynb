{
 "cells": [
  {
   "cell_type": "markdown",
   "metadata": {},
   "source": [
    "**Project Name**: Banking Analytics - Predicting Deposit Subscriber\n",
    "\n",
    "**Author**: Ankur Dhamija\n",
    "\n",
    "**Connect on Linkedin**: https://www.linkedin.com/in/ankurdhamija/"
   ]
  },
  {
   "cell_type": "markdown",
   "metadata": {},
   "source": [
    "--------"
   ]
  },
  {
   "cell_type": "markdown",
   "metadata": {},
   "source": [
    "# Banking Analytics - Predicting Deposit Subscriber"
   ]
  },
  {
   "cell_type": "markdown",
   "metadata": {},
   "source": [
    "-------"
   ]
  },
  {
   "cell_type": "markdown",
   "metadata": {},
   "source": [
    "# 1. About the dataset"
   ]
  },
  {
   "cell_type": "markdown",
   "metadata": {},
   "source": [
    "The data is related with direct marketing campaigns (phone calls) of a Portuguese banking institution. \n",
    "\n",
    "Attribute Information:\n",
    "\n",
    "Input variables:\n",
    "#### bank client data:\n",
    "1 - age (numeric)\n",
    "\n",
    "2 - job : type of job (categorical: 'admin.','blue-collar','entrepreneur','housemaid','management','retired','self-employed','services','student','technician','unemployed','unknown')\n",
    "\n",
    "3 - marital : marital status (categorical: 'divorced','married','single','unknown'; note: 'divorced' means divorced or widowed)\n",
    "\n",
    "4 - education (categorical: 'basic.4y','basic.6y','basic.9y','high.school','illiterate','professional.course','university.degree','unknown')\n",
    "\n",
    "5 - default: has credit in default? (categorical: 'no','yes','unknown')\n",
    "\n",
    "6 - housing: has housing loan? (categorical: 'no','yes','unknown')\n",
    "\n",
    "7 - loan: has personal loan? (categorical: 'no','yes','unknown')\n",
    "\n",
    "#### related with the last contact of the current campaign:\n",
    "\n",
    "8 - contact: contact communication type (categorical: 'cellular','telephone')\n",
    "\n",
    "9 - month: last contact month of year (categorical: 'jan', 'feb', 'mar', ..., 'nov', 'dec')\n",
    "\n",
    "10 - day_of_week: last contact day of the week (categorical: 'mon','tue','wed','thu','fri')\n",
    "\n",
    "11 - duration: last contact duration, in seconds (numeric). Important note: this attribute highly affects the output target (e.g., if duration=0 then y='no'). Yet, the duration is not known before a call is performed. Also, after the end of the call y is obviously known. Thus, this input should only be included for benchmark purposes and should be discarded if the intention is to have a realistic predictive model.\n",
    "\n",
    "#### other attributes:\n",
    "\n",
    "12 - campaign: number of contacts performed during this campaign and for this client (numeric, includes last contact)\n",
    "\n",
    "13 - pdays: number of days that passed by after the client was last contacted from a previous campaign (numeric; 999 \n",
    "means client was not previously contacted)\n",
    "\n",
    "14 - previous: number of contacts performed before this campaign and for this client (numeric)\n",
    "\n",
    "15 - poutcome: outcome of the previous marketing campaign (categorical: 'failure','nonexistent','success')\n",
    "\n",
    "#### social and economic context attributes\n",
    "\n",
    "16 - emp.var.rate: employment variation rate - quarterly indicator (numeric)\n",
    "\n",
    "17 - cons.price.idx: consumer price index - monthly indicator (numeric)\n",
    "\n",
    "18 - cons.conf.idx: consumer confidence index - monthly indicator (numeric)\n",
    "\n",
    "19 - euribor3m: euribor 3 month rate - daily indicator (numeric)\n",
    "\n",
    "20 - nr.employed: number of employees - quarterly indicator (numeric)\n",
    "\n",
    "#### Output variable (desired target):\n",
    "21 - y - has the client subscribed a term deposit? (binary: 'yes','no')\n",
    "\n"
   ]
  },
  {
   "cell_type": "markdown",
   "metadata": {},
   "source": [
    "------"
   ]
  },
  {
   "cell_type": "markdown",
   "metadata": {},
   "source": [
    "## 2. Goal"
   ]
  },
  {
   "cell_type": "markdown",
   "metadata": {},
   "source": [
    "*The `classification goal` is to `predict` if the `client will subscribe a term deposit` (variable y).*"
   ]
  },
  {
   "cell_type": "markdown",
   "metadata": {},
   "source": [
    "-----"
   ]
  },
  {
   "cell_type": "markdown",
   "metadata": {},
   "source": [
    "## Key Findings"
   ]
  },
  {
   "cell_type": "markdown",
   "metadata": {},
   "source": [
    "- XXX"
   ]
  },
  {
   "cell_type": "markdown",
   "metadata": {},
   "source": [
    "---------"
   ]
  },
  {
   "cell_type": "markdown",
   "metadata": {},
   "source": [
    "## 3. Approach\n",
    "- Load the required libraries\n",
    "- Load the dataset\n",
    "- Overview of the dataset\n",
    "- Data Manipulation\n",
    "- Exploratory Data Analysis\n",
    "- Data Pre-Processing\n",
    "- Model Selection\n",
    "- Recursive Feature Elimination\n",
    "- Select Features\n",
    "- Model Tuning - Hyperparameter optimization\n",
    "- Final Model\n",
    "- Evaluate Final Model"
   ]
  },
  {
   "cell_type": "markdown",
   "metadata": {},
   "source": [
    "## 4. Load the required libraries"
   ]
  },
  {
   "cell_type": "code",
   "execution_count": 1,
   "metadata": {},
   "outputs": [],
   "source": [
    "#Suppress warnings\n",
    "import warnings\n",
    "warnings.filterwarnings(\"ignore\")"
   ]
  },
  {
   "cell_type": "code",
   "execution_count": 2,
   "metadata": {},
   "outputs": [],
   "source": [
    "#import required modules\n",
    "from pandas_profiling import ProfileReport\n",
    "import missingno as msno\n",
    "\n",
    "import pandas as pd\n",
    "pd.set_option('display.max_columns', None)\n",
    "import numpy as np\n",
    "\n",
    "import matplotlib.pyplot as plt\n",
    "%matplotlib inline\n",
    "import seaborn as sns\n",
    "\n",
    "#Pre-Processing libraries\n",
    "from sklearn.base import BaseEstimator, TransformerMixin\n",
    "from sklearn.preprocessing import MinMaxScaler\n",
    "from sklearn.pipeline import FeatureUnion, Pipeline\n",
    "\n",
    "#Sk-Learn Models\n",
    "from sklearn.linear_model import LogisticRegression, RidgeClassifier, SGDClassifier\n",
    "from sklearn.tree import DecisionTreeClassifier, DecisionTreeRegressor\n",
    "from sklearn.ensemble import RandomForestClassifier, GradientBoostingClassifier, BaggingClassifier\n",
    "from sklearn.naive_bayes import CategoricalNB\n",
    "from sklearn.neighbors import KNeighborsClassifier\n",
    "from sklearn.svm import SVC\n",
    "from sklearn.tree import DecisionTreeClassifier\n",
    "\n",
    "#Sk-Learn Model Selection\n",
    "from sklearn.model_selection import cross_val_score, KFold, GridSearchCV, train_test_split, StratifiedKFold\n",
    "from sklearn.feature_selection import RFECV, RFE\n",
    "from sklearn.metrics import confusion_matrix, accuracy_score, ConfusionMatrixDisplay\n",
    "\n",
    "from imblearn.over_sampling import SMOTE\n",
    "\n",
    "from scipy import stats"
   ]
  },
  {
   "cell_type": "code",
   "execution_count": 3,
   "metadata": {},
   "outputs": [],
   "source": [
    "#Set Seaborn Theme\n",
    "custom_params = {\"axes.spines.right\": False, \"axes.spines.top\": False}\n",
    "sns.set_theme(style=\"ticks\", rc=custom_params)\n",
    "sns.set_style(\"darkgrid\")"
   ]
  },
  {
   "cell_type": "code",
   "execution_count": 4,
   "metadata": {},
   "outputs": [],
   "source": [
    "#Setting to display Pipeline\n",
    "from sklearn import set_config\n",
    "set_config(display=\"diagram\")"
   ]
  },
  {
   "cell_type": "markdown",
   "metadata": {},
   "source": [
    "-------"
   ]
  },
  {
   "cell_type": "markdown",
   "metadata": {},
   "source": [
    "## 5. Load the dataset"
   ]
  },
  {
   "cell_type": "code",
   "execution_count": 5,
   "metadata": {},
   "outputs": [],
   "source": [
    "df = pd.read_csv(\"data/bank-additional-full.csv\", sep=\";\")"
   ]
  },
  {
   "cell_type": "code",
   "execution_count": 6,
   "metadata": {},
   "outputs": [
    {
     "data": {
      "text/html": [
       "<div>\n",
       "<style scoped>\n",
       "    .dataframe tbody tr th:only-of-type {\n",
       "        vertical-align: middle;\n",
       "    }\n",
       "\n",
       "    .dataframe tbody tr th {\n",
       "        vertical-align: top;\n",
       "    }\n",
       "\n",
       "    .dataframe thead th {\n",
       "        text-align: right;\n",
       "    }\n",
       "</style>\n",
       "<table border=\"1\" class=\"dataframe\">\n",
       "  <thead>\n",
       "    <tr style=\"text-align: right;\">\n",
       "      <th></th>\n",
       "      <th>age</th>\n",
       "      <th>job</th>\n",
       "      <th>marital</th>\n",
       "      <th>education</th>\n",
       "      <th>default</th>\n",
       "      <th>housing</th>\n",
       "      <th>loan</th>\n",
       "      <th>contact</th>\n",
       "      <th>month</th>\n",
       "      <th>day_of_week</th>\n",
       "      <th>duration</th>\n",
       "      <th>campaign</th>\n",
       "      <th>pdays</th>\n",
       "      <th>previous</th>\n",
       "      <th>poutcome</th>\n",
       "      <th>emp.var.rate</th>\n",
       "      <th>cons.price.idx</th>\n",
       "      <th>cons.conf.idx</th>\n",
       "      <th>euribor3m</th>\n",
       "      <th>nr.employed</th>\n",
       "      <th>y</th>\n",
       "    </tr>\n",
       "  </thead>\n",
       "  <tbody>\n",
       "    <tr>\n",
       "      <th>0</th>\n",
       "      <td>56</td>\n",
       "      <td>housemaid</td>\n",
       "      <td>married</td>\n",
       "      <td>basic.4y</td>\n",
       "      <td>no</td>\n",
       "      <td>no</td>\n",
       "      <td>no</td>\n",
       "      <td>telephone</td>\n",
       "      <td>may</td>\n",
       "      <td>mon</td>\n",
       "      <td>261</td>\n",
       "      <td>1</td>\n",
       "      <td>999</td>\n",
       "      <td>0</td>\n",
       "      <td>nonexistent</td>\n",
       "      <td>1.1</td>\n",
       "      <td>93.994</td>\n",
       "      <td>-36.4</td>\n",
       "      <td>4.857</td>\n",
       "      <td>5191.0</td>\n",
       "      <td>no</td>\n",
       "    </tr>\n",
       "    <tr>\n",
       "      <th>1</th>\n",
       "      <td>57</td>\n",
       "      <td>services</td>\n",
       "      <td>married</td>\n",
       "      <td>high.school</td>\n",
       "      <td>unknown</td>\n",
       "      <td>no</td>\n",
       "      <td>no</td>\n",
       "      <td>telephone</td>\n",
       "      <td>may</td>\n",
       "      <td>mon</td>\n",
       "      <td>149</td>\n",
       "      <td>1</td>\n",
       "      <td>999</td>\n",
       "      <td>0</td>\n",
       "      <td>nonexistent</td>\n",
       "      <td>1.1</td>\n",
       "      <td>93.994</td>\n",
       "      <td>-36.4</td>\n",
       "      <td>4.857</td>\n",
       "      <td>5191.0</td>\n",
       "      <td>no</td>\n",
       "    </tr>\n",
       "    <tr>\n",
       "      <th>2</th>\n",
       "      <td>37</td>\n",
       "      <td>services</td>\n",
       "      <td>married</td>\n",
       "      <td>high.school</td>\n",
       "      <td>no</td>\n",
       "      <td>yes</td>\n",
       "      <td>no</td>\n",
       "      <td>telephone</td>\n",
       "      <td>may</td>\n",
       "      <td>mon</td>\n",
       "      <td>226</td>\n",
       "      <td>1</td>\n",
       "      <td>999</td>\n",
       "      <td>0</td>\n",
       "      <td>nonexistent</td>\n",
       "      <td>1.1</td>\n",
       "      <td>93.994</td>\n",
       "      <td>-36.4</td>\n",
       "      <td>4.857</td>\n",
       "      <td>5191.0</td>\n",
       "      <td>no</td>\n",
       "    </tr>\n",
       "    <tr>\n",
       "      <th>3</th>\n",
       "      <td>40</td>\n",
       "      <td>admin.</td>\n",
       "      <td>married</td>\n",
       "      <td>basic.6y</td>\n",
       "      <td>no</td>\n",
       "      <td>no</td>\n",
       "      <td>no</td>\n",
       "      <td>telephone</td>\n",
       "      <td>may</td>\n",
       "      <td>mon</td>\n",
       "      <td>151</td>\n",
       "      <td>1</td>\n",
       "      <td>999</td>\n",
       "      <td>0</td>\n",
       "      <td>nonexistent</td>\n",
       "      <td>1.1</td>\n",
       "      <td>93.994</td>\n",
       "      <td>-36.4</td>\n",
       "      <td>4.857</td>\n",
       "      <td>5191.0</td>\n",
       "      <td>no</td>\n",
       "    </tr>\n",
       "    <tr>\n",
       "      <th>4</th>\n",
       "      <td>56</td>\n",
       "      <td>services</td>\n",
       "      <td>married</td>\n",
       "      <td>high.school</td>\n",
       "      <td>no</td>\n",
       "      <td>no</td>\n",
       "      <td>yes</td>\n",
       "      <td>telephone</td>\n",
       "      <td>may</td>\n",
       "      <td>mon</td>\n",
       "      <td>307</td>\n",
       "      <td>1</td>\n",
       "      <td>999</td>\n",
       "      <td>0</td>\n",
       "      <td>nonexistent</td>\n",
       "      <td>1.1</td>\n",
       "      <td>93.994</td>\n",
       "      <td>-36.4</td>\n",
       "      <td>4.857</td>\n",
       "      <td>5191.0</td>\n",
       "      <td>no</td>\n",
       "    </tr>\n",
       "  </tbody>\n",
       "</table>\n",
       "</div>"
      ],
      "text/plain": [
       "   age        job  marital    education  default housing loan    contact  \\\n",
       "0   56  housemaid  married     basic.4y       no      no   no  telephone   \n",
       "1   57   services  married  high.school  unknown      no   no  telephone   \n",
       "2   37   services  married  high.school       no     yes   no  telephone   \n",
       "3   40     admin.  married     basic.6y       no      no   no  telephone   \n",
       "4   56   services  married  high.school       no      no  yes  telephone   \n",
       "\n",
       "  month day_of_week  duration  campaign  pdays  previous     poutcome  \\\n",
       "0   may         mon       261         1    999         0  nonexistent   \n",
       "1   may         mon       149         1    999         0  nonexistent   \n",
       "2   may         mon       226         1    999         0  nonexistent   \n",
       "3   may         mon       151         1    999         0  nonexistent   \n",
       "4   may         mon       307         1    999         0  nonexistent   \n",
       "\n",
       "   emp.var.rate  cons.price.idx  cons.conf.idx  euribor3m  nr.employed   y  \n",
       "0           1.1          93.994          -36.4      4.857       5191.0  no  \n",
       "1           1.1          93.994          -36.4      4.857       5191.0  no  \n",
       "2           1.1          93.994          -36.4      4.857       5191.0  no  \n",
       "3           1.1          93.994          -36.4      4.857       5191.0  no  \n",
       "4           1.1          93.994          -36.4      4.857       5191.0  no  "
      ]
     },
     "execution_count": 6,
     "metadata": {},
     "output_type": "execute_result"
    }
   ],
   "source": [
    "#Visualize the dataframe\n",
    "df.head()"
   ]
  },
  {
   "cell_type": "markdown",
   "metadata": {},
   "source": [
    "--------"
   ]
  },
  {
   "cell_type": "markdown",
   "metadata": {},
   "source": [
    "## 6. Overview of the dataset"
   ]
  },
  {
   "cell_type": "code",
   "execution_count": 7,
   "metadata": {},
   "outputs": [],
   "source": [
    "# profile = ProfileReport(df, title=\"Pandas Profiling Report\", explorative=True)\n",
    "# profile.to_notebook_iframe()"
   ]
  },
  {
   "cell_type": "markdown",
   "metadata": {},
   "source": [
    "### Check for missing values"
   ]
  },
  {
   "cell_type": "code",
   "execution_count": 8,
   "metadata": {},
   "outputs": [
    {
     "data": {
      "text/plain": [
       "<AxesSubplot:>"
      ]
     },
     "execution_count": 8,
     "metadata": {},
     "output_type": "execute_result"
    },
    {
     "data": {
      "image/png": "[encoded data removed]",
      "text/plain": [
       "<Figure size 1800x720 with 2 Axes>"
      ]
     },
     "metadata": {},
     "output_type": "display_data"
    }
   ],
   "source": [
    "# Visualize missing values as a matrix\n",
    "msno.matrix(df)"
   ]
  },
  {
   "cell_type": "markdown",
   "metadata": {},
   "source": [
    "-----"
   ]
  },
  {
   "cell_type": "markdown",
   "metadata": {},
   "source": [
    "## 7. Data manipulation"
   ]
  },
  {
   "cell_type": "markdown",
   "metadata": {},
   "source": [
    "### 7.1 Rename columns"
   ]
  },
  {
   "cell_type": "code",
   "execution_count": 9,
   "metadata": {},
   "outputs": [],
   "source": [
    "#"
   ]
  },
  {
   "cell_type": "markdown",
   "metadata": {},
   "source": [
    "### 7.2 Move target variable to the beginning of the dataset"
   ]
  },
  {
   "cell_type": "code",
   "execution_count": 10,
   "metadata": {},
   "outputs": [],
   "source": [
    "# # Moving the reponse variable \"turnover\" to the front of the table\n",
    "# front = df['turnover']\n",
    "# df.drop(labels=['turnover'], axis=1,inplace = True)\n",
    "# df.insert(0, 'turnover', front)\n",
    "# df.head()"
   ]
  },
  {
   "cell_type": "markdown",
   "metadata": {},
   "source": [
    "### 7.3 Check and remove duplicates"
   ]
  },
  {
   "cell_type": "code",
   "execution_count": 11,
   "metadata": {},
   "outputs": [
    {
     "name": "stdout",
     "output_type": "stream",
     "text": [
      "12\n"
     ]
    }
   ],
   "source": [
    "# Check for numbe of duplicates in the dataset\n",
    "print(df.duplicated().sum())"
   ]
  },
  {
   "cell_type": "code",
   "execution_count": 12,
   "metadata": {},
   "outputs": [],
   "source": [
    "#Remove duplicates\n",
    "df.drop_duplicates(inplace=True)"
   ]
  },
  {
   "cell_type": "code",
   "execution_count": 13,
   "metadata": {},
   "outputs": [
    {
     "name": "stdout",
     "output_type": "stream",
     "text": [
      "0\n"
     ]
    }
   ],
   "source": [
    "# Check for numbe of duplicates in the dataset\n",
    "print(df.duplicated().sum())"
   ]
  },
  {
   "cell_type": "markdown",
   "metadata": {},
   "source": [
    "-----"
   ]
  },
  {
   "cell_type": "markdown",
   "metadata": {},
   "source": [
    "## 8. Dataset Overview - Exploratory Data Analysis"
   ]
  },
  {
   "cell_type": "markdown",
   "metadata": {},
   "source": [
    "<blockquote><b>Only 11% of the customers</b> contacted successfully subscribed to a term deposit.</blockquote>"
   ]
  },
  {
   "cell_type": "code",
   "execution_count": 14,
   "metadata": {},
   "outputs": [
    {
     "data": {
      "text/plain": [
       "'0.11'"
      ]
     },
     "execution_count": 14,
     "metadata": {},
     "output_type": "execute_result"
    }
   ],
   "source": [
    "#Customers who successfully subscribed to a term deposit\n",
    "\"{:.2f}\".format(df[\"y\"].value_counts()[\"yes\"]/(df[\"y\"].value_counts()[\"yes\"]+df[\"y\"].value_counts()[\"no\"]))"
   ]
  },
  {
   "cell_type": "code",
   "execution_count": 15,
   "metadata": {},
   "outputs": [
    {
     "data": {
      "text/plain": [
       "no     36537\n",
       "yes     4639\n",
       "Name: y, dtype: int64"
      ]
     },
     "execution_count": 15,
     "metadata": {},
     "output_type": "execute_result"
    },
    {
     "data": {
      "image/png": "[encoded data removed]",
      "text/plain": [
       "<Figure size 432x288 with 1 Axes>"
      ]
     },
     "metadata": {},
     "output_type": "display_data"
    }
   ],
   "source": [
    "#Check the frequency of the output variable\n",
    "pd.value_counts(df['y']).plot.bar()\n",
    "plt.title('Fraud class histogram')\n",
    "plt.xlabel('Class')\n",
    "plt.ylabel('Frequency')\n",
    "df['y'].value_counts()"
   ]
  },
  {
   "cell_type": "markdown",
   "metadata": {},
   "source": [
    "---------"
   ]
  },
  {
   "cell_type": "markdown",
   "metadata": {},
   "source": [
    "## 9. Data Pre-Processing Pipeline"
   ]
  },
  {
   "cell_type": "markdown",
   "metadata": {},
   "source": [
    "### 9.1 Create train-test split"
   ]
  },
  {
   "cell_type": "code",
   "execution_count": 17,
   "metadata": {},
   "outputs": [
    {
     "name": "stdout",
     "output_type": "stream",
     "text": [
      "(32940, 21)\n",
      "(8236, 21)\n"
     ]
    }
   ],
   "source": [
    "#Split the train and test data\n",
    "train, test =  train_test_split(df,test_size=0.2, random_state=123, stratify=df['y'])\n",
    "print(train.shape)\n",
    "print(test.shape)"
   ]
  },
  {
   "cell_type": "code",
   "execution_count": 18,
   "metadata": {},
   "outputs": [
    {
     "name": "stdout",
     "output_type": "stream",
     "text": [
      "<class 'pandas.core.frame.DataFrame'>\n",
      "Int64Index: 41176 entries, 0 to 41187\n",
      "Data columns (total 21 columns):\n",
      " #   Column          Non-Null Count  Dtype  \n",
      "---  ------          --------------  -----  \n",
      " 0   age             41176 non-null  int64  \n",
      " 1   job             41176 non-null  object \n",
      " 2   marital         41176 non-null  object \n",
      " 3   education       41176 non-null  object \n",
      " 4   default         41176 non-null  object \n",
      " 5   housing         41176 non-null  object \n",
      " 6   loan            41176 non-null  object \n",
      " 7   contact         41176 non-null  object \n",
      " 8   month           41176 non-null  object \n",
      " 9   day_of_week     41176 non-null  object \n",
      " 10  duration        41176 non-null  int64  \n",
      " 11  campaign        41176 non-null  int64  \n",
      " 12  pdays           41176 non-null  int64  \n",
      " 13  previous        41176 non-null  int64  \n",
      " 14  poutcome        41176 non-null  object \n",
      " 15  emp.var.rate    41176 non-null  float64\n",
      " 16  cons.price.idx  41176 non-null  float64\n",
      " 17  cons.conf.idx   41176 non-null  float64\n",
      " 18  euribor3m       41176 non-null  float64\n",
      " 19  nr.employed     41176 non-null  float64\n",
      " 20  y               41176 non-null  object \n",
      "dtypes: float64(5), int64(5), object(11)\n",
      "memory usage: 6.9+ MB\n"
     ]
    }
   ],
   "source": [
    "df.info()"
   ]
  },
  {
   "cell_type": "markdown",
   "metadata": {},
   "source": [
    "### 9.2 Custom Pre-Processing Transformers"
   ]
  },
  {
   "cell_type": "code",
   "execution_count": 19,
   "metadata": {},
   "outputs": [
    {
     "data": {
      "text/html": [
       "<div>\n",
       "<style scoped>\n",
       "    .dataframe tbody tr th:only-of-type {\n",
       "        vertical-align: middle;\n",
       "    }\n",
       "\n",
       "    .dataframe tbody tr th {\n",
       "        vertical-align: top;\n",
       "    }\n",
       "\n",
       "    .dataframe thead th {\n",
       "        text-align: right;\n",
       "    }\n",
       "</style>\n",
       "<table border=\"1\" class=\"dataframe\">\n",
       "  <thead>\n",
       "    <tr style=\"text-align: right;\">\n",
       "      <th></th>\n",
       "      <th>age</th>\n",
       "      <th>job</th>\n",
       "      <th>marital</th>\n",
       "      <th>education</th>\n",
       "      <th>default</th>\n",
       "      <th>housing</th>\n",
       "      <th>loan</th>\n",
       "      <th>contact</th>\n",
       "      <th>month</th>\n",
       "      <th>day_of_week</th>\n",
       "      <th>duration</th>\n",
       "      <th>campaign</th>\n",
       "      <th>pdays</th>\n",
       "      <th>previous</th>\n",
       "      <th>poutcome</th>\n",
       "      <th>emp.var.rate</th>\n",
       "      <th>cons.price.idx</th>\n",
       "      <th>cons.conf.idx</th>\n",
       "      <th>euribor3m</th>\n",
       "      <th>nr.employed</th>\n",
       "      <th>y</th>\n",
       "    </tr>\n",
       "  </thead>\n",
       "  <tbody>\n",
       "    <tr>\n",
       "      <th>0</th>\n",
       "      <td>56</td>\n",
       "      <td>housemaid</td>\n",
       "      <td>married</td>\n",
       "      <td>basic.4y</td>\n",
       "      <td>no</td>\n",
       "      <td>no</td>\n",
       "      <td>no</td>\n",
       "      <td>telephone</td>\n",
       "      <td>may</td>\n",
       "      <td>mon</td>\n",
       "      <td>261</td>\n",
       "      <td>1</td>\n",
       "      <td>999</td>\n",
       "      <td>0</td>\n",
       "      <td>nonexistent</td>\n",
       "      <td>1.1</td>\n",
       "      <td>93.994</td>\n",
       "      <td>-36.4</td>\n",
       "      <td>4.857</td>\n",
       "      <td>5191.0</td>\n",
       "      <td>no</td>\n",
       "    </tr>\n",
       "    <tr>\n",
       "      <th>1</th>\n",
       "      <td>57</td>\n",
       "      <td>services</td>\n",
       "      <td>married</td>\n",
       "      <td>high.school</td>\n",
       "      <td>unknown</td>\n",
       "      <td>no</td>\n",
       "      <td>no</td>\n",
       "      <td>telephone</td>\n",
       "      <td>may</td>\n",
       "      <td>mon</td>\n",
       "      <td>149</td>\n",
       "      <td>1</td>\n",
       "      <td>999</td>\n",
       "      <td>0</td>\n",
       "      <td>nonexistent</td>\n",
       "      <td>1.1</td>\n",
       "      <td>93.994</td>\n",
       "      <td>-36.4</td>\n",
       "      <td>4.857</td>\n",
       "      <td>5191.0</td>\n",
       "      <td>no</td>\n",
       "    </tr>\n",
       "    <tr>\n",
       "      <th>2</th>\n",
       "      <td>37</td>\n",
       "      <td>services</td>\n",
       "      <td>married</td>\n",
       "      <td>high.school</td>\n",
       "      <td>no</td>\n",
       "      <td>yes</td>\n",
       "      <td>no</td>\n",
       "      <td>telephone</td>\n",
       "      <td>may</td>\n",
       "      <td>mon</td>\n",
       "      <td>226</td>\n",
       "      <td>1</td>\n",
       "      <td>999</td>\n",
       "      <td>0</td>\n",
       "      <td>nonexistent</td>\n",
       "      <td>1.1</td>\n",
       "      <td>93.994</td>\n",
       "      <td>-36.4</td>\n",
       "      <td>4.857</td>\n",
       "      <td>5191.0</td>\n",
       "      <td>no</td>\n",
       "    </tr>\n",
       "    <tr>\n",
       "      <th>3</th>\n",
       "      <td>40</td>\n",
       "      <td>admin.</td>\n",
       "      <td>married</td>\n",
       "      <td>basic.6y</td>\n",
       "      <td>no</td>\n",
       "      <td>no</td>\n",
       "      <td>no</td>\n",
       "      <td>telephone</td>\n",
       "      <td>may</td>\n",
       "      <td>mon</td>\n",
       "      <td>151</td>\n",
       "      <td>1</td>\n",
       "      <td>999</td>\n",
       "      <td>0</td>\n",
       "      <td>nonexistent</td>\n",
       "      <td>1.1</td>\n",
       "      <td>93.994</td>\n",
       "      <td>-36.4</td>\n",
       "      <td>4.857</td>\n",
       "      <td>5191.0</td>\n",
       "      <td>no</td>\n",
       "    </tr>\n",
       "    <tr>\n",
       "      <th>4</th>\n",
       "      <td>56</td>\n",
       "      <td>services</td>\n",
       "      <td>married</td>\n",
       "      <td>high.school</td>\n",
       "      <td>no</td>\n",
       "      <td>no</td>\n",
       "      <td>yes</td>\n",
       "      <td>telephone</td>\n",
       "      <td>may</td>\n",
       "      <td>mon</td>\n",
       "      <td>307</td>\n",
       "      <td>1</td>\n",
       "      <td>999</td>\n",
       "      <td>0</td>\n",
       "      <td>nonexistent</td>\n",
       "      <td>1.1</td>\n",
       "      <td>93.994</td>\n",
       "      <td>-36.4</td>\n",
       "      <td>4.857</td>\n",
       "      <td>5191.0</td>\n",
       "      <td>no</td>\n",
       "    </tr>\n",
       "  </tbody>\n",
       "</table>\n",
       "</div>"
      ],
      "text/plain": [
       "   age        job  marital    education  default housing loan    contact  \\\n",
       "0   56  housemaid  married     basic.4y       no      no   no  telephone   \n",
       "1   57   services  married  high.school  unknown      no   no  telephone   \n",
       "2   37   services  married  high.school       no     yes   no  telephone   \n",
       "3   40     admin.  married     basic.6y       no      no   no  telephone   \n",
       "4   56   services  married  high.school       no      no  yes  telephone   \n",
       "\n",
       "  month day_of_week  duration  campaign  pdays  previous     poutcome  \\\n",
       "0   may         mon       261         1    999         0  nonexistent   \n",
       "1   may         mon       149         1    999         0  nonexistent   \n",
       "2   may         mon       226         1    999         0  nonexistent   \n",
       "3   may         mon       151         1    999         0  nonexistent   \n",
       "4   may         mon       307         1    999         0  nonexistent   \n",
       "\n",
       "   emp.var.rate  cons.price.idx  cons.conf.idx  euribor3m  nr.employed   y  \n",
       "0           1.1          93.994          -36.4      4.857       5191.0  no  \n",
       "1           1.1          93.994          -36.4      4.857       5191.0  no  \n",
       "2           1.1          93.994          -36.4      4.857       5191.0  no  \n",
       "3           1.1          93.994          -36.4      4.857       5191.0  no  \n",
       "4           1.1          93.994          -36.4      4.857       5191.0  no  "
      ]
     },
     "execution_count": 19,
     "metadata": {},
     "output_type": "execute_result"
    }
   ],
   "source": [
    "df.head()"
   ]
  },
  {
   "cell_type": "code",
   "execution_count": 20,
   "metadata": {},
   "outputs": [
    {
     "name": "stdout",
     "output_type": "stream",
     "text": [
      "<class 'pandas.core.frame.DataFrame'>\n",
      "Int64Index: 41176 entries, 0 to 41187\n",
      "Data columns (total 21 columns):\n",
      " #   Column          Non-Null Count  Dtype  \n",
      "---  ------          --------------  -----  \n",
      " 0   age             41176 non-null  int64  \n",
      " 1   job             41176 non-null  object \n",
      " 2   marital         41176 non-null  object \n",
      " 3   education       41176 non-null  object \n",
      " 4   default         41176 non-null  object \n",
      " 5   housing         41176 non-null  object \n",
      " 6   loan            41176 non-null  object \n",
      " 7   contact         41176 non-null  object \n",
      " 8   month           41176 non-null  object \n",
      " 9   day_of_week     41176 non-null  object \n",
      " 10  duration        41176 non-null  int64  \n",
      " 11  campaign        41176 non-null  int64  \n",
      " 12  pdays           41176 non-null  int64  \n",
      " 13  previous        41176 non-null  int64  \n",
      " 14  poutcome        41176 non-null  object \n",
      " 15  emp.var.rate    41176 non-null  float64\n",
      " 16  cons.price.idx  41176 non-null  float64\n",
      " 17  cons.conf.idx   41176 non-null  float64\n",
      " 18  euribor3m       41176 non-null  float64\n",
      " 19  nr.employed     41176 non-null  float64\n",
      " 20  y               41176 non-null  object \n",
      "dtypes: float64(5), int64(5), object(11)\n",
      "memory usage: 6.9+ MB\n"
     ]
    }
   ],
   "source": [
    "df.info()"
   ]
  },
  {
   "cell_type": "code",
   "execution_count": 21,
   "metadata": {},
   "outputs": [
    {
     "data": {
      "text/html": [
       "<div>\n",
       "<style scoped>\n",
       "    .dataframe tbody tr th:only-of-type {\n",
       "        vertical-align: middle;\n",
       "    }\n",
       "\n",
       "    .dataframe tbody tr th {\n",
       "        vertical-align: top;\n",
       "    }\n",
       "\n",
       "    .dataframe thead th {\n",
       "        text-align: right;\n",
       "    }\n",
       "</style>\n",
       "<table border=\"1\" class=\"dataframe\">\n",
       "  <thead>\n",
       "    <tr style=\"text-align: right;\">\n",
       "      <th></th>\n",
       "      <th>age</th>\n",
       "      <th>job</th>\n",
       "      <th>marital</th>\n",
       "      <th>education</th>\n",
       "      <th>default</th>\n",
       "      <th>housing</th>\n",
       "      <th>loan</th>\n",
       "      <th>contact</th>\n",
       "      <th>month</th>\n",
       "      <th>day_of_week</th>\n",
       "      <th>duration</th>\n",
       "      <th>campaign</th>\n",
       "      <th>pdays</th>\n",
       "      <th>previous</th>\n",
       "      <th>poutcome</th>\n",
       "      <th>emp.var.rate</th>\n",
       "      <th>cons.price.idx</th>\n",
       "      <th>cons.conf.idx</th>\n",
       "      <th>euribor3m</th>\n",
       "      <th>nr.employed</th>\n",
       "      <th>y</th>\n",
       "    </tr>\n",
       "  </thead>\n",
       "  <tbody>\n",
       "    <tr>\n",
       "      <th>0</th>\n",
       "      <td>56</td>\n",
       "      <td>housemaid</td>\n",
       "      <td>married</td>\n",
       "      <td>basic.4y</td>\n",
       "      <td>no</td>\n",
       "      <td>no</td>\n",
       "      <td>no</td>\n",
       "      <td>telephone</td>\n",
       "      <td>may</td>\n",
       "      <td>mon</td>\n",
       "      <td>261</td>\n",
       "      <td>1</td>\n",
       "      <td>999</td>\n",
       "      <td>0</td>\n",
       "      <td>nonexistent</td>\n",
       "      <td>1.1</td>\n",
       "      <td>93.994</td>\n",
       "      <td>-36.4</td>\n",
       "      <td>4.857</td>\n",
       "      <td>5191.0</td>\n",
       "      <td>no</td>\n",
       "    </tr>\n",
       "    <tr>\n",
       "      <th>1</th>\n",
       "      <td>57</td>\n",
       "      <td>services</td>\n",
       "      <td>married</td>\n",
       "      <td>high.school</td>\n",
       "      <td>unknown</td>\n",
       "      <td>no</td>\n",
       "      <td>no</td>\n",
       "      <td>telephone</td>\n",
       "      <td>may</td>\n",
       "      <td>mon</td>\n",
       "      <td>149</td>\n",
       "      <td>1</td>\n",
       "      <td>999</td>\n",
       "      <td>0</td>\n",
       "      <td>nonexistent</td>\n",
       "      <td>1.1</td>\n",
       "      <td>93.994</td>\n",
       "      <td>-36.4</td>\n",
       "      <td>4.857</td>\n",
       "      <td>5191.0</td>\n",
       "      <td>no</td>\n",
       "    </tr>\n",
       "    <tr>\n",
       "      <th>2</th>\n",
       "      <td>37</td>\n",
       "      <td>services</td>\n",
       "      <td>married</td>\n",
       "      <td>high.school</td>\n",
       "      <td>no</td>\n",
       "      <td>yes</td>\n",
       "      <td>no</td>\n",
       "      <td>telephone</td>\n",
       "      <td>may</td>\n",
       "      <td>mon</td>\n",
       "      <td>226</td>\n",
       "      <td>1</td>\n",
       "      <td>999</td>\n",
       "      <td>0</td>\n",
       "      <td>nonexistent</td>\n",
       "      <td>1.1</td>\n",
       "      <td>93.994</td>\n",
       "      <td>-36.4</td>\n",
       "      <td>4.857</td>\n",
       "      <td>5191.0</td>\n",
       "      <td>no</td>\n",
       "    </tr>\n",
       "    <tr>\n",
       "      <th>3</th>\n",
       "      <td>40</td>\n",
       "      <td>admin.</td>\n",
       "      <td>married</td>\n",
       "      <td>basic.6y</td>\n",
       "      <td>no</td>\n",
       "      <td>no</td>\n",
       "      <td>no</td>\n",
       "      <td>telephone</td>\n",
       "      <td>may</td>\n",
       "      <td>mon</td>\n",
       "      <td>151</td>\n",
       "      <td>1</td>\n",
       "      <td>999</td>\n",
       "      <td>0</td>\n",
       "      <td>nonexistent</td>\n",
       "      <td>1.1</td>\n",
       "      <td>93.994</td>\n",
       "      <td>-36.4</td>\n",
       "      <td>4.857</td>\n",
       "      <td>5191.0</td>\n",
       "      <td>no</td>\n",
       "    </tr>\n",
       "    <tr>\n",
       "      <th>4</th>\n",
       "      <td>56</td>\n",
       "      <td>services</td>\n",
       "      <td>married</td>\n",
       "      <td>high.school</td>\n",
       "      <td>no</td>\n",
       "      <td>no</td>\n",
       "      <td>yes</td>\n",
       "      <td>telephone</td>\n",
       "      <td>may</td>\n",
       "      <td>mon</td>\n",
       "      <td>307</td>\n",
       "      <td>1</td>\n",
       "      <td>999</td>\n",
       "      <td>0</td>\n",
       "      <td>nonexistent</td>\n",
       "      <td>1.1</td>\n",
       "      <td>93.994</td>\n",
       "      <td>-36.4</td>\n",
       "      <td>4.857</td>\n",
       "      <td>5191.0</td>\n",
       "      <td>no</td>\n",
       "    </tr>\n",
       "  </tbody>\n",
       "</table>\n",
       "</div>"
      ],
      "text/plain": [
       "   age        job  marital    education  default housing loan    contact  \\\n",
       "0   56  housemaid  married     basic.4y       no      no   no  telephone   \n",
       "1   57   services  married  high.school  unknown      no   no  telephone   \n",
       "2   37   services  married  high.school       no     yes   no  telephone   \n",
       "3   40     admin.  married     basic.6y       no      no   no  telephone   \n",
       "4   56   services  married  high.school       no      no  yes  telephone   \n",
       "\n",
       "  month day_of_week  duration  campaign  pdays  previous     poutcome  \\\n",
       "0   may         mon       261         1    999         0  nonexistent   \n",
       "1   may         mon       149         1    999         0  nonexistent   \n",
       "2   may         mon       226         1    999         0  nonexistent   \n",
       "3   may         mon       151         1    999         0  nonexistent   \n",
       "4   may         mon       307         1    999         0  nonexistent   \n",
       "\n",
       "   emp.var.rate  cons.price.idx  cons.conf.idx  euribor3m  nr.employed   y  \n",
       "0           1.1          93.994          -36.4      4.857       5191.0  no  \n",
       "1           1.1          93.994          -36.4      4.857       5191.0  no  \n",
       "2           1.1          93.994          -36.4      4.857       5191.0  no  \n",
       "3           1.1          93.994          -36.4      4.857       5191.0  no  \n",
       "4           1.1          93.994          -36.4      4.857       5191.0  no  "
      ]
     },
     "execution_count": 21,
     "metadata": {},
     "output_type": "execute_result"
    }
   ],
   "source": [
    "df.head()"
   ]
  },
  {
   "cell_type": "code",
   "execution_count": 22,
   "metadata": {},
   "outputs": [],
   "source": [
    "#Get the list of Numerical columns for scaling\n",
    "numCols = ['age',\n",
    "           'duration',\n",
    "           'campaign',\n",
    "           'pdays',\n",
    "           'previous',\n",
    "           'emp.var.rate',\n",
    "           'cons.price.idx',\n",
    "           'cons.conf.idx',\n",
    "           'euribor3m',\n",
    "           'nr.employed']"
   ]
  },
  {
   "cell_type": "code",
   "execution_count": 23,
   "metadata": {},
   "outputs": [],
   "source": [
    "#Get the list of categorical columns for dummy encoding\n",
    "dummyColList = ['job',\n",
    "                'marital',\n",
    "                'education',\n",
    "                'default',\n",
    "                'housing',\n",
    "                'loan',\n",
    "                'contact',\n",
    "                'month',\n",
    "                'day_of_week',\n",
    "                'poutcome']"
   ]
  },
  {
   "cell_type": "code",
   "execution_count": 24,
   "metadata": {},
   "outputs": [],
   "source": [
    "#Custom Transformer that transforms Categorical columns\n",
    "class DummyEncoding( BaseEstimator, TransformerMixin):\n",
    "    \n",
    "    #Class Constructor\n",
    "    def __init__(self, dummyColList):\n",
    "        self.dummyColList = dummyColList\n",
    "        \n",
    "    #Return self nothing else to do here\n",
    "    def fit( self, X, y = None  ):\n",
    "        return self\n",
    "    \n",
    "    #Transformer method we wrote for this transformer \n",
    "    def transform(self, X , y = None ):\n",
    "        \n",
    "        #One-Hot Encoding of categorical columns\n",
    "        #Get dummy variables\n",
    "        for each_col in self.dummyColList:\n",
    "            X[each_col] = pd.factorize(X[each_col])[0]\n",
    "        \n",
    "        return X"
   ]
  },
  {
   "cell_type": "code",
   "execution_count": 25,
   "metadata": {},
   "outputs": [],
   "source": [
    "#Custom Transformer that scales Numerical columns\n",
    "class CustomScaler( BaseEstimator, TransformerMixin):\n",
    "    \n",
    "    #Class Constructor\n",
    "    def __init__(self, numCols):\n",
    "        self.numCols = numCols\n",
    "        self.scaler = MinMaxScaler()\n",
    "        \n",
    "    #Return self nothing else to do here\n",
    "    def fit( self, X, y = None  ):\n",
    "        self.scaler.fit(X[numCols])\n",
    "        return self\n",
    "    \n",
    "    #Transformer method we wrote for this transformer \n",
    "    def transform(self, X , y = None ):\n",
    "        \n",
    "        X[numCols] = self.scaler.transform(X[numCols])\n",
    "        \n",
    "        return X"
   ]
  },
  {
   "cell_type": "markdown",
   "metadata": {},
   "source": [
    "### 9.3 Pre-Processing pipeline"
   ]
  },
  {
   "cell_type": "code",
   "execution_count": 26,
   "metadata": {},
   "outputs": [],
   "source": [
    "train[\"y\"] = pd.factorize(train[\"y\"])[0]\n",
    "test[\"y\"] = pd.factorize(test[\"y\"])[0]"
   ]
  },
  {
   "cell_type": "code",
   "execution_count": 27,
   "metadata": {},
   "outputs": [],
   "source": [
    "#Defining the steps in the categorical pipeline \n",
    "categorical_pipeline = Pipeline( steps = [('dummyEncodingTransformer', DummyEncoding(dummyColList))] )"
   ]
  },
  {
   "cell_type": "code",
   "execution_count": 28,
   "metadata": {},
   "outputs": [],
   "source": [
    "#Defining the steps in the numerical pipeline     \n",
    "numerical_pipeline = Pipeline( steps = [ ( 'min_max_scaler', CustomScaler(numCols)) ] )"
   ]
  },
  {
   "cell_type": "code",
   "execution_count": 29,
   "metadata": {},
   "outputs": [],
   "source": [
    "#Combining numerical and categorical piepline into one full big pipeline horizontally \n",
    "#using FeatureUnion\n",
    "preProcessingPipeline = Pipeline( steps = [ ( 'categorical_pipeline', categorical_pipeline ), \n",
    "                                                  \n",
    "                                                  ( 'numerical_pipeline', numerical_pipeline ) ] )\n",
    "\n"
   ]
  },
  {
   "cell_type": "code",
   "execution_count": 30,
   "metadata": {},
   "outputs": [
    {
     "data": {
      "text/html": [
       "<style>#sk-3c87eae1-9773-4508-b5aa-9c85cd0675bc {color: black;background-color: white;}#sk-3c87eae1-9773-4508-b5aa-9c85cd0675bc pre{padding: 0;}#sk-3c87eae1-9773-4508-b5aa-9c85cd0675bc div.sk-toggleable {background-color: white;}#sk-3c87eae1-9773-4508-b5aa-9c85cd0675bc label.sk-toggleable__label {cursor: pointer;display: block;width: 100%;margin-bottom: 0;padding: 0.3em;box-sizing: border-box;text-align: center;}#sk-3c87eae1-9773-4508-b5aa-9c85cd0675bc div.sk-toggleable__content {max-height: 0;max-width: 0;overflow: hidden;text-align: left;background-color: #f0f8ff;}#sk-3c87eae1-9773-4508-b5aa-9c85cd0675bc div.sk-toggleable__content pre {margin: 0.2em;color: black;border-radius: 0.25em;background-color: #f0f8ff;}#sk-3c87eae1-9773-4508-b5aa-9c85cd0675bc input.sk-toggleable__control:checked~div.sk-toggleable__content {max-height: 200px;max-width: 100%;overflow: auto;}#sk-3c87eae1-9773-4508-b5aa-9c85cd0675bc div.sk-estimator input.sk-toggleable__control:checked~label.sk-toggleable__label {background-color: #d4ebff;}#sk-3c87eae1-9773-4508-b5aa-9c85cd0675bc div.sk-label input.sk-toggleable__control:checked~label.sk-toggleable__label {background-color: #d4ebff;}#sk-3c87eae1-9773-4508-b5aa-9c85cd0675bc input.sk-hidden--visually {border: 0;clip: rect(1px 1px 1px 1px);clip: rect(1px, 1px, 1px, 1px);height: 1px;margin: -1px;overflow: hidden;padding: 0;position: absolute;width: 1px;}#sk-3c87eae1-9773-4508-b5aa-9c85cd0675bc div.sk-estimator {font-family: monospace;background-color: #f0f8ff;border: 1px dotted black;border-radius: 0.25em;box-sizing: border-box;margin-bottom: 0.5em;}#sk-3c87eae1-9773-4508-b5aa-9c85cd0675bc div.sk-estimator:hover {background-color: #d4ebff;}#sk-3c87eae1-9773-4508-b5aa-9c85cd0675bc div.sk-parallel-item::after {content: \"\";width: 100%;border-bottom: 1px solid gray;flex-grow: 1;}#sk-3c87eae1-9773-4508-b5aa-9c85cd0675bc div.sk-label:hover label.sk-toggleable__label {background-color: #d4ebff;}#sk-3c87eae1-9773-4508-b5aa-9c85cd0675bc div.sk-serial::before {content: \"\";position: absolute;border-left: 1px solid gray;box-sizing: border-box;top: 2em;bottom: 0;left: 50%;}#sk-3c87eae1-9773-4508-b5aa-9c85cd0675bc div.sk-serial {display: flex;flex-direction: column;align-items: center;background-color: white;padding-right: 0.2em;padding-left: 0.2em;}#sk-3c87eae1-9773-4508-b5aa-9c85cd0675bc div.sk-item {z-index: 1;}#sk-3c87eae1-9773-4508-b5aa-9c85cd0675bc div.sk-parallel {display: flex;align-items: stretch;justify-content: center;background-color: white;}#sk-3c87eae1-9773-4508-b5aa-9c85cd0675bc div.sk-parallel::before {content: \"\";position: absolute;border-left: 1px solid gray;box-sizing: border-box;top: 2em;bottom: 0;left: 50%;}#sk-3c87eae1-9773-4508-b5aa-9c85cd0675bc div.sk-parallel-item {display: flex;flex-direction: column;position: relative;background-color: white;}#sk-3c87eae1-9773-4508-b5aa-9c85cd0675bc div.sk-parallel-item:first-child::after {align-self: flex-end;width: 50%;}#sk-3c87eae1-9773-4508-b5aa-9c85cd0675bc div.sk-parallel-item:last-child::after {align-self: flex-start;width: 50%;}#sk-3c87eae1-9773-4508-b5aa-9c85cd0675bc div.sk-parallel-item:only-child::after {width: 0;}#sk-3c87eae1-9773-4508-b5aa-9c85cd0675bc div.sk-dashed-wrapped {border: 1px dashed gray;margin: 0 0.4em 0.5em 0.4em;box-sizing: border-box;padding-bottom: 0.4em;background-color: white;position: relative;}#sk-3c87eae1-9773-4508-b5aa-9c85cd0675bc div.sk-label label {font-family: monospace;font-weight: bold;background-color: white;display: inline-block;line-height: 1.2em;}#sk-3c87eae1-9773-4508-b5aa-9c85cd0675bc div.sk-label-container {position: relative;z-index: 2;text-align: center;}#sk-3c87eae1-9773-4508-b5aa-9c85cd0675bc div.sk-container {display: inline-block;position: relative;}</style><div id=\"sk-3c87eae1-9773-4508-b5aa-9c85cd0675bc\" class\"sk-top-container\"><div class=\"sk-container\"><div class=\"sk-item sk-dashed-wrapped\"><div class=\"sk-label-container\"><div class=\"sk-label sk-toggleable\"><input class=\"sk-toggleable__control sk-hidden--visually\" id=\"fad62e4a-6777-49ad-8d3d-49d26a0850d9\" type=\"checkbox\" ><label class=\"sk-toggleable__label\" for=\"fad62e4a-6777-49ad-8d3d-49d26a0850d9\">Pipeline</label><div class=\"sk-toggleable__content\"><pre>Pipeline(steps=[('categorical_pipeline',\n",
       "                 Pipeline(steps=[('dummyEncodingTransformer',\n",
       "                                  DummyEncoding(dummyColList=['job', 'marital',\n",
       "                                                              'education',\n",
       "                                                              'default',\n",
       "                                                              'housing', 'loan',\n",
       "                                                              'contact',\n",
       "                                                              'month',\n",
       "                                                              'day_of_week',\n",
       "                                                              'poutcome']))])),\n",
       "                ('numerical_pipeline',\n",
       "                 Pipeline(steps=[('min_max_scaler',\n",
       "                                  CustomScaler(numCols=['age', 'duration',\n",
       "                                                        'campaign', 'pdays',\n",
       "                                                        'previous',\n",
       "                                                        'emp.var.rate',\n",
       "                                                        'cons.price.idx',\n",
       "                                                        'cons.conf.idx',\n",
       "                                                        'euribor3m',\n",
       "                                                        'nr.employed']))]))])</pre></div></div></div><div class=\"sk-serial\"><div class=\"sk-item\"><div class=\"sk-label-container\"><div class=\"sk-label sk-toggleable\"><input class=\"sk-toggleable__control sk-hidden--visually\" id=\"24dd1d1f-282b-4259-82ca-4a7e56fcb448\" type=\"checkbox\" ><label class=\"sk-toggleable__label\" for=\"24dd1d1f-282b-4259-82ca-4a7e56fcb448\">categorical_pipeline: Pipeline</label><div class=\"sk-toggleable__content\"><pre>Pipeline(steps=[('dummyEncodingTransformer',\n",
       "                 DummyEncoding(dummyColList=['job', 'marital', 'education',\n",
       "                                             'default', 'housing', 'loan',\n",
       "                                             'contact', 'month', 'day_of_week',\n",
       "                                             'poutcome']))])</pre></div></div></div><div class=\"sk-serial\"><div class=\"sk-item\"><div class=\"sk-estimator sk-toggleable\"><input class=\"sk-toggleable__control sk-hidden--visually\" id=\"d02f6063-9b57-4026-bd22-f6c6f0b10368\" type=\"checkbox\" ><label class=\"sk-toggleable__label\" for=\"d02f6063-9b57-4026-bd22-f6c6f0b10368\">DummyEncoding</label><div class=\"sk-toggleable__content\"><pre>DummyEncoding(dummyColList=['job', 'marital', 'education', 'default', 'housing',\n",
       "                            'loan', 'contact', 'month', 'day_of_week',\n",
       "                            'poutcome'])</pre></div></div></div></div></div><div class=\"sk-item\"><div class=\"sk-label-container\"><div class=\"sk-label sk-toggleable\"><input class=\"sk-toggleable__control sk-hidden--visually\" id=\"96794ba5-1049-429f-8ae6-8e65973707fe\" type=\"checkbox\" ><label class=\"sk-toggleable__label\" for=\"96794ba5-1049-429f-8ae6-8e65973707fe\">numerical_pipeline: Pipeline</label><div class=\"sk-toggleable__content\"><pre>Pipeline(steps=[('min_max_scaler',\n",
       "                 CustomScaler(numCols=['age', 'duration', 'campaign', 'pdays',\n",
       "                                       'previous', 'emp.var.rate',\n",
       "                                       'cons.price.idx', 'cons.conf.idx',\n",
       "                                       'euribor3m', 'nr.employed']))])</pre></div></div></div><div class=\"sk-serial\"><div class=\"sk-item\"><div class=\"sk-estimator sk-toggleable\"><input class=\"sk-toggleable__control sk-hidden--visually\" id=\"bc51ebd2-b262-4d19-96ff-c2351e1baa26\" type=\"checkbox\" ><label class=\"sk-toggleable__label\" for=\"bc51ebd2-b262-4d19-96ff-c2351e1baa26\">CustomScaler</label><div class=\"sk-toggleable__content\"><pre>CustomScaler(numCols=['age', 'duration', 'campaign', 'pdays', 'previous',\n",
       "                      'emp.var.rate', 'cons.price.idx', 'cons.conf.idx',\n",
       "                      'euribor3m', 'nr.employed'])</pre></div></div></div></div></div></div></div></div></div>"
      ],
      "text/plain": [
       "Pipeline(steps=[('categorical_pipeline',\n",
       "                 Pipeline(steps=[('dummyEncodingTransformer',\n",
       "                                  DummyEncoding(dummyColList=['job', 'marital',\n",
       "                                                              'education',\n",
       "                                                              'default',\n",
       "                                                              'housing', 'loan',\n",
       "                                                              'contact',\n",
       "                                                              'month',\n",
       "                                                              'day_of_week',\n",
       "                                                              'poutcome']))])),\n",
       "                ('numerical_pipeline',\n",
       "                 Pipeline(steps=[('min_max_scaler',\n",
       "                                  CustomScaler(numCols=['age', 'duration',\n",
       "                                                        'campaign', 'pdays',\n",
       "                                                        'previous',\n",
       "                                                        'emp.var.rate',\n",
       "                                                        'cons.price.idx',\n",
       "                                                        'cons.conf.idx',\n",
       "                                                        'euribor3m',\n",
       "                                                        'nr.employed']))]))])"
      ]
     },
     "execution_count": 30,
     "metadata": {},
     "output_type": "execute_result"
    }
   ],
   "source": [
    "preProcessingPipeline"
   ]
  },
  {
   "cell_type": "code",
   "execution_count": 31,
   "metadata": {},
   "outputs": [],
   "source": [
    "#Fit_transform the pipeline on training data\n",
    "train_transform = preProcessingPipeline.fit_transform(train)"
   ]
  },
  {
   "cell_type": "code",
   "execution_count": 32,
   "metadata": {},
   "outputs": [],
   "source": [
    "#Transform the pipeline on test data\n",
    "test_transform = preProcessingPipeline.transform(test)"
   ]
  },
  {
   "cell_type": "code",
   "execution_count": 33,
   "metadata": {},
   "outputs": [
    {
     "data": {
      "text/html": [
       "<div>\n",
       "<style scoped>\n",
       "    .dataframe tbody tr th:only-of-type {\n",
       "        vertical-align: middle;\n",
       "    }\n",
       "\n",
       "    .dataframe tbody tr th {\n",
       "        vertical-align: top;\n",
       "    }\n",
       "\n",
       "    .dataframe thead th {\n",
       "        text-align: right;\n",
       "    }\n",
       "</style>\n",
       "<table border=\"1\" class=\"dataframe\">\n",
       "  <thead>\n",
       "    <tr style=\"text-align: right;\">\n",
       "      <th></th>\n",
       "      <th>age</th>\n",
       "      <th>job</th>\n",
       "      <th>marital</th>\n",
       "      <th>education</th>\n",
       "      <th>default</th>\n",
       "      <th>housing</th>\n",
       "      <th>loan</th>\n",
       "      <th>contact</th>\n",
       "      <th>month</th>\n",
       "      <th>day_of_week</th>\n",
       "      <th>duration</th>\n",
       "      <th>campaign</th>\n",
       "      <th>pdays</th>\n",
       "      <th>previous</th>\n",
       "      <th>poutcome</th>\n",
       "      <th>emp.var.rate</th>\n",
       "      <th>cons.price.idx</th>\n",
       "      <th>cons.conf.idx</th>\n",
       "      <th>euribor3m</th>\n",
       "      <th>nr.employed</th>\n",
       "      <th>y</th>\n",
       "    </tr>\n",
       "  </thead>\n",
       "  <tbody>\n",
       "    <tr>\n",
       "      <th>3369</th>\n",
       "      <td>0.160494</td>\n",
       "      <td>0</td>\n",
       "      <td>0</td>\n",
       "      <td>0</td>\n",
       "      <td>0</td>\n",
       "      <td>0</td>\n",
       "      <td>0</td>\n",
       "      <td>0</td>\n",
       "      <td>0</td>\n",
       "      <td>0</td>\n",
       "      <td>0.081131</td>\n",
       "      <td>0.000000</td>\n",
       "      <td>1.0</td>\n",
       "      <td>0.000000</td>\n",
       "      <td>0</td>\n",
       "      <td>0.937500</td>\n",
       "      <td>0.698753</td>\n",
       "      <td>0.602510</td>\n",
       "      <td>0.958059</td>\n",
       "      <td>0.859735</td>\n",
       "      <td>0</td>\n",
       "    </tr>\n",
       "    <tr>\n",
       "      <th>11480</th>\n",
       "      <td>0.209877</td>\n",
       "      <td>1</td>\n",
       "      <td>1</td>\n",
       "      <td>1</td>\n",
       "      <td>0</td>\n",
       "      <td>0</td>\n",
       "      <td>0</td>\n",
       "      <td>0</td>\n",
       "      <td>1</td>\n",
       "      <td>1</td>\n",
       "      <td>0.009150</td>\n",
       "      <td>0.054545</td>\n",
       "      <td>1.0</td>\n",
       "      <td>0.000000</td>\n",
       "      <td>0</td>\n",
       "      <td>1.000000</td>\n",
       "      <td>0.882307</td>\n",
       "      <td>0.376569</td>\n",
       "      <td>0.980503</td>\n",
       "      <td>1.000000</td>\n",
       "      <td>0</td>\n",
       "    </tr>\n",
       "    <tr>\n",
       "      <th>23021</th>\n",
       "      <td>0.481481</td>\n",
       "      <td>1</td>\n",
       "      <td>1</td>\n",
       "      <td>2</td>\n",
       "      <td>0</td>\n",
       "      <td>0</td>\n",
       "      <td>0</td>\n",
       "      <td>1</td>\n",
       "      <td>2</td>\n",
       "      <td>2</td>\n",
       "      <td>0.097397</td>\n",
       "      <td>0.054545</td>\n",
       "      <td>1.0</td>\n",
       "      <td>0.000000</td>\n",
       "      <td>0</td>\n",
       "      <td>1.000000</td>\n",
       "      <td>0.484412</td>\n",
       "      <td>0.615063</td>\n",
       "      <td>0.981864</td>\n",
       "      <td>1.000000</td>\n",
       "      <td>0</td>\n",
       "    </tr>\n",
       "    <tr>\n",
       "      <th>28565</th>\n",
       "      <td>0.296296</td>\n",
       "      <td>2</td>\n",
       "      <td>2</td>\n",
       "      <td>0</td>\n",
       "      <td>0</td>\n",
       "      <td>0</td>\n",
       "      <td>1</td>\n",
       "      <td>1</td>\n",
       "      <td>3</td>\n",
       "      <td>3</td>\n",
       "      <td>0.061204</td>\n",
       "      <td>0.000000</td>\n",
       "      <td>1.0</td>\n",
       "      <td>0.166667</td>\n",
       "      <td>1</td>\n",
       "      <td>0.333333</td>\n",
       "      <td>0.340608</td>\n",
       "      <td>0.154812</td>\n",
       "      <td>0.177057</td>\n",
       "      <td>0.512287</td>\n",
       "      <td>0</td>\n",
       "    </tr>\n",
       "    <tr>\n",
       "      <th>2635</th>\n",
       "      <td>0.172840</td>\n",
       "      <td>2</td>\n",
       "      <td>2</td>\n",
       "      <td>1</td>\n",
       "      <td>0</td>\n",
       "      <td>1</td>\n",
       "      <td>0</td>\n",
       "      <td>0</td>\n",
       "      <td>0</td>\n",
       "      <td>2</td>\n",
       "      <td>0.192151</td>\n",
       "      <td>0.018182</td>\n",
       "      <td>1.0</td>\n",
       "      <td>0.000000</td>\n",
       "      <td>0</td>\n",
       "      <td>0.937500</td>\n",
       "      <td>0.698753</td>\n",
       "      <td>0.602510</td>\n",
       "      <td>0.957153</td>\n",
       "      <td>0.859735</td>\n",
       "      <td>1</td>\n",
       "    </tr>\n",
       "  </tbody>\n",
       "</table>\n",
       "</div>"
      ],
      "text/plain": [
       "            age  job  marital  education  default  housing  loan  contact  \\\n",
       "3369   0.160494    0        0          0        0        0     0        0   \n",
       "11480  0.209877    1        1          1        0        0     0        0   \n",
       "23021  0.481481    1        1          2        0        0     0        1   \n",
       "28565  0.296296    2        2          0        0        0     1        1   \n",
       "2635   0.172840    2        2          1        0        1     0        0   \n",
       "\n",
       "       month  day_of_week  duration  campaign  pdays  previous  poutcome  \\\n",
       "3369       0            0  0.081131  0.000000    1.0  0.000000         0   \n",
       "11480      1            1  0.009150  0.054545    1.0  0.000000         0   \n",
       "23021      2            2  0.097397  0.054545    1.0  0.000000         0   \n",
       "28565      3            3  0.061204  0.000000    1.0  0.166667         1   \n",
       "2635       0            2  0.192151  0.018182    1.0  0.000000         0   \n",
       "\n",
       "       emp.var.rate  cons.price.idx  cons.conf.idx  euribor3m  nr.employed  y  \n",
       "3369       0.937500        0.698753       0.602510   0.958059     0.859735  0  \n",
       "11480      1.000000        0.882307       0.376569   0.980503     1.000000  0  \n",
       "23021      1.000000        0.484412       0.615063   0.981864     1.000000  0  \n",
       "28565      0.333333        0.340608       0.154812   0.177057     0.512287  0  \n",
       "2635       0.937500        0.698753       0.602510   0.957153     0.859735  1  "
      ]
     },
     "execution_count": 33,
     "metadata": {},
     "output_type": "execute_result"
    }
   ],
   "source": [
    "train_transform.head()"
   ]
  },
  {
   "cell_type": "markdown",
   "metadata": {},
   "source": [
    "### 9.4 Extract X and y"
   ]
  },
  {
   "cell_type": "code",
   "execution_count": 34,
   "metadata": {},
   "outputs": [],
   "source": [
    "# Putting response variable to y\n",
    "y_train = train_transform.pop('y')\n",
    "X_train = train_transform"
   ]
  },
  {
   "cell_type": "code",
   "execution_count": 35,
   "metadata": {},
   "outputs": [],
   "source": [
    "# Putting response variable to y\n",
    "y_test = test_transform.pop('y')\n",
    "X_test = test_transform"
   ]
  },
  {
   "cell_type": "markdown",
   "metadata": {},
   "source": [
    "### 9.5 Class Imbalance treatment - SMOTE"
   ]
  },
  {
   "cell_type": "code",
   "execution_count": 36,
   "metadata": {},
   "outputs": [],
   "source": [
    "sm = SMOTE(random_state=2)\n",
    "X_train, y_train = sm.fit_resample(X_train, y_train.ravel())"
   ]
  },
  {
   "cell_type": "markdown",
   "metadata": {},
   "source": [
    "# 10. Model Inputs"
   ]
  },
  {
   "cell_type": "markdown",
   "metadata": {},
   "source": [
    "### 10.1 Hyper Parameters for the model"
   ]
  },
  {
   "cell_type": "code",
   "execution_count": 37,
   "metadata": {},
   "outputs": [],
   "source": [
    "#Hyper Parameters for different models \n",
    "paramsLogReg = {\n",
    "                'penalty' : ['l1', 'l2', 'elasticnet', 'none'],\n",
    "                'C' : [100, 10, 1.0, 0.1, 0.01],\n",
    "                'solver' : ['lbfgs','newton-cg','liblinear','sag','saga']\n",
    "                }\n",
    "\n",
    "paramsRidge = {\"alpha\": [0.1, 0.2, 0.3, 0.4, 0.5, 0.6, 0.7, 0.8, 0.9, 1.0]}\n",
    "paramsSGD = {}\n",
    "paramsNB = {'var_smoothing': np.logspace(0,-9, num=100)}\n",
    "paramsKNN = {\n",
    "            'n_neighbors' : range(1,21,2),\n",
    "            'weights' : ['uniform','distance'],\n",
    "            'metric' : ['minkowski','euclidean','manhattan']\n",
    "            }\n",
    "\n",
    "paramsDT = {\n",
    "            'max_depth': [2, 3, 5, 10, 20],\n",
    "            'min_samples_leaf': [5, 10, 20, 50, 100],\n",
    "            'criterion': [\"gini\", \"entropy\"]\n",
    "            }\n",
    "\n",
    "paramsRF = {'n_estimators': [25, 50, 100, 150, 200], \n",
    "            'max_depth': [3, 5, 7, 9], \n",
    "            'max_features': [\"auto\", \"sqrt\", \"log2\"], \n",
    "            'random_state': [42]\n",
    "           }\n",
    "\n",
    "paramsBC = {\n",
    "            \"n_estimators\": [10, 100, 1000]\n",
    "            }\n",
    "\n",
    "paramsGBC = {\n",
    "            \"n_estimators\": [10, 100, 1000],\n",
    "            \"learning_rate\": [0.001, 0.01, 0.1],\n",
    "            \"subsample\": [0.5, 0.7, 1.0],\n",
    "            \"max_depth\": [3, 7, 9]\n",
    "            }\n",
    "\n"
   ]
  },
  {
   "cell_type": "markdown",
   "metadata": {},
   "source": [
    "### 10.2 Models List"
   ]
  },
  {
   "cell_type": "code",
   "execution_count": 38,
   "metadata": {},
   "outputs": [],
   "source": [
    "#List of models to evaluate\n",
    "models = [{\"modelName\": \"LogisticRegression\", \n",
    "           \"model\": LogisticRegression(), \n",
    "           \"modelAvgCVScore\": 10, \n",
    "           \"modelParams\": paramsLogReg, \n",
    "           \"cvResults\": [], \n",
    "           \"rfeStatus\": True, \n",
    "           \"rfeModels\": [], \n",
    "           \"rfeInputFeaturesCount\": [], \n",
    "           \"RFECVResults\": []\n",
    "          },\n",
    "          \n",
    "          {\"modelName\": \"Ridge\", \n",
    "           \"model\": RidgeClassifier(), \n",
    "           \"modelAvgCVScore\": 11, \n",
    "           \"modelParams\": paramsRidge, \n",
    "           \"cvResults\": [], \n",
    "           \"rfeStatus\": True, \n",
    "           \"rfeModels\": [], \n",
    "           \"rfeInputFeaturesCount\": [], \n",
    "           \"RFECVResults\": []},\n",
    "          \n",
    "          {\"modelName\": \"SGD\", \n",
    "           \"model\": SGDClassifier(), \n",
    "           \"modelAvgCVScore\": 9, \n",
    "           \"modelParams\": paramsSGD, \n",
    "           \"cvResults\": [], \n",
    "           \"rfeStatus\": True, \n",
    "           \"rfeModels\": [], \n",
    "           \"rfeInputFeaturesCount\": [], \n",
    "           \"RFECVResults\": []\n",
    "          },\n",
    "          \n",
    "          {\"modelName\": \"NaiveBayes\", \n",
    "           \"model\": CategoricalNB(), \n",
    "           \"modelAvgCVScore\": 0, \n",
    "           \"modelParams\": paramsNB, \n",
    "           \"cvResults\": [], \n",
    "           \"rfeStatus\": False, \n",
    "           \"rfeModels\": [], \n",
    "           \"rfeInputFeaturesCount\": [], \n",
    "           \"RFECVResults\": []\n",
    "          },\n",
    "          \n",
    "          {\"modelName\": \"KNN\", \n",
    "           \"model\": KNeighborsClassifier(), \n",
    "           \"modelAvgCVScore\": 0, \n",
    "           \"modelParams\": paramsKNN, \n",
    "           \"cvResults\": [], \n",
    "           \"rfeStatus\": False, \n",
    "           \"rfeModels\": [], \n",
    "           \"rfeInputFeaturesCount\": [], \n",
    "           \"RFECVResults\": []\n",
    "          },\n",
    "          \n",
    "          {\"modelName\": \"DecisionTree\", \n",
    "           \"model\": DecisionTreeClassifier(), \n",
    "           \"modelAvgCVScore\": 0, \n",
    "           \"modelParams\": paramsDT, \n",
    "           \"cvResults\": [], \n",
    "           \"rfeStatus\": True, \n",
    "           \"rfeModels\": [], \n",
    "           \"rfeInputFeaturesCount\": [], \n",
    "           \"RFECVResults\": []\n",
    "          },\n",
    "        \n",
    "          {\"modelName\": \"RandomForest\", \n",
    "           \"model\": RandomForestClassifier(n_estimators = 100), \n",
    "           \"modelAvgCVScore\": 0, \n",
    "           \"modelParams\": paramsRF, \n",
    "           \"cvResults\": [], \n",
    "           \"rfeStatus\": True, \n",
    "           \"rfeModels\": [], \n",
    "           \"rfeInputFeaturesCount\": [], \n",
    "           \"RFECVResults\": []\n",
    "          },\n",
    "          \n",
    "          {\"modelName\": \"BaggingClassifier\", \n",
    "           \"model\": BaggingClassifier(), \n",
    "           \"modelAvgCVScore\": 0, \n",
    "           \"modelParams\": paramsBC, \n",
    "           \"cvResults\": [], \n",
    "           \"rfeStatus\": True, \n",
    "           \"rfeModels\": [], \n",
    "           \"rfeInputFeaturesCount\": [], \n",
    "           \"RFECVResults\": []\n",
    "          },\n",
    "          \n",
    "          {\"modelName\": \"BoostingClassifier\", \n",
    "           \"model\": GradientBoostingClassifier(), \n",
    "           \"modelAvgCVScore\": 0, \n",
    "           \"modelParams\": paramsGBC, \n",
    "           \"cvResults\": [], \n",
    "           \"rfeStatus\": True, \n",
    "           \"rfeModels\": [], \n",
    "           \"rfeInputFeaturesCount\": [], \n",
    "           \"RFECVResults\": []\n",
    "          }\n",
    "          \n",
    "         ]"
   ]
  },
  {
   "cell_type": "markdown",
   "metadata": {},
   "source": [
    "### 10.3 RFE/RFECV Inputs"
   ]
  },
  {
   "cell_type": "code",
   "execution_count": 39,
   "metadata": {},
   "outputs": [],
   "source": [
    "#Minimun number of features for RFE\n",
    "min_features = 2\n",
    "\n",
    "#Maximum number of features for RFE\n",
    "max_features = X_train.shape[1]\n",
    "\n",
    "#Step size in RFECV\n",
    "rfecvStep = 1\n",
    "\n",
    "#Perform manual RFE\n",
    "rfeStatus = False\n",
    "\n",
    "#Perform Auto RFE\n",
    "rfeCVStatus = True"
   ]
  },
  {
   "cell_type": "markdown",
   "metadata": {},
   "source": [
    "### 10.4 Cross-Validation Inputs"
   ]
  },
  {
   "cell_type": "code",
   "execution_count": 40,
   "metadata": {},
   "outputs": [],
   "source": [
    "#Scoring parameter\n",
    "scoring = \"roc_auc\"\n",
    "\n",
    "#Number of splits in K-Fold Cross Validation\n",
    "n_splits = 5\n",
    "\n",
    "#Random state\n",
    "random_state = 23\n",
    "\n",
    "#Shuffle in K-Fold cross validation\n",
    "shuffle = True"
   ]
  },
  {
   "cell_type": "markdown",
   "metadata": {},
   "source": [
    "# 11. Models Class"
   ]
  },
  {
   "cell_type": "markdown",
   "metadata": {},
   "source": [
    "### 11.1 Models Class\n",
    "The Models Class provides the following functionalities\n",
    "- Initialize various Classification models along with respective hyper-parameters\n",
    "- Run and compare model performance\n",
    "- Select the best performing model\n",
    "- Perform RFE on the best performing model\n",
    "- Select the best features\n",
    "- Run the final model"
   ]
  },
  {
   "cell_type": "code",
   "execution_count": 41,
   "metadata": {},
   "outputs": [],
   "source": [
    "class Models:\n",
    "    \n",
    "    #Init Function\n",
    "    def __init__(self, models, min_features, max_features, rfecvStep, scoring, n_splits, random_state, shuffle, rfeStatus, rfeCVStatus):\n",
    "        \n",
    "        self.models = models\n",
    "        self.min_features = min_features\n",
    "        self.max_features = max_features\n",
    "        self.scoring = scoring\n",
    "        self.n_splits = n_splits\n",
    "        self.random_state = random_state\n",
    "        self.shuffle = shuffle\n",
    "        self.rfecvStep = rfecvStep\n",
    "        self.rfeStatus = rfeStatus\n",
    "        self.rfeCVStatus = rfeCVStatus\n",
    "    \n",
    "    #K-Fold Cross validation\n",
    "    def crossValidation(self, model, X, y):\n",
    "        #Instantiate KFold\n",
    "        kfold = KFold(n_splits=self.n_splits, random_state=self.random_state, shuffle=self.shuffle)\n",
    "        return cross_val_score(model, X, y, cv=kfold, scoring=self.scoring)\n",
    "    \n",
    "    #Function to runModels\n",
    "    def runModels(self, X, y):\n",
    "        \n",
    "        print(\"Starting to execute and compare various models...\")\n",
    "        #Loop over each model and do K-Fold Cross validation to select the best model\n",
    "        for each_model in self.models:\n",
    "            print(\"Running {}\".format(each_model[\"modelName\"]))\n",
    "            \n",
    "            #List of CV results of each model\n",
    "            each_model[\"cvResults\"] = self.crossValidation(each_model[\"model\"], X, y)\n",
    "            \n",
    "            #Average CV score\n",
    "            each_model[\"modelAvgCVScore\"] = each_model[\"cvResults\"].mean()\n",
    "\n",
    "        print(\"All models successfully executed\")\n",
    "    \n",
    "    #Function to compare Model results        \n",
    "    def compareModels(self, results, names):\n",
    "        \n",
    "        #Print results of various models\n",
    "        for each_result, modelName in zip(results, names):\n",
    "            print(\"Model Name: %s:\" % (modelName))\n",
    "            print(\"Model Average CV Score: %f\" % (each_result.mean()))\n",
    "            print(\"Model CV Std (%f)\" % (each_result.std())) \n",
    "            print(\"CV_Results: \", (each_result))\n",
    "            print(\"\\n\")\n",
    "        \n",
    "        # Box Plot of Model Results\n",
    "        fig = plt.figure()\n",
    "        fig.suptitle('Algorithm Comparison')\n",
    "        ax = fig.add_subplot(111)\n",
    "        plt.boxplot(results)\n",
    "        ax.set_xticklabels(names)\n",
    "        plt.xticks(rotation=45)\n",
    "        plt.show()\n",
    "        \n",
    "    #Get shortlisted Model\n",
    "    def getShortlistedModel(self):\n",
    "        \n",
    "        #Get shortlisted model based on highest average CV Score\n",
    "        self.shortlistedModel = max(self.models, key=lambda x:x['modelAvgCVScore'])\n",
    "        \n",
    "        print(\"Shortlisted model is : \", self.shortlistedModel)\n",
    "            \n",
    "            \n",
    "    #Function to run RFE models and return the CV results\n",
    "    def runRFEModels(self, X, y):\n",
    "        \n",
    "        results = []\n",
    "        \n",
    "        print(\"These are the models: \", self.shortlistedModel[\"rfeModels\"])\n",
    "        \n",
    "        if ((self.rfeStatus == True) and (self.shortlistedModel[\"rfeStatus\"] == True)):\n",
    "        \n",
    "            #Loop over the rfe models for the shortlisted model\n",
    "            for each_model in self.shortlistedModel[\"rfeModels\"]:\n",
    "            \n",
    "                #CV results of each model\n",
    "                cvResults = self.crossValidation(each_model, X, y)\n",
    "                print(\"Average score is : \", cvResults.mean())\n",
    "            \n",
    "                results.append(cvResults)\n",
    "            \n",
    "        return results\n",
    "            \n",
    "            \n",
    "    #Get the list of RFE Models\n",
    "    def getRfeModels(self):\n",
    "\n",
    "        #Perform RFE on the model\n",
    "        for i in range(self.min_features, self.max_features):\n",
    "            rfe = RFE(estimator=self.shortlistedModel[\"model\"], n_features_to_select=i)\n",
    "            self.shortlistedModel[\"rfeModels\"].append(Pipeline(steps=[('selection',rfe),('model',self.shortlistedModel[\"model\"])]))\n",
    "            self.shortlistedModel[\"rfeInputFeaturesCount\"].append(i)\n",
    "\n",
    "                    \n",
    "    #Set optimial number of features based on RFE Model\n",
    "    def getOptimalNumFeatures(self):\n",
    "#         self.shortlistedModel[]\n",
    "\n",
    "        #It is an array of arrays with each nested array containing CV results\n",
    "        results = modelObj.shortlistedModel[\"RFECVResults\"]\n",
    "        meanResults = [x.mean() for x in results]\n",
    "        maxpos = meanResults.index(max(meanResults)) \n",
    "\n",
    "        self.optimalFeatures =  list(range(self.min_features, self.max_features))[maxpos]\n",
    "\n",
    "    \n",
    "    #Run shortlisted RFE Model with optimal number of features to actually get feature names\n",
    "    def getBestFeatures(self, X, y):\n",
    "        \n",
    "        \n",
    "        rfe = RFE(estimator=self.shortlistedModel[\"model\"], n_features_to_select=self.optimalFeatures)\n",
    "        self.pipe = Pipeline(steps=[('selection',rfe), ('model', self.shortlistedModel[\"model\"])])\n",
    "        self.pipe.fit(X, y)\n",
    "\n",
    "        # summarize all features\n",
    "        print(\"Summarizing the results of RFE\")\n",
    "        for each_col, col_num in zip(X.columns, list(range(X.shape[1]))):\n",
    "            print('ColumnName: %s | Selected %s | Rank: %.3f' % (each_col, rfe.support_[col_num], rfe.ranking_[col_num]))\n",
    "\n",
    "\n",
    "        print(\"\\n\")\n",
    "        print(\"List of selected columns\")\n",
    "        print(list(zip(X.columns,rfe.support_,rfe.ranking_)))\n",
    "\n",
    "        #Visualize the selected columns\n",
    "        print(\"\\n\")\n",
    "        print(\"Visualize selected columns\")\n",
    "        print(X.columns[rfe.support_])\n",
    "\n",
    "        return X.columns[rfe.support_]\n",
    "        \n",
    "    \n",
    "    #Run RFECV Model to find the names of optimal features\n",
    "    def getBestFeaturesCV(self, X, y):\n",
    "\n",
    "        rfecv = RFECV(estimator=self.shortlistedModel[\"model\"], step=self.rfecvStep, cv=self.n_splits)\n",
    "\n",
    "        self.pipe = Pipeline(steps=[('selection',rfecv), ('model', self.shortlistedModel[\"model\"])])\n",
    "        self.pipe.fit(X, y)\n",
    "\n",
    "        # summarize all features\n",
    "        print(\"Summarizing the results of RFE\")\n",
    "        for each_col, col_num in zip(X.columns, list(range(X.shape[1]))):\n",
    "            print('ColumnName: %s | Selected %s | Rank: %.3f' % (each_col, rfecv.support_[col_num], rfecv.ranking_[col_num]))\n",
    "\n",
    "\n",
    "        print(\"\\n\")\n",
    "        print(\"List of selected columns\")\n",
    "        print(\"this is rfecv support: \", rfecv.support_)\n",
    "        print(list(zip(X.columns,rfecv.support_,rfecv.ranking_)))\n",
    "\n",
    "        #Visualize the selected columns\n",
    "        print(\"\\n\")\n",
    "        print(\"Visualize selected columns\")\n",
    "        print(X.columns[rfecv.support_])\n",
    "\n",
    "        return X.columns[rfecv.support_]\n",
    "    \n",
    "        \n",
    "    def getParams(self, modelName):\n",
    "        \n",
    "        for each_param in self.params:\n",
    "            \n",
    "            if each_param[\"modelName\"] == modelName:\n",
    "                return each_param[\"modelParams\"]\n",
    "            \n",
    "            else:\n",
    "                return 0\n",
    "               \n",
    "    def hyperParameterOptimization(self):\n",
    "        # Instantiate the grid search model\n",
    "        grid_search = RandomizedSearchCV(estimator=self.shortlistedModel[\"model\"], \n",
    "                           param_distributions=self.shortlistedModel[\"modelParams\"], \n",
    "                           cv=self.n_splits, n_jobs=-1, verbose=1, scoring = self.scoring)\n",
    "        \n",
    "        grid_search.fit(X_train, y_train)\n",
    "        \n",
    "        return grid_search.best_estimator_\n",
    "    \n",
    "    def runFinalModel(self):\n",
    "        pass\n",
    "    \n",
    "    def evaluateModel(self):\n",
    "        pass"
   ]
  },
  {
   "cell_type": "markdown",
   "metadata": {},
   "source": [
    "### 11.2 Instantiate Models class"
   ]
  },
  {
   "cell_type": "code",
   "execution_count": 42,
   "metadata": {},
   "outputs": [],
   "source": [
    "#Instantiate Models class\n",
    "modelObj = Models(models, min_features, max_features, rfecvStep, scoring, n_splits, random_state, shuffle, rfeStatus, rfeCVStatus)"
   ]
  },
  {
   "cell_type": "markdown",
   "metadata": {},
   "source": [
    "### 11.3 Run multiple models"
   ]
  },
  {
   "cell_type": "code",
   "execution_count": 43,
   "metadata": {},
   "outputs": [
    {
     "name": "stdout",
     "output_type": "stream",
     "text": [
      "Starting to execute and compare various models...\n",
      "Running LogisticRegression\n",
      "Running Ridge\n",
      "Running SGD\n",
      "Running NaiveBayes\n",
      "Running KNN\n",
      "Running DecisionTree\n",
      "Running RandomForest\n",
      "Running BaggingClassifier\n",
      "Running BoostingClassifier\n",
      "All models successfully executed\n"
     ]
    }
   ],
   "source": [
    "#Run the models and print score\n",
    "modelObj.runModels(X_train, y_train)"
   ]
  },
  {
   "cell_type": "markdown",
   "metadata": {},
   "source": [
    "### 11.4 Compare model performance"
   ]
  },
  {
   "cell_type": "code",
   "execution_count": 44,
   "metadata": {},
   "outputs": [],
   "source": [
    "#Store CV results and names of various models\n",
    "results = [x[\"cvResults\"] for x in modelObj.models]\n",
    "names = [x[\"modelName\"] for x in modelObj.models]"
   ]
  },
  {
   "cell_type": "code",
   "execution_count": 45,
   "metadata": {},
   "outputs": [
    {
     "name": "stdout",
     "output_type": "stream",
     "text": [
      "Model Name: LogisticRegression:\n",
      "Model Average CV Score: 0.944706\n",
      "Model CV Std (0.002507)\n",
      "CV_Results:  [0.94164584 0.94311916 0.94742618 0.94340028 0.94793699]\n",
      "\n",
      "\n",
      "Model Name: Ridge:\n",
      "Model Average CV Score: 0.941635\n",
      "Model CV Std (0.002828)\n",
      "CV_Results:  [0.93813247 0.94026869 0.94458273 0.93982795 0.94536143]\n",
      "\n",
      "\n",
      "Model Name: SGD:\n",
      "Model Average CV Score: 0.942296\n",
      "Model CV Std (0.003039)\n",
      "CV_Results:  [0.94056987 0.94036174 0.9452499  0.93874517 0.94655228]\n",
      "\n",
      "\n",
      "Model Name: NaiveBayes:\n",
      "Model Average CV Score: nan\n",
      "Model CV Std (nan)\n",
      "CV_Results:  [       nan 0.78555818        nan 0.78390566 0.79569295]\n",
      "\n",
      "\n",
      "Model Name: KNN:\n",
      "Model Average CV Score: 0.944823\n",
      "Model CV Std (0.003789)\n",
      "CV_Results:  [0.94217427 0.9413438  0.94954701 0.94169412 0.94935712]\n",
      "\n",
      "\n",
      "Model Name: DecisionTree:\n",
      "Model Average CV Score: 0.922132\n",
      "Model CV Std (0.004121)\n",
      "CV_Results:  [0.91703422 0.92646689 0.91993385 0.91968102 0.92754599]\n",
      "\n",
      "\n",
      "Model Name: RandomForest:\n",
      "Model Average CV Score: 0.991757\n",
      "Model CV Std (0.000677)\n",
      "CV_Results:  [0.99045598 0.99210283 0.99217419 0.99174216 0.99230926]\n",
      "\n",
      "\n",
      "Model Name: BaggingClassifier:\n",
      "Model Average CV Score: 0.982842\n",
      "Model CV Std (0.001398)\n",
      "CV_Results:  [0.98049787 0.98326008 0.98435819 0.98212145 0.98397247]\n",
      "\n",
      "\n",
      "Model Name: BoostingClassifier:\n",
      "Model Average CV Score: 0.982231\n",
      "Model CV Std (0.001036)\n",
      "CV_Results:  [0.98044384 0.98248395 0.98321697 0.98180056 0.98320825]\n",
      "\n",
      "\n"
     ]
    },
    {
     "data": {
      "image/png": "[encoded data removed]",
      "text/plain": [
       "<Figure size 432x288 with 1 Axes>"
      ]
     },
     "metadata": {},
     "output_type": "display_data"
    }
   ],
   "source": [
    "#Plot the results\n",
    "modelObj.compareModels(results, names)"
   ]
  },
  {
   "cell_type": "markdown",
   "metadata": {},
   "source": [
    "# 12. Shortlist top performing model"
   ]
  },
  {
   "cell_type": "code",
   "execution_count": 46,
   "metadata": {},
   "outputs": [
    {
     "name": "stdout",
     "output_type": "stream",
     "text": [
      "Shortlisted model is :  {'modelName': 'RandomForest', 'model': RandomForestClassifier(), 'modelAvgCVScore': 0.991756882052405, 'modelParams': {'n_estimators': [25, 50, 100, 150, 200], 'max_depth': [3, 5, 7, 9], 'max_features': ['auto', 'sqrt', 'log2'], 'random_state': [42]}, 'cvResults': array([0.99045598, 0.99210283, 0.99217419, 0.99174216, 0.99230926]), 'rfeStatus': True, 'rfeModels': [], 'rfeInputFeaturesCount': [], 'RFECVResults': []}\n"
     ]
    }
   ],
   "source": [
    "#Set the shortlisted Model\n",
    "modelObj.getShortlistedModel()"
   ]
  },
  {
   "cell_type": "markdown",
   "metadata": {},
   "source": [
    "# 13. Recursive Feature Elimination"
   ]
  },
  {
   "cell_type": "code",
   "execution_count": 47,
   "metadata": {},
   "outputs": [],
   "source": [
    "#Get the List of RFE Models based on number of features and the shortlisted model\n",
    "\n",
    "if ((modelObj.rfeStatus == True) and (modelObj.shortlistedModel[\"rfeStatus\"] == True)):\n",
    "   \n",
    "    #Get RFE Models\n",
    "    modelObj.getRfeModels()\n",
    "    \n",
    "    #Run RFE Models and get rfeCVResults\n",
    "    modelObj.shortlistedModel[\"RFECVResults\"] = modelObj.runRFEModels(X_train, y_train)\n",
    "    \n",
    "    #Compare RFE Model results\n",
    "    modelObj.compareModels(modelObj.shortlistedModel[\"RFECVResults\"], list(range(modelObj.min_features, modelObj.max_features)))\n",
    "    \n",
    "    #Select the best performing RFE Model and number of features\n",
    "    modelObj.getOptimalNumFeatures()\n",
    "    \n",
    "    #Get the names of selected columns by RFE\n",
    "    selectColumns = modelObj.getBestFeatures(X_train, y_train)"
   ]
  },
  {
   "cell_type": "code",
   "execution_count": 48,
   "metadata": {},
   "outputs": [
    {
     "data": {
      "text/plain": [
       "{'modelName': 'RandomForest',\n",
       " 'model': RandomForestClassifier(),\n",
       " 'modelAvgCVScore': 0.991756882052405,\n",
       " 'modelParams': {'n_estimators': [25, 50, 100, 150, 200],\n",
       "  'max_depth': [3, 5, 7, 9],\n",
       "  'max_features': ['auto', 'sqrt', 'log2'],\n",
       "  'random_state': [42]},\n",
       " 'cvResults': array([0.99045598, 0.99210283, 0.99217419, 0.99174216, 0.99230926]),\n",
       " 'rfeStatus': True,\n",
       " 'rfeModels': [],\n",
       " 'rfeInputFeaturesCount': [],\n",
       " 'RFECVResults': []}"
      ]
     },
     "execution_count": 48,
     "metadata": {},
     "output_type": "execute_result"
    }
   ],
   "source": [
    "#View the shortlisted Model\n",
    "modelObj.shortlistedModel"
   ]
  },
  {
   "cell_type": "markdown",
   "metadata": {},
   "source": [
    "# 14. RFECV"
   ]
  },
  {
   "cell_type": "code",
   "execution_count": null,
   "metadata": {},
   "outputs": [],
   "source": [
    "#Check if rfeCVStatus == True\n",
    "if ((modelObj.rfeCVStatus == True) and (modelObj.shortlistedModel[\"rfeStatus\"] == True)):\n",
    "    selectColumns = modelObj.getBestFeaturesCV(X_train, y_train)"
   ]
  },
  {
   "cell_type": "markdown",
   "metadata": {},
   "source": [
    "# 15. Feature Selection"
   ]
  },
  {
   "cell_type": "code",
   "execution_count": null,
   "metadata": {},
   "outputs": [],
   "source": [
    "#If we are doing Recursive Feature Elimination\n",
    "if (((modelObj.rfeStatus == True) or (modelObj.rfeCVStatus == True)) and (modelObj.shortlistedModel[\"rfeStatus\"] == True)):\n",
    "    X_train_rfe = X_train[selectColumns]\n",
    "    X_test_rfe = X_test[selectColumns]\n",
    "    \n",
    "else:\n",
    "    X_train_rfe = X_train\n",
    "    X_test_rfe = X_test"
   ]
  },
  {
   "cell_type": "code",
   "execution_count": null,
   "metadata": {},
   "outputs": [],
   "source": [
    "X_train_rfe"
   ]
  },
  {
   "cell_type": "markdown",
   "metadata": {},
   "source": [
    "# 16. Model Tuning - Hyperparameter optimization"
   ]
  },
  {
   "cell_type": "code",
   "execution_count": null,
   "metadata": {},
   "outputs": [],
   "source": [
    "params = {\n",
    "    'max_depth': [2, 3, 5, 10, 20],\n",
    "    'min_samples_leaf': [5, 10, 20, 50, 100],\n",
    "    'criterion': [\"gini\", \"entropy\"]\n",
    "}"
   ]
  },
  {
   "cell_type": "code",
   "execution_count": null,
   "metadata": {},
   "outputs": [],
   "source": [
    "modelObj.shortlistedModel[\"model\"]"
   ]
  },
  {
   "cell_type": "code",
   "execution_count": null,
   "metadata": {},
   "outputs": [],
   "source": [
    "finalModel = modelObj.hyperParameterOptimization()"
   ]
  },
  {
   "cell_type": "markdown",
   "metadata": {},
   "source": [
    "# 17. Final Model"
   ]
  },
  {
   "cell_type": "code",
   "execution_count": null,
   "metadata": {},
   "outputs": [],
   "source": [
    "#Visualize the Final Model\n",
    "finalModel"
   ]
  },
  {
   "cell_type": "code",
   "execution_count": null,
   "metadata": {},
   "outputs": [],
   "source": [
    "#Fit the final Model\n",
    "finalModel.fit(X_train_rfe, y_train)"
   ]
  },
  {
   "cell_type": "code",
   "execution_count": null,
   "metadata": {},
   "outputs": [],
   "source": [
    "#Predictions on Final Model\n",
    "y_test_pred = finalModel.predict(X_test_rfe)"
   ]
  },
  {
   "cell_type": "markdown",
   "metadata": {},
   "source": [
    "# 18. Evaluate Final Model"
   ]
  },
  {
   "cell_type": "code",
   "execution_count": null,
   "metadata": {},
   "outputs": [],
   "source": [
    "print(accuracy_score(y_test, y_test_pred))\n",
    "confusion_matrix(y_test, y_test_pred)"
   ]
  },
  {
   "cell_type": "code",
   "execution_count": null,
   "metadata": {},
   "outputs": [],
   "source": [
    "cm = confusion_matrix(y_test, y_test_pred, labels=finalModel.classes_)\n",
    "disp = ConfusionMatrixDisplay(confusion_matrix=cm,\n",
    "                               display_labels=finalModel.classes_)\n",
    "disp.plot()\n",
    "\n",
    "plt.show()"
   ]
  },
  {
   "cell_type": "markdown",
   "metadata": {},
   "source": [
    "## End of notebook"
   ]
  },
  {
   "cell_type": "markdown",
   "metadata": {},
   "source": [
    "-------"
   ]
  }
 ],
 "metadata": {
  "kernelspec": {
   "display_name": "Python 3",
   "language": "python",
   "name": "python3"
  },
  "language_info": {
   "codemirror_mode": {
    "name": "ipython",
    "version": 3
   },
   "file_extension": ".py",
   "mimetype": "text/x-python",
   "name": "python",
   "nbconvert_exporter": "python",
   "pygments_lexer": "ipython3",
   "version": "3.8.5"
  }
 },
 "nbformat": 4,
 "nbformat_minor": 4
}
