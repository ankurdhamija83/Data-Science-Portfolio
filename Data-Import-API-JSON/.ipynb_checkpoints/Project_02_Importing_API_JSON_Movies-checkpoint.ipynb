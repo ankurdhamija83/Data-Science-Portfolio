{
 "cells": [
  {
   "cell_type": "markdown",
   "metadata": {},
   "source": [
    "# Project 2: Data Import - Working with Web APIs and JSON (Movies Dataset)"
   ]
  },
  {
   "cell_type": "markdown",
   "metadata": {},
   "source": [
    "## Importing Data from JSON files "
   ]
  },
  {
   "cell_type": "code",
   "execution_count": 1,
   "metadata": {},
   "outputs": [],
   "source": [
    "import pandas as pd\n",
    "import json"
   ]
  },
  {
   "cell_type": "code",
   "execution_count": 5,
   "metadata": {},
   "outputs": [],
   "source": [
    "with open(\"blockbusters3.json\") as f:\n",
    "    data = json.load(f)"
   ]
  },
  {
   "cell_type": "code",
   "execution_count": 6,
   "metadata": {
    "scrolled": false
   },
   "outputs": [
    {
     "data": {
      "text/plain": [
       "{'columns': ['title',\n",
       "  'id',\n",
       "  'revenue',\n",
       "  'genres',\n",
       "  'belongs_to_collection',\n",
       "  'runtime'],\n",
       " 'index': [0, 1, 2, 3, 4, 5, 6, 7, 8, 9, 10, 11, 12, 13, 14, 15, 16, 17],\n",
       " 'data': [['Avengers: Endgame',\n",
       "   299534,\n",
       "   2797800564,\n",
       "   [{'id': 12, 'name': 'Adventure'},\n",
       "    {'id': 878, 'name': 'Science Fiction'},\n",
       "    {'id': 28, 'name': 'Action'}],\n",
       "   {'id': 86311,\n",
       "    'name': 'The Avengers Collection',\n",
       "    'poster_path': '/yFSIUVTCvgYrpalUktulvk3Gi5Y.jpg',\n",
       "    'backdrop_path': '/zuW6fOiusv4X9nnW3paHGfXcSll.jpg'},\n",
       "   181],\n",
       "  ['Avatar',\n",
       "   19995,\n",
       "   2787965087,\n",
       "   [{'id': 28, 'name': 'Action'},\n",
       "    {'id': 12, 'name': 'Adventure'},\n",
       "    {'id': 14, 'name': 'Fantasy'},\n",
       "    {'id': 878, 'name': 'Science Fiction'}],\n",
       "   {'id': 87096,\n",
       "    'name': 'Avatar Collection',\n",
       "    'poster_path': '/nslJVsO58Etqkk17oXMuVK4gNOF.jpg',\n",
       "    'backdrop_path': '/8nCr9W7sKus2q9PLbYsnT7iCkuT.jpg'},\n",
       "   162],\n",
       "  ['Star Wars: The Force Awakens',\n",
       "   140607,\n",
       "   2068223624,\n",
       "   [{'id': 28, 'name': 'Action'},\n",
       "    {'id': 12, 'name': 'Adventure'},\n",
       "    {'id': 878, 'name': 'Science Fiction'},\n",
       "    {'id': 14, 'name': 'Fantasy'}],\n",
       "   {'id': 10,\n",
       "    'name': 'Star Wars Collection',\n",
       "    'poster_path': '/iTQHKziZy9pAAY4hHEDCGPaOvFC.jpg',\n",
       "    'backdrop_path': '/d8duYyyC9J5T825Hg7grmaabfxQ.jpg'},\n",
       "   136],\n",
       "  ['Avengers: Infinity War',\n",
       "   299536,\n",
       "   2046239637,\n",
       "   [{'id': 12, 'name': 'Adventure'},\n",
       "    {'id': 28, 'name': 'Action'},\n",
       "    {'id': 878, 'name': 'Science Fiction'}],\n",
       "   {'id': 86311,\n",
       "    'name': 'The Avengers Collection',\n",
       "    'poster_path': '/yFSIUVTCvgYrpalUktulvk3Gi5Y.jpg',\n",
       "    'backdrop_path': '/zuW6fOiusv4X9nnW3paHGfXcSll.jpg'},\n",
       "   149],\n",
       "  ['Titanic',\n",
       "   597,\n",
       "   1845034188,\n",
       "   [{'id': 18, 'name': 'Drama'},\n",
       "    {'id': 10749, 'name': 'Romance'},\n",
       "    {'id': 53, 'name': 'Thriller'}],\n",
       "   None,\n",
       "   194],\n",
       "  ['Jurassic World',\n",
       "   135397,\n",
       "   1671713208,\n",
       "   [{'id': 28, 'name': 'Action'},\n",
       "    {'id': 12, 'name': 'Adventure'},\n",
       "    {'id': 878, 'name': 'Science Fiction'},\n",
       "    {'id': 53, 'name': 'Thriller'}],\n",
       "   {'id': 328,\n",
       "    'name': 'Jurassic Park Collection',\n",
       "    'poster_path': '/qIm2nHXLpBBdMxi8dvfrnDkBUDh.jpg',\n",
       "    'backdrop_path': '/pJjIH9QN0OkHFV9eue6XfRVnPkr.jpg'},\n",
       "   124],\n",
       "  ['The Lion King',\n",
       "   420818,\n",
       "   1656943394,\n",
       "   [{'id': 12, 'name': 'Adventure'}, {'id': 10751, 'name': 'Family'}],\n",
       "   None,\n",
       "   118],\n",
       "  ['The Avengers',\n",
       "   24428,\n",
       "   1519557910,\n",
       "   [{'id': 878, 'name': 'Science Fiction'},\n",
       "    {'id': 28, 'name': 'Action'},\n",
       "    {'id': 12, 'name': 'Adventure'}],\n",
       "   {'id': 86311,\n",
       "    'name': 'The Avengers Collection',\n",
       "    'poster_path': '/yFSIUVTCvgYrpalUktulvk3Gi5Y.jpg',\n",
       "    'backdrop_path': '/zuW6fOiusv4X9nnW3paHGfXcSll.jpg'},\n",
       "   143],\n",
       "  ['Furious 7',\n",
       "   168259,\n",
       "   1506249360,\n",
       "   [{'id': 28, 'name': 'Action'}, {'id': 53, 'name': 'Thriller'}],\n",
       "   {'id': 9485,\n",
       "    'name': 'The Fast and the Furious Collection',\n",
       "    'poster_path': '/uv63yAGg1zETAs1XQsOQpava87l.jpg',\n",
       "    'backdrop_path': '/z5A5W3WYJc3UVEWljSGwdjDgQ0j.jpg'},\n",
       "   137],\n",
       "  ['Avengers: Age of Ultron',\n",
       "   99861,\n",
       "   1405403694,\n",
       "   [{'id': 28, 'name': 'Action'},\n",
       "    {'id': 12, 'name': 'Adventure'},\n",
       "    {'id': 878, 'name': 'Science Fiction'}],\n",
       "   {'id': 86311,\n",
       "    'name': 'The Avengers Collection',\n",
       "    'poster_path': '/yFSIUVTCvgYrpalUktulvk3Gi5Y.jpg',\n",
       "    'backdrop_path': '/zuW6fOiusv4X9nnW3paHGfXcSll.jpg'},\n",
       "   141],\n",
       "  ['Black Panther',\n",
       "   284054,\n",
       "   1346739107,\n",
       "   [{'id': 28, 'name': 'Action'},\n",
       "    {'id': 12, 'name': 'Adventure'},\n",
       "    {'id': 14, 'name': 'Fantasy'},\n",
       "    {'id': 878, 'name': 'Science Fiction'}],\n",
       "   {'id': 529892,\n",
       "    'name': 'Black Panther Collection',\n",
       "    'poster_path': '/9ZSPIsxI3TZDgfg0Jzk0RZl4INg.jpg',\n",
       "    'backdrop_path': '/1Jj7Frjjbewb6Q6dl6YXhL3kuvL.jpg'},\n",
       "   134],\n",
       "  ['Harry Potter and the Deathly Hallows: Part 2',\n",
       "   12445,\n",
       "   1341511219,\n",
       "   [{'id': 14, 'name': 'Fantasy'}, {'id': 12, 'name': 'Adventure'}],\n",
       "   {'id': 1241,\n",
       "    'name': 'Harry Potter Collection',\n",
       "    'poster_path': '/eVPs2Y0LyvTLZn6AP5Z6O2rtiGB.jpg',\n",
       "    'backdrop_path': '/wfnMt6LGqYHcNyOfsuusw5lX3bL.jpg'},\n",
       "   130],\n",
       "  ['Star Wars: The Last Jedi',\n",
       "   181808,\n",
       "   1332539889,\n",
       "   [{'id': 14, 'name': 'Fantasy'},\n",
       "    {'id': 12, 'name': 'Adventure'},\n",
       "    {'id': 878, 'name': 'Science Fiction'},\n",
       "    {'id': 28, 'name': 'Action'}],\n",
       "   {'id': 10,\n",
       "    'name': 'Star Wars Collection',\n",
       "    'poster_path': '/iTQHKziZy9pAAY4hHEDCGPaOvFC.jpg',\n",
       "    'backdrop_path': '/d8duYyyC9J5T825Hg7grmaabfxQ.jpg'},\n",
       "   152],\n",
       "  ['Frozen II',\n",
       "   330457,\n",
       "   1330764959,\n",
       "   [{'id': 16, 'name': 'Animation'},\n",
       "    {'id': 10751, 'name': 'Family'},\n",
       "    {'id': 12, 'name': 'Adventure'}],\n",
       "   {'id': 386382,\n",
       "    'name': 'Frozen Collection',\n",
       "    'poster_path': '/rpoXnE9UzCbjmINhxIi8bZF557B.jpg',\n",
       "    'backdrop_path': '/vZiqhw6oFoMlHSneIdVip9rRou2.jpg'},\n",
       "   104],\n",
       "  ['Jurassic World: Fallen Kingdom',\n",
       "   351286,\n",
       "   1303459585,\n",
       "   [{'id': 28, 'name': 'Action'},\n",
       "    {'id': 12, 'name': 'Adventure'},\n",
       "    {'id': 878, 'name': 'Science Fiction'}],\n",
       "   {'id': 328,\n",
       "    'name': 'Jurassic Park Collection',\n",
       "    'poster_path': '/qIm2nHXLpBBdMxi8dvfrnDkBUDh.jpg',\n",
       "    'backdrop_path': '/pJjIH9QN0OkHFV9eue6XfRVnPkr.jpg'},\n",
       "   129],\n",
       "  ['Frozen',\n",
       "   109445,\n",
       "   1274219009,\n",
       "   [{'id': 16, 'name': 'Animation'},\n",
       "    {'id': 12, 'name': 'Adventure'},\n",
       "    {'id': 10751, 'name': 'Family'}],\n",
       "   {'id': 386382,\n",
       "    'name': 'Frozen Collection',\n",
       "    'poster_path': '/rpoXnE9UzCbjmINhxIi8bZF557B.jpg',\n",
       "    'backdrop_path': '/vZiqhw6oFoMlHSneIdVip9rRou2.jpg'},\n",
       "   102],\n",
       "  ['Beauty and the Beast',\n",
       "   321612,\n",
       "   1263521126,\n",
       "   [{'id': 10751, 'name': 'Family'},\n",
       "    {'id': 14, 'name': 'Fantasy'},\n",
       "    {'id': 10749, 'name': 'Romance'}],\n",
       "   None,\n",
       "   129],\n",
       "  ['Incredibles 2',\n",
       "   260513,\n",
       "   1241891456,\n",
       "   [{'id': 28, 'name': 'Action'},\n",
       "    {'id': 12, 'name': 'Adventure'},\n",
       "    {'id': 16, 'name': 'Animation'},\n",
       "    {'id': 10751, 'name': 'Family'}],\n",
       "   {'id': 468222,\n",
       "    'name': 'The Incredibles Collection',\n",
       "    'poster_path': '/l7GqbzkJwowYRIXAtUz2iCPi64a.jpg',\n",
       "    'backdrop_path': '/9eDW2dVhnzPS2HvaRdK2OlAGaLq.jpg'},\n",
       "   118]]}"
      ]
     },
     "execution_count": 6,
     "metadata": {},
     "output_type": "execute_result"
    }
   ],
   "source": [
    "data"
   ]
  },
  {
   "cell_type": "code",
   "execution_count": 7,
   "metadata": {},
   "outputs": [
    {
     "data": {
      "text/plain": [
       "dict"
      ]
     },
     "execution_count": 7,
     "metadata": {},
     "output_type": "execute_result"
    }
   ],
   "source": [
    "type(data)"
   ]
  },
  {
   "cell_type": "code",
   "execution_count": 8,
   "metadata": {},
   "outputs": [
    {
     "data": {
      "text/plain": [
       "3"
      ]
     },
     "execution_count": 8,
     "metadata": {},
     "output_type": "execute_result"
    }
   ],
   "source": [
    "len(data)"
   ]
  },
  {
   "cell_type": "code",
   "execution_count": 11,
   "metadata": {},
   "outputs": [
    {
     "data": {
      "text/plain": [
       "{'columns': ['title',\n",
       "  'id',\n",
       "  'revenue',\n",
       "  'genres',\n",
       "  'belongs_to_collection',\n",
       "  'runtime'],\n",
       " 'index': [0, 1, 2, 3, 4, 5, 6, 7, 8, 9, 10, 11, 12, 13, 14, 15, 16, 17],\n",
       " 'data': [['Avengers: Endgame',\n",
       "   299534,\n",
       "   2797800564,\n",
       "   [{'id': 12, 'name': 'Adventure'},\n",
       "    {'id': 878, 'name': 'Science Fiction'},\n",
       "    {'id': 28, 'name': 'Action'}],\n",
       "   {'id': 86311,\n",
       "    'name': 'The Avengers Collection',\n",
       "    'poster_path': '/yFSIUVTCvgYrpalUktulvk3Gi5Y.jpg',\n",
       "    'backdrop_path': '/zuW6fOiusv4X9nnW3paHGfXcSll.jpg'},\n",
       "   181],\n",
       "  ['Avatar',\n",
       "   19995,\n",
       "   2787965087,\n",
       "   [{'id': 28, 'name': 'Action'},\n",
       "    {'id': 12, 'name': 'Adventure'},\n",
       "    {'id': 14, 'name': 'Fantasy'},\n",
       "    {'id': 878, 'name': 'Science Fiction'}],\n",
       "   {'id': 87096,\n",
       "    'name': 'Avatar Collection',\n",
       "    'poster_path': '/nslJVsO58Etqkk17oXMuVK4gNOF.jpg',\n",
       "    'backdrop_path': '/8nCr9W7sKus2q9PLbYsnT7iCkuT.jpg'},\n",
       "   162],\n",
       "  ['Star Wars: The Force Awakens',\n",
       "   140607,\n",
       "   2068223624,\n",
       "   [{'id': 28, 'name': 'Action'},\n",
       "    {'id': 12, 'name': 'Adventure'},\n",
       "    {'id': 878, 'name': 'Science Fiction'},\n",
       "    {'id': 14, 'name': 'Fantasy'}],\n",
       "   {'id': 10,\n",
       "    'name': 'Star Wars Collection',\n",
       "    'poster_path': '/iTQHKziZy9pAAY4hHEDCGPaOvFC.jpg',\n",
       "    'backdrop_path': '/d8duYyyC9J5T825Hg7grmaabfxQ.jpg'},\n",
       "   136],\n",
       "  ['Avengers: Infinity War',\n",
       "   299536,\n",
       "   2046239637,\n",
       "   [{'id': 12, 'name': 'Adventure'},\n",
       "    {'id': 28, 'name': 'Action'},\n",
       "    {'id': 878, 'name': 'Science Fiction'}],\n",
       "   {'id': 86311,\n",
       "    'name': 'The Avengers Collection',\n",
       "    'poster_path': '/yFSIUVTCvgYrpalUktulvk3Gi5Y.jpg',\n",
       "    'backdrop_path': '/zuW6fOiusv4X9nnW3paHGfXcSll.jpg'},\n",
       "   149],\n",
       "  ['Titanic',\n",
       "   597,\n",
       "   1845034188,\n",
       "   [{'id': 18, 'name': 'Drama'},\n",
       "    {'id': 10749, 'name': 'Romance'},\n",
       "    {'id': 53, 'name': 'Thriller'}],\n",
       "   None,\n",
       "   194],\n",
       "  ['Jurassic World',\n",
       "   135397,\n",
       "   1671713208,\n",
       "   [{'id': 28, 'name': 'Action'},\n",
       "    {'id': 12, 'name': 'Adventure'},\n",
       "    {'id': 878, 'name': 'Science Fiction'},\n",
       "    {'id': 53, 'name': 'Thriller'}],\n",
       "   {'id': 328,\n",
       "    'name': 'Jurassic Park Collection',\n",
       "    'poster_path': '/qIm2nHXLpBBdMxi8dvfrnDkBUDh.jpg',\n",
       "    'backdrop_path': '/pJjIH9QN0OkHFV9eue6XfRVnPkr.jpg'},\n",
       "   124],\n",
       "  ['The Lion King',\n",
       "   420818,\n",
       "   1656943394,\n",
       "   [{'id': 12, 'name': 'Adventure'}, {'id': 10751, 'name': 'Family'}],\n",
       "   None,\n",
       "   118],\n",
       "  ['The Avengers',\n",
       "   24428,\n",
       "   1519557910,\n",
       "   [{'id': 878, 'name': 'Science Fiction'},\n",
       "    {'id': 28, 'name': 'Action'},\n",
       "    {'id': 12, 'name': 'Adventure'}],\n",
       "   {'id': 86311,\n",
       "    'name': 'The Avengers Collection',\n",
       "    'poster_path': '/yFSIUVTCvgYrpalUktulvk3Gi5Y.jpg',\n",
       "    'backdrop_path': '/zuW6fOiusv4X9nnW3paHGfXcSll.jpg'},\n",
       "   143],\n",
       "  ['Furious 7',\n",
       "   168259,\n",
       "   1506249360,\n",
       "   [{'id': 28, 'name': 'Action'}, {'id': 53, 'name': 'Thriller'}],\n",
       "   {'id': 9485,\n",
       "    'name': 'The Fast and the Furious Collection',\n",
       "    'poster_path': '/uv63yAGg1zETAs1XQsOQpava87l.jpg',\n",
       "    'backdrop_path': '/z5A5W3WYJc3UVEWljSGwdjDgQ0j.jpg'},\n",
       "   137],\n",
       "  ['Avengers: Age of Ultron',\n",
       "   99861,\n",
       "   1405403694,\n",
       "   [{'id': 28, 'name': 'Action'},\n",
       "    {'id': 12, 'name': 'Adventure'},\n",
       "    {'id': 878, 'name': 'Science Fiction'}],\n",
       "   {'id': 86311,\n",
       "    'name': 'The Avengers Collection',\n",
       "    'poster_path': '/yFSIUVTCvgYrpalUktulvk3Gi5Y.jpg',\n",
       "    'backdrop_path': '/zuW6fOiusv4X9nnW3paHGfXcSll.jpg'},\n",
       "   141],\n",
       "  ['Black Panther',\n",
       "   284054,\n",
       "   1346739107,\n",
       "   [{'id': 28, 'name': 'Action'},\n",
       "    {'id': 12, 'name': 'Adventure'},\n",
       "    {'id': 14, 'name': 'Fantasy'},\n",
       "    {'id': 878, 'name': 'Science Fiction'}],\n",
       "   {'id': 529892,\n",
       "    'name': 'Black Panther Collection',\n",
       "    'poster_path': '/9ZSPIsxI3TZDgfg0Jzk0RZl4INg.jpg',\n",
       "    'backdrop_path': '/1Jj7Frjjbewb6Q6dl6YXhL3kuvL.jpg'},\n",
       "   134],\n",
       "  ['Harry Potter and the Deathly Hallows: Part 2',\n",
       "   12445,\n",
       "   1341511219,\n",
       "   [{'id': 14, 'name': 'Fantasy'}, {'id': 12, 'name': 'Adventure'}],\n",
       "   {'id': 1241,\n",
       "    'name': 'Harry Potter Collection',\n",
       "    'poster_path': '/eVPs2Y0LyvTLZn6AP5Z6O2rtiGB.jpg',\n",
       "    'backdrop_path': '/wfnMt6LGqYHcNyOfsuusw5lX3bL.jpg'},\n",
       "   130],\n",
       "  ['Star Wars: The Last Jedi',\n",
       "   181808,\n",
       "   1332539889,\n",
       "   [{'id': 14, 'name': 'Fantasy'},\n",
       "    {'id': 12, 'name': 'Adventure'},\n",
       "    {'id': 878, 'name': 'Science Fiction'},\n",
       "    {'id': 28, 'name': 'Action'}],\n",
       "   {'id': 10,\n",
       "    'name': 'Star Wars Collection',\n",
       "    'poster_path': '/iTQHKziZy9pAAY4hHEDCGPaOvFC.jpg',\n",
       "    'backdrop_path': '/d8duYyyC9J5T825Hg7grmaabfxQ.jpg'},\n",
       "   152],\n",
       "  ['Frozen II',\n",
       "   330457,\n",
       "   1330764959,\n",
       "   [{'id': 16, 'name': 'Animation'},\n",
       "    {'id': 10751, 'name': 'Family'},\n",
       "    {'id': 12, 'name': 'Adventure'}],\n",
       "   {'id': 386382,\n",
       "    'name': 'Frozen Collection',\n",
       "    'poster_path': '/rpoXnE9UzCbjmINhxIi8bZF557B.jpg',\n",
       "    'backdrop_path': '/vZiqhw6oFoMlHSneIdVip9rRou2.jpg'},\n",
       "   104],\n",
       "  ['Jurassic World: Fallen Kingdom',\n",
       "   351286,\n",
       "   1303459585,\n",
       "   [{'id': 28, 'name': 'Action'},\n",
       "    {'id': 12, 'name': 'Adventure'},\n",
       "    {'id': 878, 'name': 'Science Fiction'}],\n",
       "   {'id': 328,\n",
       "    'name': 'Jurassic Park Collection',\n",
       "    'poster_path': '/qIm2nHXLpBBdMxi8dvfrnDkBUDh.jpg',\n",
       "    'backdrop_path': '/pJjIH9QN0OkHFV9eue6XfRVnPkr.jpg'},\n",
       "   129],\n",
       "  ['Frozen',\n",
       "   109445,\n",
       "   1274219009,\n",
       "   [{'id': 16, 'name': 'Animation'},\n",
       "    {'id': 12, 'name': 'Adventure'},\n",
       "    {'id': 10751, 'name': 'Family'}],\n",
       "   {'id': 386382,\n",
       "    'name': 'Frozen Collection',\n",
       "    'poster_path': '/rpoXnE9UzCbjmINhxIi8bZF557B.jpg',\n",
       "    'backdrop_path': '/vZiqhw6oFoMlHSneIdVip9rRou2.jpg'},\n",
       "   102],\n",
       "  ['Beauty and the Beast',\n",
       "   321612,\n",
       "   1263521126,\n",
       "   [{'id': 10751, 'name': 'Family'},\n",
       "    {'id': 14, 'name': 'Fantasy'},\n",
       "    {'id': 10749, 'name': 'Romance'}],\n",
       "   None,\n",
       "   129],\n",
       "  ['Incredibles 2',\n",
       "   260513,\n",
       "   1241891456,\n",
       "   [{'id': 28, 'name': 'Action'},\n",
       "    {'id': 12, 'name': 'Adventure'},\n",
       "    {'id': 16, 'name': 'Animation'},\n",
       "    {'id': 10751, 'name': 'Family'}],\n",
       "   {'id': 468222,\n",
       "    'name': 'The Incredibles Collection',\n",
       "    'poster_path': '/l7GqbzkJwowYRIXAtUz2iCPi64a.jpg',\n",
       "    'backdrop_path': '/9eDW2dVhnzPS2HvaRdK2OlAGaLq.jpg'},\n",
       "   118]]}"
      ]
     },
     "execution_count": 11,
     "metadata": {},
     "output_type": "execute_result"
    }
   ],
   "source": [
    "data"
   ]
  },
  {
   "cell_type": "code",
   "execution_count": 10,
   "metadata": {},
   "outputs": [
    {
     "ename": "ValueError",
     "evalue": "arrays must all be same length",
     "output_type": "error",
     "traceback": [
      "\u001b[0;31m---------------------------------------------------------------------------\u001b[0m",
      "\u001b[0;31mValueError\u001b[0m                                Traceback (most recent call last)",
      "\u001b[0;32m<ipython-input-10-d1192c0ddc6b>\u001b[0m in \u001b[0;36m<module>\u001b[0;34m\u001b[0m\n\u001b[0;32m----> 1\u001b[0;31m \u001b[0mdf\u001b[0m \u001b[0;34m=\u001b[0m \u001b[0mpd\u001b[0m\u001b[0;34m.\u001b[0m\u001b[0mDataFrame\u001b[0m\u001b[0;34m(\u001b[0m\u001b[0mdata\u001b[0m\u001b[0;34m)\u001b[0m\u001b[0;34m\u001b[0m\u001b[0;34m\u001b[0m\u001b[0m\n\u001b[0m\u001b[1;32m      2\u001b[0m \u001b[0mdf\u001b[0m\u001b[0;34m\u001b[0m\u001b[0;34m\u001b[0m\u001b[0m\n",
      "\u001b[0;32m~/opt/anaconda3/lib/python3.8/site-packages/pandas/core/frame.py\u001b[0m in \u001b[0;36m__init__\u001b[0;34m(self, data, index, columns, dtype, copy)\u001b[0m\n\u001b[1;32m    466\u001b[0m \u001b[0;34m\u001b[0m\u001b[0m\n\u001b[1;32m    467\u001b[0m         \u001b[0;32melif\u001b[0m \u001b[0misinstance\u001b[0m\u001b[0;34m(\u001b[0m\u001b[0mdata\u001b[0m\u001b[0;34m,\u001b[0m \u001b[0mdict\u001b[0m\u001b[0;34m)\u001b[0m\u001b[0;34m:\u001b[0m\u001b[0;34m\u001b[0m\u001b[0;34m\u001b[0m\u001b[0m\n\u001b[0;32m--> 468\u001b[0;31m             \u001b[0mmgr\u001b[0m \u001b[0;34m=\u001b[0m \u001b[0minit_dict\u001b[0m\u001b[0;34m(\u001b[0m\u001b[0mdata\u001b[0m\u001b[0;34m,\u001b[0m \u001b[0mindex\u001b[0m\u001b[0;34m,\u001b[0m \u001b[0mcolumns\u001b[0m\u001b[0;34m,\u001b[0m \u001b[0mdtype\u001b[0m\u001b[0;34m=\u001b[0m\u001b[0mdtype\u001b[0m\u001b[0;34m)\u001b[0m\u001b[0;34m\u001b[0m\u001b[0;34m\u001b[0m\u001b[0m\n\u001b[0m\u001b[1;32m    469\u001b[0m         \u001b[0;32melif\u001b[0m \u001b[0misinstance\u001b[0m\u001b[0;34m(\u001b[0m\u001b[0mdata\u001b[0m\u001b[0;34m,\u001b[0m \u001b[0mma\u001b[0m\u001b[0;34m.\u001b[0m\u001b[0mMaskedArray\u001b[0m\u001b[0;34m)\u001b[0m\u001b[0;34m:\u001b[0m\u001b[0;34m\u001b[0m\u001b[0;34m\u001b[0m\u001b[0m\n\u001b[1;32m    470\u001b[0m             \u001b[0;32mimport\u001b[0m \u001b[0mnumpy\u001b[0m\u001b[0;34m.\u001b[0m\u001b[0mma\u001b[0m\u001b[0;34m.\u001b[0m\u001b[0mmrecords\u001b[0m \u001b[0;32mas\u001b[0m \u001b[0mmrecords\u001b[0m\u001b[0;34m\u001b[0m\u001b[0;34m\u001b[0m\u001b[0m\n",
      "\u001b[0;32m~/opt/anaconda3/lib/python3.8/site-packages/pandas/core/internals/construction.py\u001b[0m in \u001b[0;36minit_dict\u001b[0;34m(data, index, columns, dtype)\u001b[0m\n\u001b[1;32m    281\u001b[0m             \u001b[0marr\u001b[0m \u001b[0;32mif\u001b[0m \u001b[0;32mnot\u001b[0m \u001b[0mis_datetime64tz_dtype\u001b[0m\u001b[0;34m(\u001b[0m\u001b[0marr\u001b[0m\u001b[0;34m)\u001b[0m \u001b[0;32melse\u001b[0m \u001b[0marr\u001b[0m\u001b[0;34m.\u001b[0m\u001b[0mcopy\u001b[0m\u001b[0;34m(\u001b[0m\u001b[0;34m)\u001b[0m \u001b[0;32mfor\u001b[0m \u001b[0marr\u001b[0m \u001b[0;32min\u001b[0m \u001b[0marrays\u001b[0m\u001b[0;34m\u001b[0m\u001b[0;34m\u001b[0m\u001b[0m\n\u001b[1;32m    282\u001b[0m         ]\n\u001b[0;32m--> 283\u001b[0;31m     \u001b[0;32mreturn\u001b[0m \u001b[0marrays_to_mgr\u001b[0m\u001b[0;34m(\u001b[0m\u001b[0marrays\u001b[0m\u001b[0;34m,\u001b[0m \u001b[0mdata_names\u001b[0m\u001b[0;34m,\u001b[0m \u001b[0mindex\u001b[0m\u001b[0;34m,\u001b[0m \u001b[0mcolumns\u001b[0m\u001b[0;34m,\u001b[0m \u001b[0mdtype\u001b[0m\u001b[0;34m=\u001b[0m\u001b[0mdtype\u001b[0m\u001b[0;34m)\u001b[0m\u001b[0;34m\u001b[0m\u001b[0;34m\u001b[0m\u001b[0m\n\u001b[0m\u001b[1;32m    284\u001b[0m \u001b[0;34m\u001b[0m\u001b[0m\n\u001b[1;32m    285\u001b[0m \u001b[0;34m\u001b[0m\u001b[0m\n",
      "\u001b[0;32m~/opt/anaconda3/lib/python3.8/site-packages/pandas/core/internals/construction.py\u001b[0m in \u001b[0;36marrays_to_mgr\u001b[0;34m(arrays, arr_names, index, columns, dtype, verify_integrity)\u001b[0m\n\u001b[1;32m     76\u001b[0m         \u001b[0;31m# figure out the index, if necessary\u001b[0m\u001b[0;34m\u001b[0m\u001b[0;34m\u001b[0m\u001b[0;34m\u001b[0m\u001b[0m\n\u001b[1;32m     77\u001b[0m         \u001b[0;32mif\u001b[0m \u001b[0mindex\u001b[0m \u001b[0;32mis\u001b[0m \u001b[0;32mNone\u001b[0m\u001b[0;34m:\u001b[0m\u001b[0;34m\u001b[0m\u001b[0;34m\u001b[0m\u001b[0m\n\u001b[0;32m---> 78\u001b[0;31m             \u001b[0mindex\u001b[0m \u001b[0;34m=\u001b[0m \u001b[0mextract_index\u001b[0m\u001b[0;34m(\u001b[0m\u001b[0marrays\u001b[0m\u001b[0;34m)\u001b[0m\u001b[0;34m\u001b[0m\u001b[0;34m\u001b[0m\u001b[0m\n\u001b[0m\u001b[1;32m     79\u001b[0m         \u001b[0;32melse\u001b[0m\u001b[0;34m:\u001b[0m\u001b[0;34m\u001b[0m\u001b[0;34m\u001b[0m\u001b[0m\n\u001b[1;32m     80\u001b[0m             \u001b[0mindex\u001b[0m \u001b[0;34m=\u001b[0m \u001b[0mensure_index\u001b[0m\u001b[0;34m(\u001b[0m\u001b[0mindex\u001b[0m\u001b[0;34m)\u001b[0m\u001b[0;34m\u001b[0m\u001b[0;34m\u001b[0m\u001b[0m\n",
      "\u001b[0;32m~/opt/anaconda3/lib/python3.8/site-packages/pandas/core/internals/construction.py\u001b[0m in \u001b[0;36mextract_index\u001b[0;34m(data)\u001b[0m\n\u001b[1;32m    395\u001b[0m             \u001b[0mlengths\u001b[0m \u001b[0;34m=\u001b[0m \u001b[0mlist\u001b[0m\u001b[0;34m(\u001b[0m\u001b[0mset\u001b[0m\u001b[0;34m(\u001b[0m\u001b[0mraw_lengths\u001b[0m\u001b[0;34m)\u001b[0m\u001b[0;34m)\u001b[0m\u001b[0;34m\u001b[0m\u001b[0;34m\u001b[0m\u001b[0m\n\u001b[1;32m    396\u001b[0m             \u001b[0;32mif\u001b[0m \u001b[0mlen\u001b[0m\u001b[0;34m(\u001b[0m\u001b[0mlengths\u001b[0m\u001b[0;34m)\u001b[0m \u001b[0;34m>\u001b[0m \u001b[0;36m1\u001b[0m\u001b[0;34m:\u001b[0m\u001b[0;34m\u001b[0m\u001b[0;34m\u001b[0m\u001b[0m\n\u001b[0;32m--> 397\u001b[0;31m                 \u001b[0;32mraise\u001b[0m \u001b[0mValueError\u001b[0m\u001b[0;34m(\u001b[0m\u001b[0;34m\"arrays must all be same length\"\u001b[0m\u001b[0;34m)\u001b[0m\u001b[0;34m\u001b[0m\u001b[0;34m\u001b[0m\u001b[0m\n\u001b[0m\u001b[1;32m    398\u001b[0m \u001b[0;34m\u001b[0m\u001b[0m\n\u001b[1;32m    399\u001b[0m             \u001b[0;32mif\u001b[0m \u001b[0mhave_dicts\u001b[0m\u001b[0;34m:\u001b[0m\u001b[0;34m\u001b[0m\u001b[0;34m\u001b[0m\u001b[0m\n",
      "\u001b[0;31mValueError\u001b[0m: arrays must all be same length"
     ]
    }
   ],
   "source": [
    "df = pd.DataFrame(data)\n",
    "df"
   ]
  },
  {
   "cell_type": "code",
   "execution_count": null,
   "metadata": {},
   "outputs": [],
   "source": [
    "df = pd.read_json(\"blockbusters.json\", orient = \"record\")\n",
    "df"
   ]
  },
  {
   "cell_type": "code",
   "execution_count": null,
   "metadata": {},
   "outputs": [],
   "source": [
    "df.info()"
   ]
  },
  {
   "cell_type": "code",
   "execution_count": null,
   "metadata": {},
   "outputs": [],
   "source": [
    "df.genres[0]"
   ]
  },
  {
   "cell_type": "code",
   "execution_count": null,
   "metadata": {},
   "outputs": [],
   "source": [
    "df.belongs_to_collection[0]"
   ]
  },
  {
   "cell_type": "code",
   "execution_count": null,
   "metadata": {},
   "outputs": [],
   "source": [
    "pd.json_normalize(data = data, sep = \"_\")"
   ]
  },
  {
   "cell_type": "code",
   "execution_count": null,
   "metadata": {},
   "outputs": [],
   "source": [
    "pd.json_normalize(data = data, sep = \"_\").genres[0]"
   ]
  },
  {
   "cell_type": "code",
   "execution_count": null,
   "metadata": {
    "scrolled": true
   },
   "outputs": [],
   "source": [
    "pd.json_normalize(data = data, record_path = \"genres\", meta = [\"title\", \"id\"],\n",
    "                  record_prefix = \"genre_\")"
   ]
  },
  {
   "cell_type": "code",
   "execution_count": null,
   "metadata": {},
   "outputs": [],
   "source": []
  },
  {
   "cell_type": "markdown",
   "metadata": {},
   "source": [
    "## Working with APIs and JSON (Part 1)"
   ]
  },
  {
   "cell_type": "code",
   "execution_count": null,
   "metadata": {},
   "outputs": [],
   "source": [
    "api_key  = \"api_key=insert_your_api_key_here!!!\""
   ]
  },
  {
   "cell_type": "code",
   "execution_count": null,
   "metadata": {},
   "outputs": [],
   "source": [
    "#example: assume your personal api-key is \"123abc\"\n",
    "#api_key  = \"api_key=123abc\""
   ]
  },
  {
   "cell_type": "code",
   "execution_count": null,
   "metadata": {},
   "outputs": [],
   "source": [
    "import pandas as pd\n",
    "import requests\n",
    "pd.options.display.max_columns = 30"
   ]
  },
  {
   "cell_type": "code",
   "execution_count": null,
   "metadata": {},
   "outputs": [],
   "source": [
    "movie_id = 140607"
   ]
  },
  {
   "cell_type": "code",
   "execution_count": null,
   "metadata": {},
   "outputs": [],
   "source": [
    "movie_api = \"https://api.themoviedb.org/3/movie/{}?\"\n",
    "movie_api"
   ]
  },
  {
   "cell_type": "code",
   "execution_count": null,
   "metadata": {},
   "outputs": [],
   "source": [
    "url = movie_api.format(movie_id) + api_key\n",
    "url"
   ]
  },
  {
   "cell_type": "code",
   "execution_count": null,
   "metadata": {},
   "outputs": [],
   "source": [
    "r = requests.get(url)\n",
    "r"
   ]
  },
  {
   "cell_type": "code",
   "execution_count": null,
   "metadata": {},
   "outputs": [],
   "source": [
    "data = r.json()"
   ]
  },
  {
   "cell_type": "code",
   "execution_count": null,
   "metadata": {},
   "outputs": [],
   "source": [
    "data"
   ]
  },
  {
   "cell_type": "code",
   "execution_count": null,
   "metadata": {},
   "outputs": [],
   "source": [
    "type(data)"
   ]
  },
  {
   "cell_type": "code",
   "execution_count": null,
   "metadata": {
    "scrolled": true
   },
   "outputs": [],
   "source": [
    "#pd.DataFrame(data)"
   ]
  },
  {
   "cell_type": "code",
   "execution_count": null,
   "metadata": {},
   "outputs": [],
   "source": [
    "pd.Series(data)"
   ]
  },
  {
   "cell_type": "code",
   "execution_count": null,
   "metadata": {},
   "outputs": [],
   "source": [
    "df = pd.Series(data).to_frame().T\n",
    "df"
   ]
  },
  {
   "cell_type": "code",
   "execution_count": null,
   "metadata": {},
   "outputs": [],
   "source": [
    "pd.json_normalize(data, sep = \"_\")"
   ]
  },
  {
   "cell_type": "code",
   "execution_count": null,
   "metadata": {},
   "outputs": [],
   "source": [
    "pd.json_normalize(data = data, record_path = \"genres\", meta = \"title\")"
   ]
  },
  {
   "cell_type": "code",
   "execution_count": null,
   "metadata": {},
   "outputs": [],
   "source": [
    "pd.json_normalize(data = data, record_path = \"production_companies\", meta = \"title\")"
   ]
  },
  {
   "cell_type": "code",
   "execution_count": null,
   "metadata": {},
   "outputs": [],
   "source": []
  },
  {
   "cell_type": "markdown",
   "metadata": {},
   "source": [
    "## Working with APIs and JSON (Part 2)"
   ]
  },
  {
   "cell_type": "code",
   "execution_count": null,
   "metadata": {},
   "outputs": [],
   "source": [
    "import pandas as pd\n",
    "import requests\n",
    "pd.options.display.max_columns = 30"
   ]
  },
  {
   "cell_type": "code",
   "execution_count": null,
   "metadata": {},
   "outputs": [],
   "source": [
    "discover_api = \"https://api.themoviedb.org/3/discover/movie?\""
   ]
  },
  {
   "cell_type": "code",
   "execution_count": null,
   "metadata": {},
   "outputs": [],
   "source": [
    "query = \"&primary_release_date.gte=2020-01-01&primary_release_date.lte=2020-02-29\""
   ]
  },
  {
   "cell_type": "code",
   "execution_count": null,
   "metadata": {},
   "outputs": [],
   "source": [
    "url = discover_api+api_key+query"
   ]
  },
  {
   "cell_type": "code",
   "execution_count": null,
   "metadata": {},
   "outputs": [],
   "source": [
    "data = requests.get(url).json()"
   ]
  },
  {
   "cell_type": "code",
   "execution_count": null,
   "metadata": {},
   "outputs": [],
   "source": [
    "data"
   ]
  },
  {
   "cell_type": "code",
   "execution_count": null,
   "metadata": {},
   "outputs": [],
   "source": [
    "pd.DataFrame(data)"
   ]
  },
  {
   "cell_type": "code",
   "execution_count": null,
   "metadata": {
    "scrolled": false
   },
   "outputs": [],
   "source": [
    "pd.DataFrame(data[\"results\"])"
   ]
  },
  {
   "cell_type": "code",
   "execution_count": null,
   "metadata": {},
   "outputs": [],
   "source": []
  },
  {
   "cell_type": "markdown",
   "metadata": {},
   "source": [
    "##  Importing and Saving the Movies Dataset (Best Practice)"
   ]
  },
  {
   "cell_type": "code",
   "execution_count": null,
   "metadata": {},
   "outputs": [],
   "source": [
    "import pandas as pd\n",
    "import requests\n",
    "import json\n",
    "pd.options.display.max_columns = 30"
   ]
  },
  {
   "cell_type": "code",
   "execution_count": null,
   "metadata": {},
   "outputs": [],
   "source": [
    "movie_id = [0, 299534, 19995, 140607, 299536, 597, 135397,\n",
    "            420818, 24428, 168259, 99861, 284054, 12445,\n",
    "            181808, 330457, 351286, 109445, 321612, 260513]"
   ]
  },
  {
   "cell_type": "code",
   "execution_count": null,
   "metadata": {},
   "outputs": [],
   "source": [
    "basic_url = 'https://api.themoviedb.org/3/movie/{}?{}' "
   ]
  },
  {
   "cell_type": "code",
   "execution_count": null,
   "metadata": {},
   "outputs": [],
   "source": [
    "json_list = []\n",
    "for movie in movie_id:\n",
    "    url = basic_url.format(movie, api_key)\n",
    "    r = requests.get(url)\n",
    "    if r.status_code != 200:\n",
    "        continue\n",
    "    else:\n",
    "        data = r.json()\n",
    "        json_list.append(data) \n",
    "df = pd.DataFrame(json_list)"
   ]
  },
  {
   "cell_type": "code",
   "execution_count": null,
   "metadata": {},
   "outputs": [],
   "source": [
    "requests.get(basic_url.format(0, api_key)).status_code"
   ]
  },
  {
   "cell_type": "code",
   "execution_count": null,
   "metadata": {},
   "outputs": [],
   "source": [
    "df"
   ]
  },
  {
   "cell_type": "code",
   "execution_count": null,
   "metadata": {},
   "outputs": [],
   "source": [
    "df = df.loc[:, [\"title\", \"id\", \"revenue\", \"genres\", \"belongs_to_collection\", \"runtime\"]].sort_values(by = \"revenue\",\n",
    "                                                                                                ascending = False)"
   ]
  },
  {
   "cell_type": "code",
   "execution_count": null,
   "metadata": {},
   "outputs": [],
   "source": [
    "df"
   ]
  },
  {
   "cell_type": "code",
   "execution_count": null,
   "metadata": {},
   "outputs": [],
   "source": [
    "df.to_json(\"movies.json\", orient = \"records\")"
   ]
  },
  {
   "cell_type": "code",
   "execution_count": null,
   "metadata": {},
   "outputs": [],
   "source": [
    "with open(\"movies.json\") as f:\n",
    "    data = json.load(f)"
   ]
  },
  {
   "cell_type": "code",
   "execution_count": null,
   "metadata": {},
   "outputs": [],
   "source": [
    "pd.json_normalize(data)"
   ]
  },
  {
   "cell_type": "code",
   "execution_count": null,
   "metadata": {},
   "outputs": [],
   "source": [
    "pd.json_normalize(data, \"genres\", \"title\")"
   ]
  },
  {
   "cell_type": "code",
   "execution_count": null,
   "metadata": {},
   "outputs": [],
   "source": []
  },
  {
   "cell_type": "markdown",
   "metadata": {},
   "source": [
    "# Importing and Saving the Movies Dataset (Real World Scenario)"
   ]
  },
  {
   "cell_type": "code",
   "execution_count": null,
   "metadata": {},
   "outputs": [],
   "source": [
    "df"
   ]
  },
  {
   "cell_type": "code",
   "execution_count": null,
   "metadata": {},
   "outputs": [],
   "source": [
    "df.to_csv(\"movies_raw.csv\", index = False)"
   ]
  },
  {
   "cell_type": "code",
   "execution_count": null,
   "metadata": {},
   "outputs": [],
   "source": [
    "df = pd.read_csv(\"movies_raw.csv\")"
   ]
  },
  {
   "cell_type": "code",
   "execution_count": null,
   "metadata": {},
   "outputs": [],
   "source": [
    "df"
   ]
  },
  {
   "cell_type": "code",
   "execution_count": null,
   "metadata": {},
   "outputs": [],
   "source": [
    "df.genres[0]"
   ]
  },
  {
   "cell_type": "code",
   "execution_count": null,
   "metadata": {},
   "outputs": [],
   "source": []
  }
 ],
 "metadata": {
  "kernelspec": {
   "display_name": "Python 3",
   "language": "python",
   "name": "python3"
  },
  "language_info": {
   "codemirror_mode": {
    "name": "ipython",
    "version": 3
   },
   "file_extension": ".py",
   "mimetype": "text/x-python",
   "name": "python",
   "nbconvert_exporter": "python",
   "pygments_lexer": "ipython3",
   "version": "3.8.5"
  }
 },
 "nbformat": 4,
 "nbformat_minor": 4
}
