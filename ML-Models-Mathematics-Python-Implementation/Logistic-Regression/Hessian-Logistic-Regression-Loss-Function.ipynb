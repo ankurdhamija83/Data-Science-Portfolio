{
 "cells": [
  {
   "cell_type": "markdown",
   "metadata": {},
   "source": [
    "# Derivation of the Hessian of the Logistic Regression Loss Function"
   ]
  },
  {
   "cell_type": "markdown",
   "metadata": {},
   "source": [
    "We start with the `average empirical loss for logistic regression`\n",
    "\n",
    "<h3><center>$ J(\\theta) = -(1/n)\\sum_ {i=1}^{n}(y^{(i)}log(h_{\\theta}(x^{(i)}))+(1-y^{(i)})log(1-h_{\\theta}(x^{(i)}))) $</h3></center>\n",
    "\n",
    "where <br>\n",
    "$ y^{(i)} \\in \\{0,1\\}$<br>\n",
    "$h_{\\theta}(x) = g({\\theta}^Tx) $<br>\n",
    "$g(z) = 1/(1+e^{-z})$\n",
    "\n",
    "--------\n"
   ]
  },
  {
   "cell_type": "markdown",
   "metadata": {},
   "source": [
    "### 1.1 We first calculate the derivative of $g(z)$ w.r.t. $\\theta$ to make our calculations easier."
   ]
  },
  {
   "cell_type": "markdown",
   "metadata": {},
   "source": [
    "$g(z) = \\frac{1}{1+e^{-z}}$"
   ]
  },
  {
   "cell_type": "markdown",
   "metadata": {},
   "source": [
    "Rewrite as : $g(z) = \\frac{e^z}{(1+e^{z})}$"
   ]
  },
  {
   "cell_type": "markdown",
   "metadata": {},
   "source": [
    "Rewrite as: $g(z) = e^z*(1+e^{z})^{(-1)}$"
   ]
  },
  {
   "cell_type": "markdown",
   "metadata": {},
   "source": [
    "Taking the derivative of $g(z)$. Using product rule and exponent derivative $de^x/dx = e^x$"
   ]
  },
  {
   "cell_type": "markdown",
   "metadata": {},
   "source": [
    "$g'(z) = e^z*(1+e^{z})^{(-1)} + e^z(-1)(1+e^z)^{(-2)}e^z$"
   ]
  },
  {
   "cell_type": "markdown",
   "metadata": {},
   "source": [
    "We can rewrite the above equation as:\n",
    "$g'(z) = g(z)*(1-g(z))$ \n",
    "\n",
    "---------"
   ]
  },
  {
   "cell_type": "markdown",
   "metadata": {},
   "source": [
    "## 1.2 Calculate the derivative of $log(h_{\\theta}(x^i))$ and $log(1-h_{\\theta}(x^{(i)}))$"
   ]
  },
  {
   "cell_type": "markdown",
   "metadata": {},
   "source": [
    "We also make use of the log differential rule: \n",
    "\n",
    "$d(log(x))/dx = 1/x$"
   ]
  },
  {
   "cell_type": "markdown",
   "metadata": {},
   "source": [
    "We primarily use the chain rule and log differentiation to calculate the derivatives below. \n",
    "\n",
    "$\\frac{\\partial log(h_{\\theta}(x^i))}{\\partial \\theta_1}  = [1/h_{\\theta}(x^i)]*[h_{\\theta}(x^i)*(1-h_{\\theta}(x^i))]*x_1^i=(1-h_{\\theta}(x^i))*x_1^i$\n",
    "\n",
    "$\\frac{\\partial log(1-h_{\\theta}(x^i))}{\\partial \\theta_1} = [1/(1-h_{\\theta}(x^i))]*[(-1)*h_{\\theta}(x^i)*(1-h_{\\theta}(x^i))]*x_1^i=-h_{\\theta}(x^i)*x_1^i$\n",
    "\n",
    "-------"
   ]
  },
  {
   "cell_type": "markdown",
   "metadata": {},
   "source": [
    "## 1.3 Calculate the derivative of the Loss function\n",
    "\n",
    "$\\frac{\\partial J(\\theta)}{\\partial \\theta_1}=-(1/n)\\sum_ {i=1}^{n}[y^{(i)}*\\frac{\\partial log(h_{\\theta}(x^{(i)}))}{\\partial \\theta_1}+(1-y^{(i)})*\\frac{\\partial log(1-h_{\\theta}(x^{(i)}))}{\\partial \\theta_1}]$<br>\n",
    "\n",
    "$\\frac{\\partial J(\\theta)}{\\partial \\theta_1}=-(1/n)\\sum_ {i=1}^{n}[y^{(i)}*(1-h_{\\theta}(x^i))*x_1^i+(1-y^{(i)})*(-1)h_{\\theta}(x^i)*x_1^i]$<br>\n",
    "\n",
    "$\\frac{\\partial J(\\theta)}{\\partial \\theta_1}=-(1/n)\\sum_ {i=1}^{n}[x_1^i*(y^{(i)}-y^{(i)}*h_{\\theta}(x^i)-h_{\\theta}(x^i)+y^{(i)}*h_{\\theta}(x^i))]$<br>"
   ]
  },
  {
   "cell_type": "markdown",
   "metadata": {},
   "source": [
    "Further solving the equation algebraically\n",
    "\n",
    "$\\frac{\\partial J(\\theta)}{\\partial \\theta_1}=-(1/n)\\sum_ {i=1}^{n}[x_1^i*(y^{(i)}-y^{(i)}*h_{\\theta}(x^i)-h_{\\theta}(x^i)+y^{(i)}*h_{\\theta}(x^i))]$<br>\n",
    "\n",
    "Cancelling out - $(y^{(i)}*h_{\\theta}(x^i))+(y^{(i)}*h_{\\theta}(x^i))$<br>\n",
    "\n",
    "$\\frac{\\partial J(\\theta)}{\\partial \\theta_1}=-(1/n)\\sum_ {i=1}^{n}[x_1^i*(y^{(i)}-h_{\\theta}(x^i))]$"
   ]
  },
  {
   "cell_type": "markdown",
   "metadata": {},
   "source": [
    "**Now, let us calculate the Hessian by taking the partial derivative of the above Equation w.r.t. $\\theta_2$**"
   ]
  },
  {
   "cell_type": "markdown",
   "metadata": {},
   "source": [
    "$\\frac{\\partial J(\\theta)}{\\partial \\theta_1\\partial \\theta_2}=-(1/n)\\sum_ {i=1}^{n}\\frac{\\partial [x_1^i*(y^{(i)}-h_{\\theta}(x^i))]}{\\partial \\theta_2}$"
   ]
  },
  {
   "cell_type": "markdown",
   "metadata": {},
   "source": [
    "$\\frac{\\partial J(\\theta)}{\\partial \\theta_1\\partial \\theta_2}=-(1/n)\\sum_ {i=1}^{n}(-1)(x_1^i)(h_{\\theta}(x^i))(1-h_{\\theta}(x^i))(x_2^i)$"
   ]
  },
  {
   "cell_type": "markdown",
   "metadata": {},
   "source": [
    "$\\frac{\\partial J(\\theta)}{\\partial \\theta_1\\partial \\theta_2}=(1/n)\\sum_ {i=1}^{n}(x_1^i)(h_{\\theta}(x^i))(1-h_{\\theta}(x^i))(x_2^i)$"
   ]
  },
  {
   "cell_type": "markdown",
   "metadata": {},
   "source": [
    "## 1.4 Prove that the Hessian is Positive-semidefinite"
   ]
  },
  {
   "cell_type": "markdown",
   "metadata": {},
   "source": [
    "**Using the fact that $X_{ij} = x_ix_j$ if and only if $X=xx^T$, we have the full Hessian as**"
   ]
  },
  {
   "cell_type": "markdown",
   "metadata": {},
   "source": [
    "$H=(1/n)\\sum_ {i=1}^{n}(h_{\\theta}(x^{(i)}))(1-h_{\\theta}(x^{(i)}))(x^{(i)}x^{{(i)}T})$"
   ]
  },
  {
   "cell_type": "markdown",
   "metadata": {},
   "source": [
    "To prove that $H$ is $PSD$, we need to show that $z^THz\\ge0$ for all $z \\in R^d$"
   ]
  },
  {
   "cell_type": "markdown",
   "metadata": {},
   "source": [
    "$z^THz = z^T[(1/n)\\sum_ {i=1}^{n}(h_{\\theta}(x^{(i)}))(1-h_{\\theta}(x^{(i)}))(x^{(i)}x^{{(i)}T})]z$"
   ]
  },
  {
   "cell_type": "markdown",
   "metadata": {},
   "source": [
    "$z^THz = (1/n)\\sum_ {i=1}^{n}(h_{\\theta}(x^{(i)}))(1-h_{\\theta}(x^{(i)}))z^Tx^{(i)}x^{{(i)}T}z$"
   ]
  },
  {
   "cell_type": "markdown",
   "metadata": {},
   "source": [
    "**We can write $z^Tx^{(i)}x^{{(i)}T}z$ as $[z^Tx^{(i)}]^2$**"
   ]
  },
  {
   "cell_type": "markdown",
   "metadata": {},
   "source": [
    "$z^THz = (1/n)\\sum_ {i=1}^{n}(h_{\\theta}(x^{(i)}))(1-h_{\\theta}(x^{(i)}))[z^Tx^{(i)}]^2$"
   ]
  },
  {
   "cell_type": "markdown",
   "metadata": {},
   "source": [
    "Since $[z^Tx^{(i)}]^2$ is always $\\ge 0$ and $(h_{\\theta}(x^{(i)}))(1-h_{\\theta}(x^{(i)})) \\in [0,1]$, we can say that the $z^THz \\ge 0$ and the matrix H is positive semi-definite."
   ]
  },
  {
   "cell_type": "markdown",
   "metadata": {},
   "source": [
    "--------\n",
    "### End of Derivation"
   ]
  },
  {
   "cell_type": "code",
   "execution_count": null,
   "metadata": {},
   "outputs": [],
   "source": []
  }
 ],
 "metadata": {
  "kernelspec": {
   "display_name": "Python 3",
   "language": "python",
   "name": "python3"
  },
  "language_info": {
   "codemirror_mode": {
    "name": "ipython",
    "version": 3
   },
   "file_extension": ".py",
   "mimetype": "text/x-python",
   "name": "python",
   "nbconvert_exporter": "python",
   "pygments_lexer": "ipython3",
   "version": "3.8.5"
  }
 },
 "nbformat": 4,
 "nbformat_minor": 4
}
